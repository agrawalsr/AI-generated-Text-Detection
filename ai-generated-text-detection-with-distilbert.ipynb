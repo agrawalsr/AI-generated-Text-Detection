{
 "cells": [
  {
   "cell_type": "markdown",
   "id": "87653ca1",
   "metadata": {
    "papermill": {
     "duration": 0.02742,
     "end_time": "2023-12-17T13:43:26.614901",
     "exception": false,
     "start_time": "2023-12-17T13:43:26.587481",
     "status": "completed"
    },
    "tags": []
   },
   "source": [
    "# AI Generated Text Detection with DistilBert"
   ]
  },
  {
   "cell_type": "code",
   "execution_count": 1,
   "id": "17e8e007",
   "metadata": {
    "papermill": {
     "duration": 18.678042,
     "end_time": "2023-12-17T13:43:45.320459",
     "exception": false,
     "start_time": "2023-12-17T13:43:26.642417",
     "status": "completed"
    },
    "tags": []
   },
   "outputs": [],
   "source": [
    "import numpy as np\n",
    "import pandas as pd\n",
    "from transformers import DistilBertTokenizer, TFDistilBertModel\n",
    "import matplotlib.pyplot as plt\n",
    "import tensorflow as tf\n",
    "from datasets import load_dataset\n",
    "from sklearn.model_selection import train_test_split\n",
    "import gc"
   ]
  },
  {
   "cell_type": "markdown",
   "id": "9ee69d22",
   "metadata": {
    "papermill": {
     "duration": 0.026226,
     "end_time": "2023-12-17T13:43:45.376652",
     "exception": false,
     "start_time": "2023-12-17T13:43:45.350426",
     "status": "completed"
    },
    "tags": []
   },
   "source": [
    "## Distribution Strategy"
   ]
  },
  {
   "cell_type": "code",
   "execution_count": 2,
   "id": "1daf329a",
   "metadata": {
    "papermill": {
     "duration": 0.045377,
     "end_time": "2023-12-17T13:43:45.448432",
     "exception": false,
     "start_time": "2023-12-17T13:43:45.403055",
     "status": "completed"
    },
    "tags": []
   },
   "outputs": [
    {
     "name": "stdout",
     "output_type": "stream",
     "text": [
      "Number of replicas: 1\n"
     ]
    }
   ],
   "source": [
    "try:\n",
    "    tpu = tf.distribute.cluster_resolver.TPUClusterResolver()\n",
    "    tf.config.experimental_connect_to_cluster(tpu)\n",
    "    tf.tpu.experimental.initialize_tpu_system(tpu)\n",
    "    strategy = tf.distribute.experimental.TPUStrategy(tpu)\n",
    "except ValueError:\n",
    "    strategy = tf.distribute.get_strategy() # for CPU and single GPU\n",
    "print('Number of replicas:', strategy.num_replicas_in_sync)"
   ]
  },
  {
   "cell_type": "markdown",
   "id": "d70e19aa",
   "metadata": {
    "papermill": {
     "duration": 0.026546,
     "end_time": "2023-12-17T13:43:45.503173",
     "exception": false,
     "start_time": "2023-12-17T13:43:45.476627",
     "status": "completed"
    },
    "tags": []
   },
   "source": [
    "## Configuration"
   ]
  },
  {
   "cell_type": "code",
   "execution_count": 3,
   "id": "0805501e",
   "metadata": {
    "papermill": {
     "duration": 0.03265,
     "end_time": "2023-12-17T13:43:45.562806",
     "exception": false,
     "start_time": "2023-12-17T13:43:45.530156",
     "status": "completed"
    },
    "tags": []
   },
   "outputs": [],
   "source": [
    "class CFG:\n",
    "    batch_size = strategy.num_replicas_in_sync * 16 if strategy.num_replicas_in_sync != 1 else 128\n",
    "    sequence_length = 128\n",
    "    is_training = False"
   ]
  },
  {
   "cell_type": "markdown",
   "id": "6f60948f",
   "metadata": {
    "papermill": {
     "duration": 0.026403,
     "end_time": "2023-12-17T13:43:45.616057",
     "exception": false,
     "start_time": "2023-12-17T13:43:45.589654",
     "status": "completed"
    },
    "tags": []
   },
   "source": [
    "## Load data"
   ]
  },
  {
   "cell_type": "code",
   "execution_count": 4,
   "id": "00e5e8c3-8d5e-4d72-831b-b1276a2ba337",
   "metadata": {},
   "outputs": [],
   "source": [
    "train_essay = pd.read_csv(r\"D:\\Downloads\\LLM-Text-Detection-main\\Actual-Datasets\\train_essays.csv\")\n",
    "test_essay = pd.read_csv(r\"D:\\Downloads\\LLM-Text-Detection-main\\Actual-Datasets\\test_essays.csv\")\n",
    "ai_df = train_essay[train_essay['generated']==1]\n",
    "df = pd.read_csv(r\"D:\\Downloads\\LLM-Text-Detection-main\\Extra-Datasets-Used\\Training_Essay_Data.csv\")"
   ]
  },
  {
   "cell_type": "code",
   "execution_count": 5,
   "id": "4e9d0ac6-72c9-4c40-a37f-daee82b1c2ad",
   "metadata": {},
   "outputs": [],
   "source": [
    "df2 = pd.read_csv(r\"D:\\Downloads\\LLM-Text-Detection-main\\Extra-Datasets-Used\\train_drcat_04.csv\")\n",
    "df2 = df2[['text','label']]\n",
    "df2.columns = ['text','generated']"
   ]
  },
  {
   "cell_type": "code",
   "execution_count": 6,
   "id": "2947dd3a-cb27-4ece-98bd-d2536c66ae73",
   "metadata": {},
   "outputs": [],
   "source": [
    "df3 = pd.read_csv(r\"D:\\Downloads\\LLM-Text-Detection-main\\Extra-Datasets-Used\\train_essays_RDizzl3_seven_v1.csv\")\n",
    "df3.columns = ['text','generated']"
   ]
  },
  {
   "cell_type": "code",
   "execution_count": 7,
   "id": "54a9b895-36dd-48f9-a881-40f43ca78f83",
   "metadata": {},
   "outputs": [],
   "source": [
    "train_data = pd.concat([df3,df2,df],axis=0,ignore_index=True)\n",
    "train_data.drop_duplicates(inplace=True,ignore_index=True)"
   ]
  },
  {
   "cell_type": "code",
   "execution_count": 8,
   "id": "875b0c02-03da-4148-8263-2963865b1b12",
   "metadata": {},
   "outputs": [],
   "source": [
    "d1 = pd.read_csv(r\"D:\\Downloads\\LLM-Text-Detection-main\\Extra-Datasets-Used\\falcon_180b_v1.csv\")\n",
    "d2 = pd.read_csv(r\"D:\\Downloads\\LLM-Text-Detection-main\\Extra-Datasets-Used\\llama_70b_v1.csv\")\n",
    "data = pd.concat([d1,d2],axis=0,ignore_index=True)\n",
    "data['generated'] = 1\n",
    "data.columns = ['text','writing_prompt','generated']\n",
    "data = data[['text','generated']]"
   ]
  },
  {
   "cell_type": "code",
   "execution_count": 9,
   "id": "a2219256-889b-4fa8-baac-21ef95b90663",
   "metadata": {},
   "outputs": [],
   "source": [
    "Train_Data = pd.concat([train_data,data],axis=0,ignore_index=True)\n"
   ]
  },
  {
   "cell_type": "code",
   "execution_count": 10,
   "id": "a1956b96-ba61-4975-9224-7d28e4437075",
   "metadata": {},
   "outputs": [],
   "source": [
    "d = pd.read_csv(\"D:\\Downloads\\LLM-Text-Detection-main\\Extra-Datasets-Used\\LLM_generated_essay_PaLM.csv\")\n",
    "d['generated'] = d['generated'].astype(int)\n",
    "dd = d[['text','generated']]"
   ]
  },
  {
   "cell_type": "code",
   "execution_count": 11,
   "id": "4c7bcfb2-aeb7-4cb4-8c74-4fa1d0210fee",
   "metadata": {},
   "outputs": [],
   "source": [
    "Train_Data  =pd.concat([Train_Data,dd],axis=0,ignore_index=True)\n",
    "Train_Data.drop_duplicates(inplace=True,ignore_index=True)"
   ]
  },
  {
   "cell_type": "code",
   "execution_count": 12,
   "id": "b97706c0-f300-416b-9c9f-23f01a4b04f4",
   "metadata": {},
   "outputs": [],
   "source": [
    "def balance_labels(df, label_column='generated'):\n",
    "    label_counts=df[label_column].value_counts()\n",
    "    max_count=label_counts.max()\n",
    "    \n",
    "    balanced_df=pd.DataFrame()\n",
    "    \n",
    "    for label, count in label_counts.items():\n",
    "        label_subset = df[df[label_column]==label]\n",
    "        oversampled_subset= label_subset.sample(n=(max_count-count), replace=True, random_state=42)\n",
    "        balanced_df = pd.concat([balanced_df, label_subset, oversampled_subset], ignore_index=True)\n",
    "        \n",
    "    return balanced_df"
   ]
  },
  {
   "cell_type": "code",
   "execution_count": 13,
   "id": "3d698a4c-0a7c-45ba-93ef-1dd58dd2c41a",
   "metadata": {},
   "outputs": [
    {
     "data": {
      "image/png": "[encoded data removed]",
      "text/plain": [
       "<Figure size 640x480 with 1 Axes>"
      ]
     },
     "metadata": {},
     "output_type": "display_data"
    }
   ],
   "source": [
    "Train_Data=balance_labels(Train_Data)\n",
    "Train_Data.generated.value_counts().plot(kind='pie',autopct=\"%.1f%%\")\n",
    "plt.title(\"Target Column Distributions\")\n",
    "plt.show()"
   ]
  },
  {
   "cell_type": "code",
   "execution_count": 14,
   "id": "7ec2bde7-eaea-402f-8caa-ed2bd5c2dd33",
   "metadata": {},
   "outputs": [],
   "source": [
    "train = Train_Data"
   ]
  },
  {
   "cell_type": "code",
   "execution_count": 15,
   "id": "79aa923c-fa80-4e78-a759-94703a865eb0",
   "metadata": {},
   "outputs": [
    {
     "data": {
      "text/html": [
       "<div>\n",
       "<style scoped>\n",
       "    .dataframe tbody tr th:only-of-type {\n",
       "        vertical-align: middle;\n",
       "    }\n",
       "\n",
       "    .dataframe tbody tr th {\n",
       "        vertical-align: top;\n",
       "    }\n",
       "\n",
       "    .dataframe thead th {\n",
       "        text-align: right;\n",
       "    }\n",
       "</style>\n",
       "<table border=\"1\" class=\"dataframe\">\n",
       "  <thead>\n",
       "    <tr style=\"text-align: right;\">\n",
       "      <th></th>\n",
       "      <th>text</th>\n",
       "      <th>generated</th>\n",
       "    </tr>\n",
       "  </thead>\n",
       "  <tbody>\n",
       "    <tr>\n",
       "      <th>0</th>\n",
       "      <td>Cars. Cars have been around since they became ...</td>\n",
       "      <td>0</td>\n",
       "    </tr>\n",
       "    <tr>\n",
       "      <th>1</th>\n",
       "      <td>Transportation is a large necessity in most co...</td>\n",
       "      <td>0</td>\n",
       "    </tr>\n",
       "    <tr>\n",
       "      <th>2</th>\n",
       "      <td>\"America's love affair with it's vehicles seem...</td>\n",
       "      <td>0</td>\n",
       "    </tr>\n",
       "    <tr>\n",
       "      <th>3</th>\n",
       "      <td>How often do you ride in a car? Do you drive a...</td>\n",
       "      <td>0</td>\n",
       "    </tr>\n",
       "    <tr>\n",
       "      <th>4</th>\n",
       "      <td>Cars are a wonderful thing. They are perhaps o...</td>\n",
       "      <td>0</td>\n",
       "    </tr>\n",
       "    <tr>\n",
       "      <th>...</th>\n",
       "      <td>...</td>\n",
       "      <td>...</td>\n",
       "    </tr>\n",
       "    <tr>\n",
       "      <th>82509</th>\n",
       "      <td>As an eighth-grade student, I believe that try...</td>\n",
       "      <td>1</td>\n",
       "    </tr>\n",
       "    <tr>\n",
       "      <th>82510</th>\n",
       "      <td>As an eighth-grade student, I believe that goi...</td>\n",
       "      <td>1</td>\n",
       "    </tr>\n",
       "    <tr>\n",
       "      <th>82511</th>\n",
       "      <td>As an eighth-grade student, I believe that cre...</td>\n",
       "      <td>1</td>\n",
       "    </tr>\n",
       "    <tr>\n",
       "      <th>82512</th>\n",
       "      <td>The famous artist Michelangelo once said, \"Th...</td>\n",
       "      <td>1</td>\n",
       "    </tr>\n",
       "    <tr>\n",
       "      <th>82513</th>\n",
       "      <td>When it comes to the difficulties of finding h...</td>\n",
       "      <td>1</td>\n",
       "    </tr>\n",
       "  </tbody>\n",
       "</table>\n",
       "<p>82514 rows × 2 columns</p>\n",
       "</div>"
      ],
      "text/plain": [
       "                                                    text  generated\n",
       "0      Cars. Cars have been around since they became ...          0\n",
       "1      Transportation is a large necessity in most co...          0\n",
       "2      \"America's love affair with it's vehicles seem...          0\n",
       "3      How often do you ride in a car? Do you drive a...          0\n",
       "4      Cars are a wonderful thing. They are perhaps o...          0\n",
       "...                                                  ...        ...\n",
       "82509  As an eighth-grade student, I believe that try...          1\n",
       "82510  As an eighth-grade student, I believe that goi...          1\n",
       "82511  As an eighth-grade student, I believe that cre...          1\n",
       "82512   The famous artist Michelangelo once said, \"Th...          1\n",
       "82513  When it comes to the difficulties of finding h...          1\n",
       "\n",
       "[82514 rows x 2 columns]"
      ]
     },
     "execution_count": 15,
     "metadata": {},
     "output_type": "execute_result"
    }
   ],
   "source": [
    "train"
   ]
  },
  {
   "cell_type": "code",
   "execution_count": null,
   "id": "5bdb2c1e-0e3b-4258-bef8-a3dfe30dfb43",
   "metadata": {},
   "outputs": [],
   "source": []
  },
  {
   "cell_type": "code",
   "execution_count": 16,
   "id": "1c354039",
   "metadata": {
    "papermill": {
     "duration": 2.74265,
     "end_time": "2023-12-17T13:43:48.385055",
     "exception": false,
     "start_time": "2023-12-17T13:43:45.642405",
     "status": "completed"
    },
    "tags": []
   },
   "outputs": [],
   "source": [
    "# train = pd.read_csv(\"/kaggle/input/daigt-v2-train-dataset/train_v2_drcat_02.csv\")\n",
    "# train.head()"
   ]
  },
  {
   "cell_type": "code",
   "execution_count": null,
   "id": "d1140cad-d196-47d7-81f2-b05e65804d12",
   "metadata": {},
   "outputs": [],
   "source": []
  },
  {
   "cell_type": "markdown",
   "id": "ada97ea1",
   "metadata": {
    "papermill": {
     "duration": 0.02696,
     "end_time": "2023-12-17T13:43:48.439432",
     "exception": false,
     "start_time": "2023-12-17T13:43:48.412472",
     "status": "completed"
    },
    "tags": []
   },
   "source": [
    "## Load Pretrained model"
   ]
  },
  {
   "cell_type": "code",
   "execution_count": 17,
   "id": "cf728fce",
   "metadata": {
    "papermill": {
     "duration": 9.222025,
     "end_time": "2023-12-17T13:43:57.688717",
     "exception": false,
     "start_time": "2023-12-17T13:43:48.466692",
     "status": "completed"
    },
    "tags": []
   },
   "outputs": [
    {
     "name": "stderr",
     "output_type": "stream",
     "text": [
      "All model checkpoint layers were used when initializing TFDistilBertModel.\n",
      "\n",
      "All the layers of TFDistilBertModel were initialized from the model checkpoint at D:\\Downloads\\Distill Bert\\encoder.\n",
      "If your task is similar to the task the model of the checkpoint was trained on, you can already use TFDistilBertModel for predictions without further training.\n"
     ]
    }
   ],
   "source": [
    "with strategy.scope():\n",
    "    tokenizer = DistilBertTokenizer.from_pretrained(r\"D:\\Downloads\\Distill Bert\\tokenizer\")\n",
    "    encoder = TFDistilBertModel.from_pretrained(r\"D:\\Downloads\\Distill Bert\\encoder\")\n",
    "    gc.collect()"
   ]
  },
  {
   "cell_type": "code",
   "execution_count": 18,
   "id": "ed333bc7",
   "metadata": {
    "papermill": {
     "duration": 0.043548,
     "end_time": "2023-12-17T13:43:57.760958",
     "exception": false,
     "start_time": "2023-12-17T13:43:57.717410",
     "status": "completed"
    },
    "tags": []
   },
   "outputs": [
    {
     "name": "stdout",
     "output_type": "stream",
     "text": [
      "Model: \"tf_distil_bert_model\"\n",
      "_________________________________________________________________\n",
      " Layer (type)                Output Shape              Param #   \n",
      "=================================================================\n",
      " distilbert (TFDistilBertMai  multiple                 66362880  \n",
      " nLayer)                                                         \n",
      "                                                                 \n",
      "=================================================================\n",
      "Total params: 66,362,880\n",
      "Trainable params: 66,362,880\n",
      "Non-trainable params: 0\n",
      "_________________________________________________________________\n"
     ]
    }
   ],
   "source": [
    "encoder.summary()"
   ]
  },
  {
   "cell_type": "markdown",
   "id": "11a4e17b",
   "metadata": {
    "papermill": {
     "duration": 0.028054,
     "end_time": "2023-12-17T13:43:57.817576",
     "exception": false,
     "start_time": "2023-12-17T13:43:57.789522",
     "status": "completed"
    },
    "tags": []
   },
   "source": [
    "Let's learn about this pretrained model's input and output. When we past a text list to this pretrained model, it returns a dictionary with  key last_hidden_state."
   ]
  },
  {
   "cell_type": "code",
   "execution_count": 19,
   "id": "be282eae",
   "metadata": {
    "papermill": {
     "duration": 0.117056,
     "end_time": "2023-12-17T13:43:57.964367",
     "exception": false,
     "start_time": "2023-12-17T13:43:57.847311",
     "status": "completed"
    },
    "tags": []
   },
   "outputs": [],
   "source": [
    "# texts = [\"hello world.\", \"how are you doing?\"]\n",
    "# text_preprocessed = tokenizer(\n",
    "#     texts, \n",
    "#     max_length = CFG.sequence_length,\n",
    "#     truncation=True, \n",
    "#     padding='max_length',\n",
    "#     add_special_tokens=True,\n",
    "#     return_tensors='tf'\n",
    "# )\n",
    "# print(text_preprocessed)\n",
    "# output = encoder(text_preprocessed)\n",
    "# output"
   ]
  },
  {
   "cell_type": "markdown",
   "id": "7d77f65f",
   "metadata": {
    "papermill": {
     "duration": 0.0303,
     "end_time": "2023-12-17T13:43:58.024143",
     "exception": false,
     "start_time": "2023-12-17T13:43:57.993843",
     "status": "completed"
    },
    "tags": []
   },
   "source": [
    "## Text Preprocessing"
   ]
  },
  {
   "cell_type": "code",
   "execution_count": 20,
   "id": "ca9c78c8",
   "metadata": {
    "papermill": {
     "duration": 0.035786,
     "end_time": "2023-12-17T13:43:58.089388",
     "exception": false,
     "start_time": "2023-12-17T13:43:58.053602",
     "status": "completed"
    },
    "tags": []
   },
   "outputs": [],
   "source": [
    "def preprocess_data(df):\n",
    "    return df"
   ]
  },
  {
   "cell_type": "code",
   "execution_count": 21,
   "id": "4f1434f5",
   "metadata": {
    "papermill": {
     "duration": 0.045076,
     "end_time": "2023-12-17T13:43:58.163456",
     "exception": false,
     "start_time": "2023-12-17T13:43:58.118380",
     "status": "completed"
    },
    "tags": []
   },
   "outputs": [
    {
     "name": "stdout",
     "output_type": "stream",
     "text": [
      "CPU times: total: 0 ns\n",
      "Wall time: 1.32 ms\n"
     ]
    },
    {
     "data": {
      "text/html": [
       "<div>\n",
       "<style scoped>\n",
       "    .dataframe tbody tr th:only-of-type {\n",
       "        vertical-align: middle;\n",
       "    }\n",
       "\n",
       "    .dataframe tbody tr th {\n",
       "        vertical-align: top;\n",
       "    }\n",
       "\n",
       "    .dataframe thead th {\n",
       "        text-align: right;\n",
       "    }\n",
       "</style>\n",
       "<table border=\"1\" class=\"dataframe\">\n",
       "  <thead>\n",
       "    <tr style=\"text-align: right;\">\n",
       "      <th></th>\n",
       "      <th>text</th>\n",
       "      <th>generated</th>\n",
       "    </tr>\n",
       "  </thead>\n",
       "  <tbody>\n",
       "    <tr>\n",
       "      <th>0</th>\n",
       "      <td>Cars. Cars have been around since they became ...</td>\n",
       "      <td>0</td>\n",
       "    </tr>\n",
       "    <tr>\n",
       "      <th>1</th>\n",
       "      <td>Transportation is a large necessity in most co...</td>\n",
       "      <td>0</td>\n",
       "    </tr>\n",
       "    <tr>\n",
       "      <th>2</th>\n",
       "      <td>\"America's love affair with it's vehicles seem...</td>\n",
       "      <td>0</td>\n",
       "    </tr>\n",
       "    <tr>\n",
       "      <th>3</th>\n",
       "      <td>How often do you ride in a car? Do you drive a...</td>\n",
       "      <td>0</td>\n",
       "    </tr>\n",
       "    <tr>\n",
       "      <th>4</th>\n",
       "      <td>Cars are a wonderful thing. They are perhaps o...</td>\n",
       "      <td>0</td>\n",
       "    </tr>\n",
       "  </tbody>\n",
       "</table>\n",
       "</div>"
      ],
      "text/plain": [
       "                                                text  generated\n",
       "0  Cars. Cars have been around since they became ...          0\n",
       "1  Transportation is a large necessity in most co...          0\n",
       "2  \"America's love affair with it's vehicles seem...          0\n",
       "3  How often do you ride in a car? Do you drive a...          0\n",
       "4  Cars are a wonderful thing. They are perhaps o...          0"
      ]
     },
     "execution_count": 21,
     "metadata": {},
     "output_type": "execute_result"
    }
   ],
   "source": [
    "%%time\n",
    "train = preprocess_data(Train_Data)\n",
    "train.head()"
   ]
  },
  {
   "cell_type": "markdown",
   "id": "f88a27f8",
   "metadata": {
    "papermill": {
     "duration": 0.030171,
     "end_time": "2023-12-17T13:43:58.223505",
     "exception": false,
     "start_time": "2023-12-17T13:43:58.193334",
     "status": "completed"
    },
    "tags": []
   },
   "source": [
    "## "
   ]
  },
  {
   "cell_type": "markdown",
   "id": "7ea82a89",
   "metadata": {
    "papermill": {
     "duration": 0.029804,
     "end_time": "2023-12-17T13:43:58.283204",
     "exception": false,
     "start_time": "2023-12-17T13:43:58.253400",
     "status": "completed"
    },
    "tags": []
   },
   "source": [
    "## Create TensorFlow Dataset"
   ]
  },
  {
   "cell_type": "code",
   "execution_count": 22,
   "id": "9d7a6a55",
   "metadata": {
    "papermill": {
     "duration": 0.040992,
     "end_time": "2023-12-17T13:43:58.354573",
     "exception": false,
     "start_time": "2023-12-17T13:43:58.313581",
     "status": "completed"
    },
    "tags": []
   },
   "outputs": [],
   "source": [
    "def bert_encode(df, tokenizer):    \n",
    "    texts = df['text'].tolist()\n",
    "    tokens = tokenizer(\n",
    "        texts, \n",
    "        max_length = CFG.sequence_length,\n",
    "        truncation=True, \n",
    "        padding='max_length',\n",
    "        add_special_tokens=True,\n",
    "        return_tensors='tf'\n",
    "    )\n",
    "    if \"generated\" in df.keys():\n",
    "        tokens[\"generated\"] = df[\"generated\"]\n",
    "    return tokens\n",
    "\n",
    "def preprocess(features):\n",
    "    input_ids = features.pop(\"input_ids\")\n",
    "    attention_mask = features.pop(\"attention_mask\")\n",
    "    labels = features.pop(\"generated\")\n",
    "    return (input_ids, attention_mask), labels\n",
    "def make_dataset(df, mode=\"train\"):\n",
    "    ds = tf.data.Dataset.from_tensor_slices((df))\n",
    "    if mode == \"train\":\n",
    "        ds = ds.shuffle(256)\n",
    "    ds = ds.batch(CFG.batch_size)\n",
    "    ds = ds.map(preprocess)\n",
    "    ds = ds.cache().prefetch(tf.data.AUTOTUNE)\n",
    "    return ds"
   ]
  },
  {
   "cell_type": "code",
   "execution_count": 23,
   "id": "4759f8d7",
   "metadata": {
    "papermill": {
     "duration": 0.050379,
     "end_time": "2023-12-17T13:43:58.436430",
     "exception": false,
     "start_time": "2023-12-17T13:43:58.386051",
     "status": "completed"
    },
    "tags": []
   },
   "outputs": [
    {
     "name": "stdout",
     "output_type": "stream",
     "text": [
      "CPU times: total: 0 ns\n",
      "Wall time: 25.1 ms\n"
     ]
    }
   ],
   "source": [
    "%%time\n",
    "train_data, valid_data = train_test_split(train, test_size=0.2, random_state=42)"
   ]
  },
  {
   "cell_type": "code",
   "execution_count": 24,
   "id": "d58c85cf",
   "metadata": {
    "papermill": {
     "duration": 127.725359,
     "end_time": "2023-12-17T13:46:06.192806",
     "exception": false,
     "start_time": "2023-12-17T13:43:58.467447",
     "status": "completed"
    },
    "tags": []
   },
   "outputs": [
    {
     "name": "stdout",
     "output_type": "stream",
     "text": [
      "CPU times: total: 2min 16s\n",
      "Wall time: 2min 31s\n"
     ]
    }
   ],
   "source": [
    "%%time\n",
    "if CFG.is_training:\n",
    "    train_input = bert_encode(train_data, tokenizer)\n",
    "    train_ds = make_dataset(train_input)\n",
    "valid_input = bert_encode(valid_data, tokenizer)\n",
    "valid_ds = make_dataset(valid_input, mode=\"valid\")"
   ]
  },
  {
   "cell_type": "markdown",
   "id": "58883b94",
   "metadata": {
    "papermill": {
     "duration": 0.030514,
     "end_time": "2023-12-17T13:46:06.254460",
     "exception": false,
     "start_time": "2023-12-17T13:46:06.223946",
     "status": "completed"
    },
    "tags": []
   },
   "source": [
    "Take a look at what training data looks like."
   ]
  },
  {
   "cell_type": "code",
   "execution_count": 25,
   "id": "4efdaad0",
   "metadata": {
    "papermill": {
     "duration": 0.14093,
     "end_time": "2023-12-17T13:46:06.425562",
     "exception": false,
     "start_time": "2023-12-17T13:46:06.284632",
     "status": "completed"
    },
    "tags": []
   },
   "outputs": [],
   "source": [
    "# for item in valid_ds.take(1):\n",
    "#     print(item)"
   ]
  },
  {
   "cell_type": "markdown",
   "id": "877c25b5",
   "metadata": {
    "papermill": {
     "duration": 0.030357,
     "end_time": "2023-12-17T13:46:06.488257",
     "exception": false,
     "start_time": "2023-12-17T13:46:06.457900",
     "status": "completed"
    },
    "tags": []
   },
   "source": [
    "## Calcuate class weight"
   ]
  },
  {
   "cell_type": "code",
   "execution_count": 26,
   "id": "36c7a480",
   "metadata": {
    "papermill": {
     "duration": 0.2816,
     "end_time": "2023-12-17T13:46:06.800130",
     "exception": false,
     "start_time": "2023-12-17T13:46:06.518530",
     "status": "completed"
    },
    "tags": []
   },
   "outputs": [
    {
     "data": {
      "text/plain": [
       "<Axes: xlabel='generated'>"
      ]
     },
     "execution_count": 26,
     "metadata": {},
     "output_type": "execute_result"
    },
    {
     "data": {
      "image/png": "[encoded data removed]",
      "text/plain": [
       "<Figure size 640x480 with 1 Axes>"
      ]
     },
     "metadata": {},
     "output_type": "display_data"
    }
   ],
   "source": [
    "train_data[\"generated\"].value_counts().plot(kind=\"bar\")"
   ]
  },
  {
   "cell_type": "code",
   "execution_count": 27,
   "id": "1da0ffbd",
   "metadata": {
    "papermill": {
     "duration": 0.075611,
     "end_time": "2023-12-17T13:46:06.907307",
     "exception": false,
     "start_time": "2023-12-17T13:46:06.831696",
     "status": "completed"
    },
    "tags": []
   },
   "outputs": [
    {
     "data": {
      "text/plain": [
       "{0: 0.4996439987274849, 1: 0.5003560012725152}"
      ]
     },
     "execution_count": 27,
     "metadata": {},
     "output_type": "execute_result"
    }
   ],
   "source": [
    "class_weight = len(train_data[\"generated\"]) / train_data[\"generated\"].value_counts()\n",
    "class_weight = dict(class_weight / class_weight.sum())\n",
    "class_weight"
   ]
  },
  {
   "cell_type": "markdown",
   "id": "eb3a7c94",
   "metadata": {
    "papermill": {
     "duration": 0.03171,
     "end_time": "2023-12-17T13:46:06.970974",
     "exception": false,
     "start_time": "2023-12-17T13:46:06.939264",
     "status": "completed"
    },
    "tags": []
   },
   "source": [
    "## Building Model"
   ]
  },
  {
   "cell_type": "code",
   "execution_count": 28,
   "id": "f9c7f34b",
   "metadata": {
    "papermill": {
     "duration": 0.042398,
     "end_time": "2023-12-17T13:46:07.045674",
     "exception": false,
     "start_time": "2023-12-17T13:46:07.003276",
     "status": "completed"
    },
    "tags": []
   },
   "outputs": [],
   "source": [
    "def build_model():\n",
    "    input_ids = tf.keras.Input(shape=(CFG.sequence_length,), dtype=tf.int32, name=\"input_ids\")\n",
    "    attention_mask = tf.keras.Input(shape=(CFG.sequence_length,), dtype=tf.int32, name=\"attention_mask\")\n",
    "    inputs = [input_ids, attention_mask]\n",
    "    embedding = encoder(inputs)[\"last_hidden_state\"]\n",
    "    vector = tf.keras.layers.GlobalAveragePooling1D()(embedding)\n",
    "    vector = tf.keras.layers.Dropout(0.3)(vector)\n",
    "    output = tf.keras.layers.Dense(2, activation='softmax')(vector)\n",
    "    auc = tf.keras.metrics.AUC(name=\"auc\")\n",
    "    model = tf.keras.Model(inputs=inputs, outputs=output)\n",
    "    model.compile(tf.keras.optimizers.Adam(lr=1e-5), loss='sparse_categorical_crossentropy', metrics=['accuracy',auc])   \n",
    "    return model"
   ]
  },
  {
   "cell_type": "code",
   "execution_count": 29,
   "id": "cd88a841",
   "metadata": {
    "papermill": {
     "duration": 5.740798,
     "end_time": "2023-12-17T13:46:12.818447",
     "exception": false,
     "start_time": "2023-12-17T13:46:07.077649",
     "status": "completed"
    },
    "tags": []
   },
   "outputs": [
    {
     "name": "stdout",
     "output_type": "stream",
     "text": [
      "Model: \"model\"\n",
      "__________________________________________________________________________________________________\n",
      " Layer (type)                   Output Shape         Param #     Connected to                     \n",
      "==================================================================================================\n",
      " input_ids (InputLayer)         [(None, 128)]        0           []                               \n",
      "                                                                                                  \n",
      " attention_mask (InputLayer)    [(None, 128)]        0           []                               \n",
      "                                                                                                  \n",
      " tf_distil_bert_model (TFDistil  TFBaseModelOutput(l  66362880   ['input_ids[0][0]',              \n",
      " BertModel)                     ast_hidden_state=(N               'attention_mask[0][0]']         \n",
      "                                one, 128, 768),                                                   \n",
      "                                 hidden_states=None                                               \n",
      "                                , attentions=None)                                                \n",
      "                                                                                                  \n",
      " global_average_pooling1d (Glob  (None, 768)         0           ['tf_distil_bert_model[0][0]']   \n",
      " alAveragePooling1D)                                                                              \n",
      "                                                                                                  \n",
      " dropout_19 (Dropout)           (None, 768)          0           ['global_average_pooling1d[0][0]'\n",
      "                                                                 ]                                \n",
      "                                                                                                  \n",
      " dense (Dense)                  (None, 2)            1538        ['dropout_19[0][0]']             \n",
      "                                                                                                  \n",
      "==================================================================================================\n",
      "Total params: 66,364,418\n",
      "Trainable params: 66,364,418\n",
      "Non-trainable params: 0\n",
      "__________________________________________________________________________________________________\n"
     ]
    },
    {
     "name": "stderr",
     "output_type": "stream",
     "text": [
      "C:\\Users\\91838\\.conda\\envs\\myenv\\lib\\site-packages\\keras\\optimizers\\optimizer_v2\\adam.py:114: UserWarning: The `lr` argument is deprecated, use `learning_rate` instead.\n",
      "  super().__init__(name, **kwargs)\n"
     ]
    }
   ],
   "source": [
    "with strategy.scope():\n",
    "    model = build_model()\n",
    "    model.summary() "
   ]
  },
  {
   "cell_type": "code",
   "execution_count": null,
   "id": "7fb9c48f",
   "metadata": {
    "papermill": {
     "duration": 2.141253,
     "end_time": "2023-12-17T13:46:14.992532",
     "exception": false,
     "start_time": "2023-12-17T13:46:12.851279",
     "status": "completed"
    },
    "tags": []
   },
   "outputs": [],
   "source": []
  },
  {
   "cell_type": "markdown",
   "id": "3ee96409",
   "metadata": {
    "papermill": {
     "duration": 0.035629,
     "end_time": "2023-12-17T13:46:15.063335",
     "exception": false,
     "start_time": "2023-12-17T13:46:15.027706",
     "status": "completed"
    },
    "tags": []
   },
   "source": [
    "## Training Model"
   ]
  },
  {
   "cell_type": "code",
   "execution_count": 30,
   "id": "ed3cd5d9",
   "metadata": {
    "papermill": {
     "duration": 2.766871,
     "end_time": "2023-12-17T13:46:17.864393",
     "exception": false,
     "start_time": "2023-12-17T13:46:15.097522",
     "status": "completed"
    },
    "tags": []
   },
   "outputs": [],
   "source": [
    "with strategy.scope():\n",
    "    if CFG.is_training:\n",
    "        steps_per_epoch = train_data.shape[0] // CFG.batch_size\n",
    "        validation_steps = valid_data.shape[0] // CFG.batch_size\n",
    "        es = tf.keras.callbacks.EarlyStopping(patience=5, monitor=\"val_accuracy\")\n",
    "        checkpoint = tf.keras.callbacks.ModelCheckpoint(\n",
    "            \"model.h5\", \n",
    "            monitor=\"val_accuracy\", \n",
    "            save_best_only=True, \n",
    "            save_weights_only=True, \n",
    "            restore_best_weights=True\n",
    "        )\n",
    "        history = model.fit(\n",
    "            train_ds, \n",
    "            epochs = 10, \n",
    "            steps_per_epoch = steps_per_epoch,\n",
    "            validation_steps = validation_steps,\n",
    "            validation_data=valid_ds,\n",
    "            class_weight=class_weight,\n",
    "            callbacks=[es, checkpoint]\n",
    "        )\n",
    "        pd.DataFrame(history.history).plot()\n",
    "    else:\n",
    "        model.load_weights(r\"D:\\Downloads\\Distill Bert\\model.h5\")"
   ]
  },
  {
   "cell_type": "markdown",
   "id": "004fb448",
   "metadata": {
    "papermill": {
     "duration": 0.034207,
     "end_time": "2023-12-17T13:46:17.934644",
     "exception": false,
     "start_time": "2023-12-17T13:46:17.900437",
     "status": "completed"
    },
    "tags": []
   },
   "source": [
    "## Evaluating model"
   ]
  },
  {
   "cell_type": "code",
   "execution_count": null,
   "id": "64f41cd6-9d9f-4dcd-812b-bfb737d94f72",
   "metadata": {},
   "outputs": [],
   "source": []
  },
  {
   "cell_type": "code",
   "execution_count": 31,
   "id": "76023c74",
   "metadata": {
    "papermill": {
     "duration": 170.196071,
     "end_time": "2023-12-17T13:49:08.165112",
     "exception": false,
     "start_time": "2023-12-17T13:46:17.969041",
     "status": "completed"
    },
    "tags": []
   },
   "outputs": [
    {
     "name": "stdout",
     "output_type": "stream",
     "text": [
      "129/129 [==============================] - 143s 1s/step\n",
      "CPU times: total: 1min 36s\n",
      "Wall time: 2min 23s\n"
     ]
    },
    {
     "data": {
      "text/plain": [
       "(16503,)"
      ]
     },
     "execution_count": 31,
     "metadata": {},
     "output_type": "execute_result"
    }
   ],
   "source": [
    "%%time\n",
    "y_pred = model.predict(valid_ds)[:, 1]\n",
    "y_pred.shape"
   ]
  },
  {
   "cell_type": "code",
   "execution_count": 35,
   "id": "a24a4b47",
   "metadata": {
    "papermill": {
     "duration": 0.064624,
     "end_time": "2023-12-17T13:49:08.265217",
     "exception": false,
     "start_time": "2023-12-17T13:49:08.200593",
     "status": "completed"
    },
    "tags": []
   },
   "outputs": [
    {
     "name": "stdout",
     "output_type": "stream",
     "text": [
      "AUC score: 0.3504295332274879\n",
      "Accuracy score: 0.42234745197842816\n",
      "F1 score: 0.5285594184263884\n",
      "Precision score: 0.4473463920977733\n",
      "Recall score: 0.6458006042296073\n"
     ]
    }
   ],
   "source": [
    "from sklearn.metrics import roc_auc_score, f1_score, accuracy_score, precision_score, recall_score\n",
    "\n",
    "# Assuming y_pred contains the model's raw predictions (probabilities)\n",
    "y_pred_label = np.array(y_pred >= 0.5, dtype=float)  # Convert to binary labels\n",
    "\n",
    "# Calculate additional metrics\n",
    "auc = roc_auc_score(valid_data[\"generated\"], y_pred)\n",
    "acc = accuracy_score(valid_data[\"generated\"], y_pred_label)\n",
    "f1 = f1_score(valid_data[\"generated\"], y_pred_label)\n",
    "precision = precision_score(valid_data[\"generated\"], y_pred_label)\n",
    "recall = recall_score(valid_data[\"generated\"], y_pred_label)\n",
    "\n",
    "print(f\"AUC score: {auc}\")\n",
    "print(f\"Accuracy score: {acc}\")\n",
    "print(f\"F1 score: {f1}\")\n",
    "print(f\"Precision score: {precision}\")\n",
    "print(f\"Recall score: {recall}\")\n"
   ]
  },
  {
   "cell_type": "code",
   "execution_count": null,
   "id": "dc0a7706-013a-4c57-a035-775e63b23652",
   "metadata": {},
   "outputs": [],
   "source": [
    "\n"
   ]
  },
  {
   "cell_type": "markdown",
   "id": "26adbfa0",
   "metadata": {
    "papermill": {
     "duration": 0.035859,
     "end_time": "2023-12-17T13:49:08.339777",
     "exception": false,
     "start_time": "2023-12-17T13:49:08.303918",
     "status": "completed"
    },
    "tags": []
   },
   "source": [
    "## Create Submission file"
   ]
  },
  {
   "cell_type": "code",
   "execution_count": 33,
   "id": "88e1da6d",
   "metadata": {
    "papermill": {
     "duration": 1.502647,
     "end_time": "2023-12-17T13:49:09.878183",
     "exception": false,
     "start_time": "2023-12-17T13:49:08.375536",
     "status": "completed"
    },
    "tags": []
   },
   "outputs": [],
   "source": [
    "# test = pd.read_csv(r\"D:\\Downloads\\LLM-Text-Detection-main\\Actual-Datasets\\test_essays.csv\")\n",
    "# test = preprocess_data(test)\n",
    "# test_input = bert_encode(test, tokenizer)\n",
    "# test_ds = tf.data.Dataset.from_tensor_slices(\n",
    "#     (\n",
    "#         (\n",
    "#             test_input[\"input_ids\"], \n",
    "#             test_input[\"attention_mask\"]\n",
    "#         ), \n",
    "#         np.zeros(len(test))\n",
    "#     )\n",
    "# ).batch(128).prefetch(tf.data.AUTOTUNE)\n",
    "# predictions = model.predict(test_ds)[:, 1]\n",
    "# test['generated'] = predictions\n",
    "# submission = test[[\"id\", \"text\",\"generated\"]]\n",
    "# submission.to_csv(\"submission.csv\", index = False)\n",
    "# submission.head()"
   ]
  },
  {
   "cell_type": "code",
   "execution_count": 34,
   "id": "aeff7cc9-39af-478a-85e4-cfb3f23a614a",
   "metadata": {},
   "outputs": [],
   "source": [
    "# model.save(\"model-distillbert\")"
   ]
  },
  {
   "cell_type": "code",
   "execution_count": null,
   "id": "a5ec07dc-b480-4ad7-b753-adf797a2d092",
   "metadata": {},
   "outputs": [],
   "source": []
  }
 ],
 "metadata": {
  "kaggle": {
   "accelerator": "nvidiaTeslaT4",
   "dataSources": [
    {
     "databundleVersionId": 6888007,
     "sourceId": 61542,
     "sourceType": "competition"
    },
    {
     "datasetId": 4005256,
     "sourceId": 6977472,
     "sourceType": "datasetVersion"
    },
    {
     "datasetId": 4180782,
     "sourceId": 7222767,
     "sourceType": "datasetVersion"
    },
    {
     "datasetId": 4180829,
     "sourceId": 7222827,
     "sourceType": "datasetVersion"
    }
   ],
   "dockerImageVersionId": 30132,
   "isGpuEnabled": true,
   "isInternetEnabled": false,
   "language": "python",
   "sourceType": "notebook"
  },
  "kernelspec": {
   "display_name": "Python 3 (ipykernel)",
   "language": "python",
   "name": "python3"
  },
  "language_info": {
   "codemirror_mode": {
    "name": "ipython",
    "version": 3
   },
   "file_extension": ".py",
   "mimetype": "text/x-python",
   "name": "python",
   "nbconvert_exporter": "python",
   "pygments_lexer": "ipython3",
   "version": "3.11.7"
  },
  "papermill": {
   "default_parameters": {},
   "duration": 357.28224,
   "end_time": "2023-12-17T13:49:13.785288",
   "environment_variables": {},
   "exception": null,
   "input_path": "__notebook__.ipynb",
   "output_path": "__notebook__.ipynb",
   "parameters": {},
   "start_time": "2023-12-17T13:43:16.503048",
   "version": "2.3.3"
  }
 },
 "nbformat": 4,
 "nbformat_minor": 5
}
