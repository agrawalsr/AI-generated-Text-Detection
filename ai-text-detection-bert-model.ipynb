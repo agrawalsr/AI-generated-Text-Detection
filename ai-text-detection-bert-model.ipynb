{
 "cells": [
  {
   "cell_type": "code",
   "execution_count": 1,
   "id": "1fa0edfc",
   "metadata": {
    "papermill": {
     "duration": 21.945494,
     "end_time": "2023-12-19T22:08:07.216090",
     "exception": false,
     "start_time": "2023-12-19T22:07:45.270596",
     "status": "completed"
    },
    "tags": []
   },
   "outputs": [],
   "source": [
    "# Import Libraries\n",
    "import pandas as pd\n",
    "import numpy as np\n",
    "import seaborn as sns\n",
    "from sklearn.model_selection import train_test_split\n",
    "import tensorflow as tf\n",
    "from tensorflow import keras\n",
    "import tensorflow_text as text  # Registers the ops.\n",
    "import tensorflow_hub as hub\n",
    "import matplotlib.pyplot as plt"
   ]
  },
  {
   "cell_type": "markdown",
   "id": "7f245c91",
   "metadata": {
    "papermill": {
     "duration": 0.016644,
     "end_time": "2023-12-19T22:08:07.250249",
     "exception": false,
     "start_time": "2023-12-19T22:08:07.233605",
     "status": "completed"
    },
    "tags": []
   },
   "source": [
    "# Dataset Loading"
   ]
  },
  {
   "cell_type": "markdown",
   "id": "231878f2",
   "metadata": {
    "papermill": {
     "duration": 0.016311,
     "end_time": "2023-12-19T22:08:07.283889",
     "exception": false,
     "start_time": "2023-12-19T22:08:07.267578",
     "status": "completed"
    },
    "tags": []
   },
   "source": [
    "#### Loading the datasets from the direct path is important orelse it threw me an error if I downloaded the kaggle datasets and then used them here."
   ]
  },
  {
   "cell_type": "code",
   "execution_count": 2,
   "id": "af9b8378",
   "metadata": {
    "papermill": {
     "duration": 0.1439,
     "end_time": "2023-12-19T22:08:07.445512",
     "exception": false,
     "start_time": "2023-12-19T22:08:07.301612",
     "status": "completed"
    },
    "tags": []
   },
   "outputs": [
    {
     "data": {
      "text/html": [
       "<div>\n",
       "<style scoped>\n",
       "    .dataframe tbody tr th:only-of-type {\n",
       "        vertical-align: middle;\n",
       "    }\n",
       "\n",
       "    .dataframe tbody tr th {\n",
       "        vertical-align: top;\n",
       "    }\n",
       "\n",
       "    .dataframe thead th {\n",
       "        text-align: right;\n",
       "    }\n",
       "</style>\n",
       "<table border=\"1\" class=\"dataframe\">\n",
       "  <thead>\n",
       "    <tr style=\"text-align: right;\">\n",
       "      <th></th>\n",
       "      <th>id</th>\n",
       "      <th>prompt_id</th>\n",
       "      <th>text</th>\n",
       "      <th>generated</th>\n",
       "    </tr>\n",
       "  </thead>\n",
       "  <tbody>\n",
       "    <tr>\n",
       "      <th>0</th>\n",
       "      <td>0059830c</td>\n",
       "      <td>0</td>\n",
       "      <td>Cars. Cars have been around since they became ...</td>\n",
       "      <td>0</td>\n",
       "    </tr>\n",
       "    <tr>\n",
       "      <th>1</th>\n",
       "      <td>005db917</td>\n",
       "      <td>0</td>\n",
       "      <td>Transportation is a large necessity in most co...</td>\n",
       "      <td>0</td>\n",
       "    </tr>\n",
       "    <tr>\n",
       "      <th>2</th>\n",
       "      <td>008f63e3</td>\n",
       "      <td>0</td>\n",
       "      <td>\"America's love affair with it's vehicles seem...</td>\n",
       "      <td>0</td>\n",
       "    </tr>\n",
       "    <tr>\n",
       "      <th>3</th>\n",
       "      <td>00940276</td>\n",
       "      <td>0</td>\n",
       "      <td>How often do you ride in a car? Do you drive a...</td>\n",
       "      <td>0</td>\n",
       "    </tr>\n",
       "    <tr>\n",
       "      <th>4</th>\n",
       "      <td>00c39458</td>\n",
       "      <td>0</td>\n",
       "      <td>Cars are a wonderful thing. They are perhaps o...</td>\n",
       "      <td>0</td>\n",
       "    </tr>\n",
       "    <tr>\n",
       "      <th>...</th>\n",
       "      <td>...</td>\n",
       "      <td>...</td>\n",
       "      <td>...</td>\n",
       "      <td>...</td>\n",
       "    </tr>\n",
       "    <tr>\n",
       "      <th>1373</th>\n",
       "      <td>fe6ff9a5</td>\n",
       "      <td>1</td>\n",
       "      <td>There has been a fuss about the Elector Colleg...</td>\n",
       "      <td>0</td>\n",
       "    </tr>\n",
       "    <tr>\n",
       "      <th>1374</th>\n",
       "      <td>ff669174</td>\n",
       "      <td>0</td>\n",
       "      <td>Limiting car usage has many advantages. Such a...</td>\n",
       "      <td>0</td>\n",
       "    </tr>\n",
       "    <tr>\n",
       "      <th>1375</th>\n",
       "      <td>ffa247e0</td>\n",
       "      <td>0</td>\n",
       "      <td>There's a new trend that has been developing f...</td>\n",
       "      <td>0</td>\n",
       "    </tr>\n",
       "    <tr>\n",
       "      <th>1376</th>\n",
       "      <td>ffc237e9</td>\n",
       "      <td>0</td>\n",
       "      <td>As we all know cars are a big part of our soci...</td>\n",
       "      <td>0</td>\n",
       "    </tr>\n",
       "    <tr>\n",
       "      <th>1377</th>\n",
       "      <td>ffe1ca0d</td>\n",
       "      <td>0</td>\n",
       "      <td>Cars have been around since the 1800's and hav...</td>\n",
       "      <td>0</td>\n",
       "    </tr>\n",
       "  </tbody>\n",
       "</table>\n",
       "<p>1378 rows × 4 columns</p>\n",
       "</div>"
      ],
      "text/plain": [
       "            id  prompt_id                                               text  \\\n",
       "0     0059830c          0  Cars. Cars have been around since they became ...   \n",
       "1     005db917          0  Transportation is a large necessity in most co...   \n",
       "2     008f63e3          0  \"America's love affair with it's vehicles seem...   \n",
       "3     00940276          0  How often do you ride in a car? Do you drive a...   \n",
       "4     00c39458          0  Cars are a wonderful thing. They are perhaps o...   \n",
       "...        ...        ...                                                ...   \n",
       "1373  fe6ff9a5          1  There has been a fuss about the Elector Colleg...   \n",
       "1374  ff669174          0  Limiting car usage has many advantages. Such a...   \n",
       "1375  ffa247e0          0  There's a new trend that has been developing f...   \n",
       "1376  ffc237e9          0  As we all know cars are a big part of our soci...   \n",
       "1377  ffe1ca0d          0  Cars have been around since the 1800's and hav...   \n",
       "\n",
       "      generated  \n",
       "0             0  \n",
       "1             0  \n",
       "2             0  \n",
       "3             0  \n",
       "4             0  \n",
       "...         ...  \n",
       "1373          0  \n",
       "1374          0  \n",
       "1375          0  \n",
       "1376          0  \n",
       "1377          0  \n",
       "\n",
       "[1378 rows x 4 columns]"
      ]
     },
     "execution_count": 2,
     "metadata": {},
     "output_type": "execute_result"
    }
   ],
   "source": [
    "train_essay = pd.read_csv(r\"D:\\Downloads\\LLM-Text-Detection-main\\Actual-Datasets\\train_essays.csv\")\n",
    "train_essay"
   ]
  },
  {
   "cell_type": "code",
   "execution_count": 3,
   "id": "17cd3790",
   "metadata": {
    "papermill": {
     "duration": 0.037609,
     "end_time": "2023-12-19T22:08:07.504286",
     "exception": false,
     "start_time": "2023-12-19T22:08:07.466677",
     "status": "completed"
    },
    "tags": []
   },
   "outputs": [
    {
     "data": {
      "text/html": [
       "<div>\n",
       "<style scoped>\n",
       "    .dataframe tbody tr th:only-of-type {\n",
       "        vertical-align: middle;\n",
       "    }\n",
       "\n",
       "    .dataframe tbody tr th {\n",
       "        vertical-align: top;\n",
       "    }\n",
       "\n",
       "    .dataframe thead th {\n",
       "        text-align: right;\n",
       "    }\n",
       "</style>\n",
       "<table border=\"1\" class=\"dataframe\">\n",
       "  <thead>\n",
       "    <tr style=\"text-align: right;\">\n",
       "      <th></th>\n",
       "      <th>id</th>\n",
       "      <th>prompt_id</th>\n",
       "      <th>text</th>\n",
       "    </tr>\n",
       "  </thead>\n",
       "  <tbody>\n",
       "    <tr>\n",
       "      <th>0</th>\n",
       "      <td>0000aaaa</td>\n",
       "      <td>2</td>\n",
       "      <td>As the moon peeked through the clouds, casting...</td>\n",
       "    </tr>\n",
       "    <tr>\n",
       "      <th>1</th>\n",
       "      <td>1111bbbb</td>\n",
       "      <td>3</td>\n",
       "      <td>I have a friend who hangs with us everyday he ...</td>\n",
       "    </tr>\n",
       "    <tr>\n",
       "      <th>2</th>\n",
       "      <td>2222cccc</td>\n",
       "      <td>4</td>\n",
       "      <td>The aroma of freshly baked bread wafted from t...</td>\n",
       "    </tr>\n",
       "  </tbody>\n",
       "</table>\n",
       "</div>"
      ],
      "text/plain": [
       "         id  prompt_id                                               text\n",
       "0  0000aaaa          2  As the moon peeked through the clouds, casting...\n",
       "1  1111bbbb          3  I have a friend who hangs with us everyday he ...\n",
       "2  2222cccc          4  The aroma of freshly baked bread wafted from t..."
      ]
     },
     "execution_count": 3,
     "metadata": {},
     "output_type": "execute_result"
    }
   ],
   "source": [
    "test_essay = pd.read_csv(r\"D:\\Downloads\\LLM-Text-Detection-main\\Actual-Datasets\\test_essays.csv\")\n",
    "test_essay"
   ]
  },
  {
   "cell_type": "code",
   "execution_count": 4,
   "id": "4c4b7186",
   "metadata": {
    "papermill": {
     "duration": 0.034202,
     "end_time": "2023-12-19T22:08:07.556085",
     "exception": false,
     "start_time": "2023-12-19T22:08:07.521883",
     "status": "completed"
    },
    "tags": []
   },
   "outputs": [
    {
     "data": {
      "text/html": [
       "<div>\n",
       "<style scoped>\n",
       "    .dataframe tbody tr th:only-of-type {\n",
       "        vertical-align: middle;\n",
       "    }\n",
       "\n",
       "    .dataframe tbody tr th {\n",
       "        vertical-align: top;\n",
       "    }\n",
       "\n",
       "    .dataframe thead th {\n",
       "        text-align: right;\n",
       "    }\n",
       "</style>\n",
       "<table border=\"1\" class=\"dataframe\">\n",
       "  <thead>\n",
       "    <tr style=\"text-align: right;\">\n",
       "      <th></th>\n",
       "      <th>id</th>\n",
       "      <th>prompt_id</th>\n",
       "      <th>text</th>\n",
       "    </tr>\n",
       "  </thead>\n",
       "  <tbody>\n",
       "    <tr>\n",
       "      <th>0</th>\n",
       "      <td>0000aaaa</td>\n",
       "      <td>2</td>\n",
       "      <td>As the moon peeked through the clouds, casting...</td>\n",
       "    </tr>\n",
       "    <tr>\n",
       "      <th>1</th>\n",
       "      <td>1111bbbb</td>\n",
       "      <td>3</td>\n",
       "      <td>I have a friend who hangs with us everyday he ...</td>\n",
       "    </tr>\n",
       "    <tr>\n",
       "      <th>2</th>\n",
       "      <td>2222cccc</td>\n",
       "      <td>4</td>\n",
       "      <td>The aroma of freshly baked bread wafted from t...</td>\n",
       "    </tr>\n",
       "  </tbody>\n",
       "</table>\n",
       "</div>"
      ],
      "text/plain": [
       "         id  prompt_id                                               text\n",
       "0  0000aaaa          2  As the moon peeked through the clouds, casting...\n",
       "1  1111bbbb          3  I have a friend who hangs with us everyday he ...\n",
       "2  2222cccc          4  The aroma of freshly baked bread wafted from t..."
      ]
     },
     "execution_count": 4,
     "metadata": {},
     "output_type": "execute_result"
    }
   ],
   "source": [
    "sample_sub = pd.read_csv(r\"D:\\Downloads\\LLM-Text-Detection-main\\Actual-Datasets\\test_essays.csv\")\n",
    "sample_sub"
   ]
  },
  {
   "cell_type": "markdown",
   "id": "2fbc92fe",
   "metadata": {
    "papermill": {
     "duration": 0.017239,
     "end_time": "2023-12-19T22:08:07.593540",
     "exception": false,
     "start_time": "2023-12-19T22:08:07.576301",
     "status": "completed"
    },
    "tags": []
   },
   "source": [
    "# Data Analysis and Visualization"
   ]
  },
  {
   "cell_type": "code",
   "execution_count": 5,
   "id": "362ff2a8",
   "metadata": {
    "papermill": {
     "duration": 0.056669,
     "end_time": "2023-12-19T22:08:07.667764",
     "exception": false,
     "start_time": "2023-12-19T22:08:07.611095",
     "status": "completed"
    },
    "tags": []
   },
   "outputs": [
    {
     "name": "stdout",
     "output_type": "stream",
     "text": [
      "<class 'pandas.core.frame.DataFrame'>\n",
      "RangeIndex: 1378 entries, 0 to 1377\n",
      "Data columns (total 4 columns):\n",
      " #   Column     Non-Null Count  Dtype \n",
      "---  ------     --------------  ----- \n",
      " 0   id         1378 non-null   object\n",
      " 1   prompt_id  1378 non-null   int64 \n",
      " 2   text       1378 non-null   object\n",
      " 3   generated  1378 non-null   int64 \n",
      "dtypes: int64(2), object(2)\n",
      "memory usage: 43.2+ KB\n"
     ]
    }
   ],
   "source": [
    "train_essay.info()"
   ]
  },
  {
   "cell_type": "code",
   "execution_count": 6,
   "id": "5bcf9560",
   "metadata": {
    "papermill": {
     "duration": 0.031756,
     "end_time": "2023-12-19T22:08:07.719598",
     "exception": false,
     "start_time": "2023-12-19T22:08:07.687842",
     "status": "completed"
    },
    "tags": []
   },
   "outputs": [
    {
     "data": {
      "text/plain": [
       "prompt_id\n",
       "0    708\n",
       "1    670\n",
       "Name: count, dtype: int64"
      ]
     },
     "execution_count": 6,
     "metadata": {},
     "output_type": "execute_result"
    }
   ],
   "source": [
    "train_essay['prompt_id'].value_counts()"
   ]
  },
  {
   "cell_type": "code",
   "execution_count": 7,
   "id": "2f6ea03c",
   "metadata": {
    "papermill": {
     "duration": 0.28163,
     "end_time": "2023-12-19T22:08:08.019864",
     "exception": false,
     "start_time": "2023-12-19T22:08:07.738234",
     "status": "completed"
    },
    "tags": []
   },
   "outputs": [
    {
     "data": {
      "image/png": "[encoded data removed]",
      "text/plain": [
       "<Figure size 640x480 with 1 Axes>"
      ]
     },
     "metadata": {},
     "output_type": "display_data"
    }
   ],
   "source": [
    "sns.countplot(x=train_essay['prompt_id'])\n",
    "plt.show()"
   ]
  },
  {
   "cell_type": "code",
   "execution_count": 8,
   "id": "83edcbda",
   "metadata": {
    "papermill": {
     "duration": 0.206644,
     "end_time": "2023-12-19T22:08:08.293219",
     "exception": false,
     "start_time": "2023-12-19T22:08:08.086575",
     "status": "completed"
    },
    "tags": []
   },
   "outputs": [
    {
     "data": {
      "image/png": "[encoded data removed]",
      "text/plain": [
       "<Figure size 640x480 with 1 Axes>"
      ]
     },
     "metadata": {},
     "output_type": "display_data"
    }
   ],
   "source": [
    "train_essay['prompt_id'].value_counts().plot(kind=\"pie\",autopct=\"%.1f%%\")\n",
    "plt.title(\"Prompt ID\")\n",
    "plt.show()"
   ]
  },
  {
   "cell_type": "code",
   "execution_count": 9,
   "id": "42cd05c1",
   "metadata": {
    "papermill": {
     "duration": 0.17993,
     "end_time": "2023-12-19T22:08:08.516178",
     "exception": false,
     "start_time": "2023-12-19T22:08:08.336248",
     "status": "completed"
    },
    "tags": []
   },
   "outputs": [
    {
     "data": {
      "image/png": "[encoded data removed]",
      "text/plain": [
       "<Figure size 640x480 with 1 Axes>"
      ]
     },
     "metadata": {},
     "output_type": "display_data"
    }
   ],
   "source": [
    "train_essay['generated'].value_counts().plot(kind=\"pie\",autopct=\"%.1f%%\") # to see what to take as base\n",
    "plt.title(\"Target label\")\n",
    "plt.show()"
   ]
  },
  {
   "cell_type": "markdown",
   "id": "d77da9fe",
   "metadata": {
    "papermill": {
     "duration": 0.019265,
     "end_time": "2023-12-19T22:08:08.554920",
     "exception": false,
     "start_time": "2023-12-19T22:08:08.535655",
     "status": "completed"
    },
    "tags": []
   },
   "source": [
    "#### We observe that wrt 'generated' the data is highly imbalanced so we would be using 'prompt_id'"
   ]
  },
  {
   "cell_type": "code",
   "execution_count": 10,
   "id": "58ed4abd",
   "metadata": {
    "papermill": {
     "duration": 0.034272,
     "end_time": "2023-12-19T22:08:08.608600",
     "exception": false,
     "start_time": "2023-12-19T22:08:08.574328",
     "status": "completed"
    },
    "tags": []
   },
   "outputs": [
    {
     "data": {
      "text/html": [
       "<div>\n",
       "<style scoped>\n",
       "    .dataframe tbody tr th:only-of-type {\n",
       "        vertical-align: middle;\n",
       "    }\n",
       "\n",
       "    .dataframe tbody tr th {\n",
       "        vertical-align: top;\n",
       "    }\n",
       "\n",
       "    .dataframe thead th {\n",
       "        text-align: right;\n",
       "    }\n",
       "</style>\n",
       "<table border=\"1\" class=\"dataframe\">\n",
       "  <thead>\n",
       "    <tr style=\"text-align: right;\">\n",
       "      <th></th>\n",
       "      <th>id</th>\n",
       "      <th>prompt_id</th>\n",
       "      <th>text</th>\n",
       "      <th>generated</th>\n",
       "    </tr>\n",
       "  </thead>\n",
       "  <tbody>\n",
       "    <tr>\n",
       "      <th>0</th>\n",
       "      <td>0059830c</td>\n",
       "      <td>0</td>\n",
       "      <td>Cars. Cars have been around since they became ...</td>\n",
       "      <td>0</td>\n",
       "    </tr>\n",
       "    <tr>\n",
       "      <th>1</th>\n",
       "      <td>005db917</td>\n",
       "      <td>0</td>\n",
       "      <td>Transportation is a large necessity in most co...</td>\n",
       "      <td>0</td>\n",
       "    </tr>\n",
       "    <tr>\n",
       "      <th>2</th>\n",
       "      <td>008f63e3</td>\n",
       "      <td>0</td>\n",
       "      <td>\"America's love affair with it's vehicles seem...</td>\n",
       "      <td>0</td>\n",
       "    </tr>\n",
       "    <tr>\n",
       "      <th>3</th>\n",
       "      <td>00940276</td>\n",
       "      <td>0</td>\n",
       "      <td>How often do you ride in a car? Do you drive a...</td>\n",
       "      <td>0</td>\n",
       "    </tr>\n",
       "    <tr>\n",
       "      <th>4</th>\n",
       "      <td>00c39458</td>\n",
       "      <td>0</td>\n",
       "      <td>Cars are a wonderful thing. They are perhaps o...</td>\n",
       "      <td>0</td>\n",
       "    </tr>\n",
       "  </tbody>\n",
       "</table>\n",
       "</div>"
      ],
      "text/plain": [
       "         id  prompt_id                                               text  \\\n",
       "0  0059830c          0  Cars. Cars have been around since they became ...   \n",
       "1  005db917          0  Transportation is a large necessity in most co...   \n",
       "2  008f63e3          0  \"America's love affair with it's vehicles seem...   \n",
       "3  00940276          0  How often do you ride in a car? Do you drive a...   \n",
       "4  00c39458          0  Cars are a wonderful thing. They are perhaps o...   \n",
       "\n",
       "   generated  \n",
       "0          0  \n",
       "1          0  \n",
       "2          0  \n",
       "3          0  \n",
       "4          0  "
      ]
     },
     "execution_count": 10,
     "metadata": {},
     "output_type": "execute_result"
    }
   ],
   "source": [
    "train_essay.head()"
   ]
  },
  {
   "cell_type": "code",
   "execution_count": 11,
   "id": "a0fc1571",
   "metadata": {
    "papermill": {
     "duration": 0.032771,
     "end_time": "2023-12-19T22:08:08.662268",
     "exception": false,
     "start_time": "2023-12-19T22:08:08.629497",
     "status": "completed"
    },
    "tags": []
   },
   "outputs": [
    {
     "data": {
      "text/html": [
       "<div>\n",
       "<style scoped>\n",
       "    .dataframe tbody tr th:only-of-type {\n",
       "        vertical-align: middle;\n",
       "    }\n",
       "\n",
       "    .dataframe tbody tr th {\n",
       "        vertical-align: top;\n",
       "    }\n",
       "\n",
       "    .dataframe thead th {\n",
       "        text-align: right;\n",
       "    }\n",
       "</style>\n",
       "<table border=\"1\" class=\"dataframe\">\n",
       "  <thead>\n",
       "    <tr style=\"text-align: right;\">\n",
       "      <th></th>\n",
       "      <th>id</th>\n",
       "      <th>prompt_id</th>\n",
       "      <th>text</th>\n",
       "      <th>generated</th>\n",
       "    </tr>\n",
       "  </thead>\n",
       "  <tbody>\n",
       "    <tr>\n",
       "      <th>704</th>\n",
       "      <td>82131f68</td>\n",
       "      <td>1</td>\n",
       "      <td>This essay will analyze, discuss and prove one...</td>\n",
       "      <td>1</td>\n",
       "    </tr>\n",
       "    <tr>\n",
       "      <th>740</th>\n",
       "      <td>86fe4f18</td>\n",
       "      <td>1</td>\n",
       "      <td>I strongly believe that the Electoral College ...</td>\n",
       "      <td>1</td>\n",
       "    </tr>\n",
       "    <tr>\n",
       "      <th>1262</th>\n",
       "      <td>eafb8a56</td>\n",
       "      <td>0</td>\n",
       "      <td>Limiting car use causes pollution, increases c...</td>\n",
       "      <td>1</td>\n",
       "    </tr>\n",
       "  </tbody>\n",
       "</table>\n",
       "</div>"
      ],
      "text/plain": [
       "            id  prompt_id                                               text  \\\n",
       "704   82131f68          1  This essay will analyze, discuss and prove one...   \n",
       "740   86fe4f18          1  I strongly believe that the Electoral College ...   \n",
       "1262  eafb8a56          0  Limiting car use causes pollution, increases c...   \n",
       "\n",
       "      generated  \n",
       "704           1  \n",
       "740           1  \n",
       "1262          1  "
      ]
     },
     "execution_count": 11,
     "metadata": {},
     "output_type": "execute_result"
    }
   ],
   "source": [
    "ai_df = train_essay[train_essay['generated']==1]\n",
    "ai_df"
   ]
  },
  {
   "cell_type": "code",
   "execution_count": 12,
   "id": "6d991fd6",
   "metadata": {
    "papermill": {
     "duration": 0.037615,
     "end_time": "2023-12-19T22:08:08.719012",
     "exception": false,
     "start_time": "2023-12-19T22:08:08.681397",
     "status": "completed"
    },
    "tags": []
   },
   "outputs": [
    {
     "data": {
      "text/html": [
       "<div>\n",
       "<style scoped>\n",
       "    .dataframe tbody tr th:only-of-type {\n",
       "        vertical-align: middle;\n",
       "    }\n",
       "\n",
       "    .dataframe tbody tr th {\n",
       "        vertical-align: top;\n",
       "    }\n",
       "\n",
       "    .dataframe thead th {\n",
       "        text-align: right;\n",
       "    }\n",
       "</style>\n",
       "<table border=\"1\" class=\"dataframe\">\n",
       "  <thead>\n",
       "    <tr style=\"text-align: right;\">\n",
       "      <th></th>\n",
       "      <th>id</th>\n",
       "      <th>prompt_id</th>\n",
       "      <th>text</th>\n",
       "      <th>generated</th>\n",
       "    </tr>\n",
       "  </thead>\n",
       "  <tbody>\n",
       "    <tr>\n",
       "      <th>0</th>\n",
       "      <td>0059830c</td>\n",
       "      <td>0</td>\n",
       "      <td>Cars. Cars have been around since they became ...</td>\n",
       "      <td>0</td>\n",
       "    </tr>\n",
       "    <tr>\n",
       "      <th>1</th>\n",
       "      <td>005db917</td>\n",
       "      <td>0</td>\n",
       "      <td>Transportation is a large necessity in most co...</td>\n",
       "      <td>0</td>\n",
       "    </tr>\n",
       "    <tr>\n",
       "      <th>2</th>\n",
       "      <td>008f63e3</td>\n",
       "      <td>0</td>\n",
       "      <td>\"America's love affair with it's vehicles seem...</td>\n",
       "      <td>0</td>\n",
       "    </tr>\n",
       "    <tr>\n",
       "      <th>3</th>\n",
       "      <td>00940276</td>\n",
       "      <td>0</td>\n",
       "      <td>How often do you ride in a car? Do you drive a...</td>\n",
       "      <td>0</td>\n",
       "    </tr>\n",
       "    <tr>\n",
       "      <th>4</th>\n",
       "      <td>00c39458</td>\n",
       "      <td>0</td>\n",
       "      <td>Cars are a wonderful thing. They are perhaps o...</td>\n",
       "      <td>0</td>\n",
       "    </tr>\n",
       "    <tr>\n",
       "      <th>...</th>\n",
       "      <td>...</td>\n",
       "      <td>...</td>\n",
       "      <td>...</td>\n",
       "      <td>...</td>\n",
       "    </tr>\n",
       "    <tr>\n",
       "      <th>1373</th>\n",
       "      <td>fe6ff9a5</td>\n",
       "      <td>1</td>\n",
       "      <td>There has been a fuss about the Elector Colleg...</td>\n",
       "      <td>0</td>\n",
       "    </tr>\n",
       "    <tr>\n",
       "      <th>1374</th>\n",
       "      <td>ff669174</td>\n",
       "      <td>0</td>\n",
       "      <td>Limiting car usage has many advantages. Such a...</td>\n",
       "      <td>0</td>\n",
       "    </tr>\n",
       "    <tr>\n",
       "      <th>1375</th>\n",
       "      <td>ffa247e0</td>\n",
       "      <td>0</td>\n",
       "      <td>There's a new trend that has been developing f...</td>\n",
       "      <td>0</td>\n",
       "    </tr>\n",
       "    <tr>\n",
       "      <th>1376</th>\n",
       "      <td>ffc237e9</td>\n",
       "      <td>0</td>\n",
       "      <td>As we all know cars are a big part of our soci...</td>\n",
       "      <td>0</td>\n",
       "    </tr>\n",
       "    <tr>\n",
       "      <th>1377</th>\n",
       "      <td>ffe1ca0d</td>\n",
       "      <td>0</td>\n",
       "      <td>Cars have been around since the 1800's and hav...</td>\n",
       "      <td>0</td>\n",
       "    </tr>\n",
       "  </tbody>\n",
       "</table>\n",
       "<p>1378 rows × 4 columns</p>\n",
       "</div>"
      ],
      "text/plain": [
       "            id  prompt_id                                               text  \\\n",
       "0     0059830c          0  Cars. Cars have been around since they became ...   \n",
       "1     005db917          0  Transportation is a large necessity in most co...   \n",
       "2     008f63e3          0  \"America's love affair with it's vehicles seem...   \n",
       "3     00940276          0  How often do you ride in a car? Do you drive a...   \n",
       "4     00c39458          0  Cars are a wonderful thing. They are perhaps o...   \n",
       "...        ...        ...                                                ...   \n",
       "1373  fe6ff9a5          1  There has been a fuss about the Elector Colleg...   \n",
       "1374  ff669174          0  Limiting car usage has many advantages. Such a...   \n",
       "1375  ffa247e0          0  There's a new trend that has been developing f...   \n",
       "1376  ffc237e9          0  As we all know cars are a big part of our soci...   \n",
       "1377  ffe1ca0d          0  Cars have been around since the 1800's and hav...   \n",
       "\n",
       "      generated  \n",
       "0             0  \n",
       "1             0  \n",
       "2             0  \n",
       "3             0  \n",
       "4             0  \n",
       "...         ...  \n",
       "1373          0  \n",
       "1374          0  \n",
       "1375          0  \n",
       "1376          0  \n",
       "1377          0  \n",
       "\n",
       "[1378 rows x 4 columns]"
      ]
     },
     "execution_count": 12,
     "metadata": {},
     "output_type": "execute_result"
    }
   ],
   "source": [
    "train_essay"
   ]
  },
  {
   "cell_type": "markdown",
   "id": "d78b01af",
   "metadata": {
    "papermill": {
     "duration": 0.020238,
     "end_time": "2023-12-19T22:08:08.761423",
     "exception": false,
     "start_time": "2023-12-19T22:08:08.741185",
     "status": "completed"
    },
    "tags": []
   },
   "source": [
    "# Data Pre-processing"
   ]
  },
  {
   "cell_type": "markdown",
   "id": "e960695d",
   "metadata": {
    "papermill": {
     "duration": 0.019941,
     "end_time": "2023-12-19T22:08:08.801741",
     "exception": false,
     "start_time": "2023-12-19T22:08:08.781800",
     "status": "completed"
    },
    "tags": []
   },
   "source": [
    "### we would be using the stopwords_text and then we would be splitting them and all these words would be removed from the essays we had earlier"
   ]
  },
  {
   "cell_type": "code",
   "execution_count": 13,
   "id": "c2d10412",
   "metadata": {
    "papermill": {
     "duration": 0.028097,
     "end_time": "2023-12-19T22:08:08.849722",
     "exception": false,
     "start_time": "2023-12-19T22:08:08.821625",
     "status": "completed"
    },
    "tags": []
   },
   "outputs": [],
   "source": [
    "stopwords_text = \"\"\"\"i me my myself we our ours ourselves you you're you've you'll you'd your yours yourself yourselves he him his himself she she's her hers herself it it's its itself they them their theirs themselves what which who whom this that that'll these those am is are was were be been being have has had having do does did doing a an the and but if or because as until while of at by for with about against between into through during before after above below to from up down in out on off over under again further then once here there when where why how all any both each few more most other some such only own same so than too very s t can will just don don't should should've now d ll m o re ve y ain aren aren't couldn couldn't didn didn't doesn doesn't hadn hadn't hasn hasn't haven haven't isn isn't ma mightn mightn't mustn mustn't needn needn't shan shan't shouldn shouldn't wasn wasn't weren weren't won won't wouldn wouldn't\"\n",
    "\"\"\"\n",
    "stopwords_list = stopwords_text.split()"
   ]
  },
  {
   "cell_type": "code",
   "execution_count": 14,
   "id": "dd9bbcdc",
   "metadata": {
    "papermill": {
     "duration": 0.028926,
     "end_time": "2023-12-19T22:08:08.898851",
     "exception": false,
     "start_time": "2023-12-19T22:08:08.869925",
     "status": "completed"
    },
    "tags": []
   },
   "outputs": [
    {
     "data": {
      "text/plain": [
       "176"
      ]
     },
     "execution_count": 14,
     "metadata": {},
     "output_type": "execute_result"
    }
   ],
   "source": [
    "len(stopwords_list)"
   ]
  },
  {
   "cell_type": "markdown",
   "id": "9bfa2025",
   "metadata": {
    "papermill": {
     "duration": 0.02049,
     "end_time": "2023-12-19T22:08:08.940129",
     "exception": false,
     "start_time": "2023-12-19T22:08:08.919639",
     "status": "completed"
    },
    "tags": []
   },
   "source": [
    "# Using custom datasets to feed in more data"
   ]
  },
  {
   "cell_type": "markdown",
   "id": "57cf37eb",
   "metadata": {
    "papermill": {
     "duration": 0.020723,
     "end_time": "2023-12-19T22:08:08.987046",
     "exception": false,
     "start_time": "2023-12-19T22:08:08.966323",
     "status": "completed"
    },
    "tags": []
   },
   "source": [
    "#### this was done to make the model train better with wide variety of data"
   ]
  },
  {
   "cell_type": "code",
   "execution_count": 15,
   "id": "b8f6e733",
   "metadata": {
    "papermill": {
     "duration": 1.424386,
     "end_time": "2023-12-19T22:08:10.431904",
     "exception": false,
     "start_time": "2023-12-19T22:08:09.007518",
     "status": "completed"
    },
    "tags": []
   },
   "outputs": [],
   "source": [
    "df = pd.read_csv(r\"D:\\Downloads\\LLM-Text-Detection-main\\Extra-Datasets-Used\\Training_Essay_Data.csv\")"
   ]
  },
  {
   "cell_type": "code",
   "execution_count": 16,
   "id": "d84e07c9",
   "metadata": {
    "papermill": {
     "duration": 0.036638,
     "end_time": "2023-12-19T22:08:10.489686",
     "exception": false,
     "start_time": "2023-12-19T22:08:10.453048",
     "status": "completed"
    },
    "tags": []
   },
   "outputs": [
    {
     "data": {
      "text/html": [
       "<div>\n",
       "<style scoped>\n",
       "    .dataframe tbody tr th:only-of-type {\n",
       "        vertical-align: middle;\n",
       "    }\n",
       "\n",
       "    .dataframe tbody tr th {\n",
       "        vertical-align: top;\n",
       "    }\n",
       "\n",
       "    .dataframe thead th {\n",
       "        text-align: right;\n",
       "    }\n",
       "</style>\n",
       "<table border=\"1\" class=\"dataframe\">\n",
       "  <thead>\n",
       "    <tr style=\"text-align: right;\">\n",
       "      <th></th>\n",
       "      <th>text</th>\n",
       "      <th>generated</th>\n",
       "    </tr>\n",
       "  </thead>\n",
       "  <tbody>\n",
       "    <tr>\n",
       "      <th>0</th>\n",
       "      <td>Car-free cities have become a subject of incre...</td>\n",
       "      <td>1</td>\n",
       "    </tr>\n",
       "    <tr>\n",
       "      <th>1</th>\n",
       "      <td>Car Free Cities  Car-free cities, a concept ga...</td>\n",
       "      <td>1</td>\n",
       "    </tr>\n",
       "    <tr>\n",
       "      <th>2</th>\n",
       "      <td>A Sustainable Urban Future  Car-free cities ...</td>\n",
       "      <td>1</td>\n",
       "    </tr>\n",
       "    <tr>\n",
       "      <th>3</th>\n",
       "      <td>Pioneering Sustainable Urban Living  In an e...</td>\n",
       "      <td>1</td>\n",
       "    </tr>\n",
       "    <tr>\n",
       "      <th>4</th>\n",
       "      <td>The Path to Sustainable Urban Living  In an ...</td>\n",
       "      <td>1</td>\n",
       "    </tr>\n",
       "    <tr>\n",
       "      <th>...</th>\n",
       "      <td>...</td>\n",
       "      <td>...</td>\n",
       "    </tr>\n",
       "    <tr>\n",
       "      <th>29140</th>\n",
       "      <td>There has been a fuss about the Elector Colleg...</td>\n",
       "      <td>0</td>\n",
       "    </tr>\n",
       "    <tr>\n",
       "      <th>29141</th>\n",
       "      <td>Limiting car usage has many advantages. Such a...</td>\n",
       "      <td>0</td>\n",
       "    </tr>\n",
       "    <tr>\n",
       "      <th>29142</th>\n",
       "      <td>There's a new trend that has been developing f...</td>\n",
       "      <td>0</td>\n",
       "    </tr>\n",
       "    <tr>\n",
       "      <th>29143</th>\n",
       "      <td>As we all know cars are a big part of our soci...</td>\n",
       "      <td>0</td>\n",
       "    </tr>\n",
       "    <tr>\n",
       "      <th>29144</th>\n",
       "      <td>Cars have been around since the 1800's and hav...</td>\n",
       "      <td>0</td>\n",
       "    </tr>\n",
       "  </tbody>\n",
       "</table>\n",
       "<p>29145 rows × 2 columns</p>\n",
       "</div>"
      ],
      "text/plain": [
       "                                                    text  generated\n",
       "0      Car-free cities have become a subject of incre...          1\n",
       "1      Car Free Cities  Car-free cities, a concept ga...          1\n",
       "2        A Sustainable Urban Future  Car-free cities ...          1\n",
       "3        Pioneering Sustainable Urban Living  In an e...          1\n",
       "4        The Path to Sustainable Urban Living  In an ...          1\n",
       "...                                                  ...        ...\n",
       "29140  There has been a fuss about the Elector Colleg...          0\n",
       "29141  Limiting car usage has many advantages. Such a...          0\n",
       "29142  There's a new trend that has been developing f...          0\n",
       "29143  As we all know cars are a big part of our soci...          0\n",
       "29144  Cars have been around since the 1800's and hav...          0\n",
       "\n",
       "[29145 rows x 2 columns]"
      ]
     },
     "execution_count": 16,
     "metadata": {},
     "output_type": "execute_result"
    }
   ],
   "source": [
    "df"
   ]
  },
  {
   "cell_type": "code",
   "execution_count": 17,
   "id": "47eb2b8e",
   "metadata": {
    "papermill": {
     "duration": 2.384571,
     "end_time": "2023-12-19T22:08:12.896792",
     "exception": false,
     "start_time": "2023-12-19T22:08:10.512221",
     "status": "completed"
    },
    "tags": []
   },
   "outputs": [
    {
     "data": {
      "text/html": [
       "<div>\n",
       "<style scoped>\n",
       "    .dataframe tbody tr th:only-of-type {\n",
       "        vertical-align: middle;\n",
       "    }\n",
       "\n",
       "    .dataframe tbody tr th {\n",
       "        vertical-align: top;\n",
       "    }\n",
       "\n",
       "    .dataframe thead th {\n",
       "        text-align: right;\n",
       "    }\n",
       "</style>\n",
       "<table border=\"1\" class=\"dataframe\">\n",
       "  <thead>\n",
       "    <tr style=\"text-align: right;\">\n",
       "      <th></th>\n",
       "      <th>text</th>\n",
       "      <th>generated</th>\n",
       "    </tr>\n",
       "  </thead>\n",
       "  <tbody>\n",
       "    <tr>\n",
       "      <th>0</th>\n",
       "      <td>In recent years, technology has had a profoun...</td>\n",
       "      <td>1</td>\n",
       "    </tr>\n",
       "    <tr>\n",
       "      <th>1</th>\n",
       "      <td>Should students participate in an extracurricu...</td>\n",
       "      <td>0</td>\n",
       "    </tr>\n",
       "    <tr>\n",
       "      <th>2</th>\n",
       "      <td>The electoral college is a symbol of mockery a...</td>\n",
       "      <td>0</td>\n",
       "    </tr>\n",
       "    <tr>\n",
       "      <th>3</th>\n",
       "      <td>This is why I think the principle should allow...</td>\n",
       "      <td>0</td>\n",
       "    </tr>\n",
       "    <tr>\n",
       "      <th>4</th>\n",
       "      <td>I strongly believe that meditation and mindful...</td>\n",
       "      <td>1</td>\n",
       "    </tr>\n",
       "    <tr>\n",
       "      <th>...</th>\n",
       "      <td>...</td>\n",
       "      <td>...</td>\n",
       "    </tr>\n",
       "    <tr>\n",
       "      <th>44201</th>\n",
       "      <td>\"Oh man I didn't make the soccer team!\", yelle...</td>\n",
       "      <td>0</td>\n",
       "    </tr>\n",
       "    <tr>\n",
       "      <th>44202</th>\n",
       "      <td>I believe that using this technology could be ...</td>\n",
       "      <td>0</td>\n",
       "    </tr>\n",
       "    <tr>\n",
       "      <th>44203</th>\n",
       "      <td>The Face on Mars is a fascinating phenomenon t...</td>\n",
       "      <td>1</td>\n",
       "    </tr>\n",
       "    <tr>\n",
       "      <th>44204</th>\n",
       "      <td>Texting &amp; Driving\\n\\nUsing your phone while dr...</td>\n",
       "      <td>0</td>\n",
       "    </tr>\n",
       "    <tr>\n",
       "      <th>44205</th>\n",
       "      <td>Dear Principal,\\n\\nI have been really good thi...</td>\n",
       "      <td>0</td>\n",
       "    </tr>\n",
       "  </tbody>\n",
       "</table>\n",
       "<p>44206 rows × 2 columns</p>\n",
       "</div>"
      ],
      "text/plain": [
       "                                                    text  generated\n",
       "0       In recent years, technology has had a profoun...          1\n",
       "1      Should students participate in an extracurricu...          0\n",
       "2      The electoral college is a symbol of mockery a...          0\n",
       "3      This is why I think the principle should allow...          0\n",
       "4      I strongly believe that meditation and mindful...          1\n",
       "...                                                  ...        ...\n",
       "44201  \"Oh man I didn't make the soccer team!\", yelle...          0\n",
       "44202  I believe that using this technology could be ...          0\n",
       "44203  The Face on Mars is a fascinating phenomenon t...          1\n",
       "44204  Texting & Driving\\n\\nUsing your phone while dr...          0\n",
       "44205  Dear Principal,\\n\\nI have been really good thi...          0\n",
       "\n",
       "[44206 rows x 2 columns]"
      ]
     },
     "execution_count": 17,
     "metadata": {},
     "output_type": "execute_result"
    }
   ],
   "source": [
    "df2 = pd.read_csv(r\"D:\\Downloads\\LLM-Text-Detection-main\\Extra-Datasets-Used\\train_drcat_04.csv\")\n",
    "df2 = df2[['text','label']]\n",
    "df2.columns = ['text','generated']\n",
    "df2"
   ]
  },
  {
   "cell_type": "code",
   "execution_count": 18,
   "id": "6a0f699c",
   "metadata": {
    "papermill": {
     "duration": 0.029323,
     "end_time": "2023-12-19T22:08:12.950703",
     "exception": false,
     "start_time": "2023-12-19T22:08:12.921380",
     "status": "completed"
    },
    "tags": []
   },
   "outputs": [],
   "source": [
    "#df2.drop_duplicates(inplace=True,ignore_index=True)"
   ]
  },
  {
   "cell_type": "code",
   "execution_count": 19,
   "id": "dc83b0d4",
   "metadata": {
    "papermill": {
     "duration": 0.028081,
     "end_time": "2023-12-19T22:08:13.001888",
     "exception": false,
     "start_time": "2023-12-19T22:08:12.973807",
     "status": "completed"
    },
    "tags": []
   },
   "outputs": [],
   "source": [
    "#df2"
   ]
  },
  {
   "cell_type": "code",
   "execution_count": 20,
   "id": "adb52349",
   "metadata": {
    "papermill": {
     "duration": 0.84371,
     "end_time": "2023-12-19T22:08:13.866979",
     "exception": false,
     "start_time": "2023-12-19T22:08:13.023269",
     "status": "completed"
    },
    "tags": []
   },
   "outputs": [
    {
     "data": {
      "text/html": [
       "<div>\n",
       "<style scoped>\n",
       "    .dataframe tbody tr th:only-of-type {\n",
       "        vertical-align: middle;\n",
       "    }\n",
       "\n",
       "    .dataframe tbody tr th {\n",
       "        vertical-align: top;\n",
       "    }\n",
       "\n",
       "    .dataframe thead th {\n",
       "        text-align: right;\n",
       "    }\n",
       "</style>\n",
       "<table border=\"1\" class=\"dataframe\">\n",
       "  <thead>\n",
       "    <tr style=\"text-align: right;\">\n",
       "      <th></th>\n",
       "      <th>text</th>\n",
       "      <th>generated</th>\n",
       "    </tr>\n",
       "  </thead>\n",
       "  <tbody>\n",
       "    <tr>\n",
       "      <th>0</th>\n",
       "      <td>Cars. Cars have been around since they became ...</td>\n",
       "      <td>0</td>\n",
       "    </tr>\n",
       "    <tr>\n",
       "      <th>1</th>\n",
       "      <td>Transportation is a large necessity in most co...</td>\n",
       "      <td>0</td>\n",
       "    </tr>\n",
       "    <tr>\n",
       "      <th>2</th>\n",
       "      <td>\"America's love affair with it's vehicles seem...</td>\n",
       "      <td>0</td>\n",
       "    </tr>\n",
       "    <tr>\n",
       "      <th>3</th>\n",
       "      <td>How often do you ride in a car? Do you drive a...</td>\n",
       "      <td>0</td>\n",
       "    </tr>\n",
       "    <tr>\n",
       "      <th>4</th>\n",
       "      <td>Cars are a wonderful thing. They are perhaps o...</td>\n",
       "      <td>0</td>\n",
       "    </tr>\n",
       "    <tr>\n",
       "      <th>...</th>\n",
       "      <td>...</td>\n",
       "      <td>...</td>\n",
       "    </tr>\n",
       "    <tr>\n",
       "      <th>15866</th>\n",
       "      <td>While some find the \"Face on Mars\" imaged by t...</td>\n",
       "      <td>1</td>\n",
       "    </tr>\n",
       "    <tr>\n",
       "      <th>15867</th>\n",
       "      <td>Limiting car usage has many benefits for moder...</td>\n",
       "      <td>1</td>\n",
       "    </tr>\n",
       "    <tr>\n",
       "      <th>15868</th>\n",
       "      <td>The Rise of Driverless Cars\\n\\nThe development...</td>\n",
       "      <td>1</td>\n",
       "    </tr>\n",
       "    <tr>\n",
       "      <th>15869</th>\n",
       "      <td>The Open Sea Beckons\\n\\nThe Seagoing Cowboys p...</td>\n",
       "      <td>1</td>\n",
       "    </tr>\n",
       "    <tr>\n",
       "      <th>15870</th>\n",
       "      <td>While technology often progresses society in p...</td>\n",
       "      <td>1</td>\n",
       "    </tr>\n",
       "  </tbody>\n",
       "</table>\n",
       "<p>15871 rows × 2 columns</p>\n",
       "</div>"
      ],
      "text/plain": [
       "                                                    text  generated\n",
       "0      Cars. Cars have been around since they became ...          0\n",
       "1      Transportation is a large necessity in most co...          0\n",
       "2      \"America's love affair with it's vehicles seem...          0\n",
       "3      How often do you ride in a car? Do you drive a...          0\n",
       "4      Cars are a wonderful thing. They are perhaps o...          0\n",
       "...                                                  ...        ...\n",
       "15866  While some find the \"Face on Mars\" imaged by t...          1\n",
       "15867  Limiting car usage has many benefits for moder...          1\n",
       "15868  The Rise of Driverless Cars\\n\\nThe development...          1\n",
       "15869  The Open Sea Beckons\\n\\nThe Seagoing Cowboys p...          1\n",
       "15870  While technology often progresses society in p...          1\n",
       "\n",
       "[15871 rows x 2 columns]"
      ]
     },
     "execution_count": 20,
     "metadata": {},
     "output_type": "execute_result"
    }
   ],
   "source": [
    "df3 = pd.read_csv(r\"D:\\Downloads\\LLM-Text-Detection-main\\Extra-Datasets-Used\\train_essays_RDizzl3_seven_v1.csv\")\n",
    "df3.columns = ['text','generated']\n",
    "df3"
   ]
  },
  {
   "cell_type": "code",
   "execution_count": 21,
   "id": "0ae2d866",
   "metadata": {
    "papermill": {
     "duration": 0.040865,
     "end_time": "2023-12-19T22:08:13.930003",
     "exception": false,
     "start_time": "2023-12-19T22:08:13.889138",
     "status": "completed"
    },
    "tags": []
   },
   "outputs": [
    {
     "data": {
      "text/html": [
       "<div>\n",
       "<style scoped>\n",
       "    .dataframe tbody tr th:only-of-type {\n",
       "        vertical-align: middle;\n",
       "    }\n",
       "\n",
       "    .dataframe tbody tr th {\n",
       "        vertical-align: top;\n",
       "    }\n",
       "\n",
       "    .dataframe thead th {\n",
       "        text-align: right;\n",
       "    }\n",
       "</style>\n",
       "<table border=\"1\" class=\"dataframe\">\n",
       "  <thead>\n",
       "    <tr style=\"text-align: right;\">\n",
       "      <th></th>\n",
       "      <th>text</th>\n",
       "      <th>generated</th>\n",
       "    </tr>\n",
       "  </thead>\n",
       "  <tbody>\n",
       "    <tr>\n",
       "      <th>0</th>\n",
       "      <td>Cars. Cars have been around since they became ...</td>\n",
       "      <td>0</td>\n",
       "    </tr>\n",
       "    <tr>\n",
       "      <th>1</th>\n",
       "      <td>Transportation is a large necessity in most co...</td>\n",
       "      <td>0</td>\n",
       "    </tr>\n",
       "    <tr>\n",
       "      <th>2</th>\n",
       "      <td>\"America's love affair with it's vehicles seem...</td>\n",
       "      <td>0</td>\n",
       "    </tr>\n",
       "    <tr>\n",
       "      <th>3</th>\n",
       "      <td>How often do you ride in a car? Do you drive a...</td>\n",
       "      <td>0</td>\n",
       "    </tr>\n",
       "    <tr>\n",
       "      <th>4</th>\n",
       "      <td>Cars are a wonderful thing. They are perhaps o...</td>\n",
       "      <td>0</td>\n",
       "    </tr>\n",
       "    <tr>\n",
       "      <th>...</th>\n",
       "      <td>...</td>\n",
       "      <td>...</td>\n",
       "    </tr>\n",
       "    <tr>\n",
       "      <th>89217</th>\n",
       "      <td>There has been a fuss about the Elector Colleg...</td>\n",
       "      <td>0</td>\n",
       "    </tr>\n",
       "    <tr>\n",
       "      <th>89218</th>\n",
       "      <td>Limiting car usage has many advantages. Such a...</td>\n",
       "      <td>0</td>\n",
       "    </tr>\n",
       "    <tr>\n",
       "      <th>89219</th>\n",
       "      <td>There's a new trend that has been developing f...</td>\n",
       "      <td>0</td>\n",
       "    </tr>\n",
       "    <tr>\n",
       "      <th>89220</th>\n",
       "      <td>As we all know cars are a big part of our soci...</td>\n",
       "      <td>0</td>\n",
       "    </tr>\n",
       "    <tr>\n",
       "      <th>89221</th>\n",
       "      <td>Cars have been around since the 1800's and hav...</td>\n",
       "      <td>0</td>\n",
       "    </tr>\n",
       "  </tbody>\n",
       "</table>\n",
       "<p>89222 rows × 2 columns</p>\n",
       "</div>"
      ],
      "text/plain": [
       "                                                    text  generated\n",
       "0      Cars. Cars have been around since they became ...          0\n",
       "1      Transportation is a large necessity in most co...          0\n",
       "2      \"America's love affair with it's vehicles seem...          0\n",
       "3      How often do you ride in a car? Do you drive a...          0\n",
       "4      Cars are a wonderful thing. They are perhaps o...          0\n",
       "...                                                  ...        ...\n",
       "89217  There has been a fuss about the Elector Colleg...          0\n",
       "89218  Limiting car usage has many advantages. Such a...          0\n",
       "89219  There's a new trend that has been developing f...          0\n",
       "89220  As we all know cars are a big part of our soci...          0\n",
       "89221  Cars have been around since the 1800's and hav...          0\n",
       "\n",
       "[89222 rows x 2 columns]"
      ]
     },
     "execution_count": 21,
     "metadata": {},
     "output_type": "execute_result"
    }
   ],
   "source": [
    "train_data = pd.concat([df3,df2,df],axis=0,ignore_index=True)\n",
    "train_data"
   ]
  },
  {
   "cell_type": "code",
   "execution_count": 22,
   "id": "3faf02e6",
   "metadata": {
    "papermill": {
     "duration": 0.55889,
     "end_time": "2023-12-19T22:08:14.515551",
     "exception": false,
     "start_time": "2023-12-19T22:08:13.956661",
     "status": "completed"
    },
    "tags": []
   },
   "outputs": [],
   "source": [
    "train_data.drop_duplicates(inplace=True,ignore_index=True)"
   ]
  },
  {
   "cell_type": "code",
   "execution_count": 23,
   "id": "806eb732",
   "metadata": {
    "papermill": {
     "duration": 0.039696,
     "end_time": "2023-12-19T22:08:14.578022",
     "exception": false,
     "start_time": "2023-12-19T22:08:14.538326",
     "status": "completed"
    },
    "tags": []
   },
   "outputs": [
    {
     "data": {
      "text/html": [
       "<div>\n",
       "<style scoped>\n",
       "    .dataframe tbody tr th:only-of-type {\n",
       "        vertical-align: middle;\n",
       "    }\n",
       "\n",
       "    .dataframe tbody tr th {\n",
       "        vertical-align: top;\n",
       "    }\n",
       "\n",
       "    .dataframe thead th {\n",
       "        text-align: right;\n",
       "    }\n",
       "</style>\n",
       "<table border=\"1\" class=\"dataframe\">\n",
       "  <thead>\n",
       "    <tr style=\"text-align: right;\">\n",
       "      <th></th>\n",
       "      <th>text</th>\n",
       "      <th>generated</th>\n",
       "    </tr>\n",
       "  </thead>\n",
       "  <tbody>\n",
       "    <tr>\n",
       "      <th>0</th>\n",
       "      <td>Cars. Cars have been around since they became ...</td>\n",
       "      <td>0</td>\n",
       "    </tr>\n",
       "    <tr>\n",
       "      <th>1</th>\n",
       "      <td>Transportation is a large necessity in most co...</td>\n",
       "      <td>0</td>\n",
       "    </tr>\n",
       "    <tr>\n",
       "      <th>2</th>\n",
       "      <td>\"America's love affair with it's vehicles seem...</td>\n",
       "      <td>0</td>\n",
       "    </tr>\n",
       "    <tr>\n",
       "      <th>3</th>\n",
       "      <td>How often do you ride in a car? Do you drive a...</td>\n",
       "      <td>0</td>\n",
       "    </tr>\n",
       "    <tr>\n",
       "      <th>4</th>\n",
       "      <td>Cars are a wonderful thing. They are perhaps o...</td>\n",
       "      <td>0</td>\n",
       "    </tr>\n",
       "    <tr>\n",
       "      <th>...</th>\n",
       "      <td>...</td>\n",
       "      <td>...</td>\n",
       "    </tr>\n",
       "    <tr>\n",
       "      <th>65457</th>\n",
       "      <td>Today's society is ever-evolving and the role ...</td>\n",
       "      <td>1</td>\n",
       "    </tr>\n",
       "    <tr>\n",
       "      <th>65458</th>\n",
       "      <td>The ever-evolving world of technology has chan...</td>\n",
       "      <td>1</td>\n",
       "    </tr>\n",
       "    <tr>\n",
       "      <th>65459</th>\n",
       "      <td>Fostering a Rescue Dog: Gaining Unconditional ...</td>\n",
       "      <td>1</td>\n",
       "    </tr>\n",
       "    <tr>\n",
       "      <th>65460</th>\n",
       "      <td>The importance of a solid foundation in educat...</td>\n",
       "      <td>1</td>\n",
       "    </tr>\n",
       "    <tr>\n",
       "      <th>65461</th>\n",
       "      <td>Over the last decade, cities around the world ...</td>\n",
       "      <td>1</td>\n",
       "    </tr>\n",
       "  </tbody>\n",
       "</table>\n",
       "<p>65462 rows × 2 columns</p>\n",
       "</div>"
      ],
      "text/plain": [
       "                                                    text  generated\n",
       "0      Cars. Cars have been around since they became ...          0\n",
       "1      Transportation is a large necessity in most co...          0\n",
       "2      \"America's love affair with it's vehicles seem...          0\n",
       "3      How often do you ride in a car? Do you drive a...          0\n",
       "4      Cars are a wonderful thing. They are perhaps o...          0\n",
       "...                                                  ...        ...\n",
       "65457  Today's society is ever-evolving and the role ...          1\n",
       "65458  The ever-evolving world of technology has chan...          1\n",
       "65459  Fostering a Rescue Dog: Gaining Unconditional ...          1\n",
       "65460  The importance of a solid foundation in educat...          1\n",
       "65461  Over the last decade, cities around the world ...          1\n",
       "\n",
       "[65462 rows x 2 columns]"
      ]
     },
     "execution_count": 23,
     "metadata": {},
     "output_type": "execute_result"
    }
   ],
   "source": [
    "train_data"
   ]
  },
  {
   "cell_type": "code",
   "execution_count": 24,
   "id": "27a06557",
   "metadata": {
    "papermill": {
     "duration": 0.103274,
     "end_time": "2023-12-19T22:08:14.705437",
     "exception": false,
     "start_time": "2023-12-19T22:08:14.602163",
     "status": "completed"
    },
    "tags": []
   },
   "outputs": [
    {
     "data": {
      "text/html": [
       "<div>\n",
       "<style scoped>\n",
       "    .dataframe tbody tr th:only-of-type {\n",
       "        vertical-align: middle;\n",
       "    }\n",
       "\n",
       "    .dataframe tbody tr th {\n",
       "        vertical-align: top;\n",
       "    }\n",
       "\n",
       "    .dataframe thead th {\n",
       "        text-align: right;\n",
       "    }\n",
       "</style>\n",
       "<table border=\"1\" class=\"dataframe\">\n",
       "  <thead>\n",
       "    <tr style=\"text-align: right;\">\n",
       "      <th></th>\n",
       "      <th>generated_text</th>\n",
       "      <th>writing_prompt</th>\n",
       "    </tr>\n",
       "  </thead>\n",
       "  <tbody>\n",
       "    <tr>\n",
       "      <th>0</th>\n",
       "      <td>Dear Principal,\\n\\nI am writing to express my ...</td>\n",
       "      <td>Your principal is considering changing school ...</td>\n",
       "    </tr>\n",
       "    <tr>\n",
       "      <th>1</th>\n",
       "      <td>When people are faced with a difficult decisio...</td>\n",
       "      <td>When people ask for advice, they sometimes tal...</td>\n",
       "    </tr>\n",
       "    <tr>\n",
       "      <th>2</th>\n",
       "      <td>As a grade 12 student, I believe that summer p...</td>\n",
       "      <td>Some schools require students to complete summ...</td>\n",
       "    </tr>\n",
       "    <tr>\n",
       "      <th>3</th>\n",
       "      <td>Dear Principal,\\n\\nI am writing to share my th...</td>\n",
       "      <td>Some of your friends perform community service...</td>\n",
       "    </tr>\n",
       "    <tr>\n",
       "      <th>4</th>\n",
       "      <td>\"Making Mona Lisa Smile\" is an interesting art...</td>\n",
       "      <td>In the article \"Making Mona Lisa Smile,\" the a...</td>\n",
       "    </tr>\n",
       "    <tr>\n",
       "      <th>...</th>\n",
       "      <td>...</td>\n",
       "      <td>...</td>\n",
       "    </tr>\n",
       "    <tr>\n",
       "      <th>1050</th>\n",
       "      <td>(I am not capable of personal opinions or beli...</td>\n",
       "      <td>The role of zoos in conservation and education...</td>\n",
       "    </tr>\n",
       "    <tr>\n",
       "      <th>1051</th>\n",
       "      <td>In \"The Challenge of Exploring Venus,\" the aut...</td>\n",
       "      <td>In \"The Challenge of Exploring Venus,\" the aut...</td>\n",
       "    </tr>\n",
       "    <tr>\n",
       "      <th>1052</th>\n",
       "      <td>The article \"Making Mona Lisa Smile\" discusses...</td>\n",
       "      <td>In the article \"Making Mona Lisa Smile,\" the a...</td>\n",
       "    </tr>\n",
       "    <tr>\n",
       "      <th>1053</th>\n",
       "      <td>As a grade 6 student, I am still learning abou...</td>\n",
       "      <td>The issue of gun control is a highly contentio...</td>\n",
       "    </tr>\n",
       "    <tr>\n",
       "      <th>1054</th>\n",
       "      <td>Passage 1:\\n\\nCars are one of the main ways in...</td>\n",
       "      <td>Write an explanatory essay to inform fellow ci...</td>\n",
       "    </tr>\n",
       "  </tbody>\n",
       "</table>\n",
       "<p>1055 rows × 2 columns</p>\n",
       "</div>"
      ],
      "text/plain": [
       "                                         generated_text  \\\n",
       "0     Dear Principal,\\n\\nI am writing to express my ...   \n",
       "1     When people are faced with a difficult decisio...   \n",
       "2     As a grade 12 student, I believe that summer p...   \n",
       "3     Dear Principal,\\n\\nI am writing to share my th...   \n",
       "4     \"Making Mona Lisa Smile\" is an interesting art...   \n",
       "...                                                 ...   \n",
       "1050  (I am not capable of personal opinions or beli...   \n",
       "1051  In \"The Challenge of Exploring Venus,\" the aut...   \n",
       "1052  The article \"Making Mona Lisa Smile\" discusses...   \n",
       "1053  As a grade 6 student, I am still learning abou...   \n",
       "1054  Passage 1:\\n\\nCars are one of the main ways in...   \n",
       "\n",
       "                                         writing_prompt  \n",
       "0     Your principal is considering changing school ...  \n",
       "1     When people ask for advice, they sometimes tal...  \n",
       "2     Some schools require students to complete summ...  \n",
       "3     Some of your friends perform community service...  \n",
       "4     In the article \"Making Mona Lisa Smile,\" the a...  \n",
       "...                                                 ...  \n",
       "1050  The role of zoos in conservation and education...  \n",
       "1051  In \"The Challenge of Exploring Venus,\" the aut...  \n",
       "1052  In the article \"Making Mona Lisa Smile,\" the a...  \n",
       "1053  The issue of gun control is a highly contentio...  \n",
       "1054  Write an explanatory essay to inform fellow ci...  \n",
       "\n",
       "[1055 rows x 2 columns]"
      ]
     },
     "execution_count": 24,
     "metadata": {},
     "output_type": "execute_result"
    }
   ],
   "source": [
    "# Dataset\n",
    "d1 = pd.read_csv(r\"D:\\Downloads\\LLM-Text-Detection-main\\Extra-Datasets-Used\\falcon_180b_v1.csv\")\n",
    "d1"
   ]
  },
  {
   "cell_type": "code",
   "execution_count": 25,
   "id": "3a3e5157",
   "metadata": {
    "papermill": {
     "duration": 0.126744,
     "end_time": "2023-12-19T22:08:14.856138",
     "exception": false,
     "start_time": "2023-12-19T22:08:14.729394",
     "status": "completed"
    },
    "tags": []
   },
   "outputs": [
    {
     "data": {
      "text/html": [
       "<div>\n",
       "<style scoped>\n",
       "    .dataframe tbody tr th:only-of-type {\n",
       "        vertical-align: middle;\n",
       "    }\n",
       "\n",
       "    .dataframe tbody tr th {\n",
       "        vertical-align: top;\n",
       "    }\n",
       "\n",
       "    .dataframe thead th {\n",
       "        text-align: right;\n",
       "    }\n",
       "</style>\n",
       "<table border=\"1\" class=\"dataframe\">\n",
       "  <thead>\n",
       "    <tr style=\"text-align: right;\">\n",
       "      <th></th>\n",
       "      <th>generated_text</th>\n",
       "      <th>writing_prompt</th>\n",
       "    </tr>\n",
       "  </thead>\n",
       "  <tbody>\n",
       "    <tr>\n",
       "      <th>0</th>\n",
       "      <td>Dear State Senator,\\n\\nI'm writting to you tod...</td>\n",
       "      <td>Write a letter to your state senator in which ...</td>\n",
       "    </tr>\n",
       "    <tr>\n",
       "      <th>1</th>\n",
       "      <td>Uh, hi! So, like, summers are, like, awesome r...</td>\n",
       "      <td>Some schools require students to complete summ...</td>\n",
       "    </tr>\n",
       "    <tr>\n",
       "      <th>2</th>\n",
       "      <td>When peoples ask for advices, they sometimes t...</td>\n",
       "      <td>When people ask for advice, they sometimes tal...</td>\n",
       "    </tr>\n",
       "    <tr>\n",
       "      <th>3</th>\n",
       "      <td>I think art edukation is super impotent for ki...</td>\n",
       "      <td>Many people believe that arts education is ess...</td>\n",
       "    </tr>\n",
       "    <tr>\n",
       "      <th>4</th>\n",
       "      <td>I think we should totally switch to renewable ...</td>\n",
       "      <td>In recent years, there has been a push towards...</td>\n",
       "    </tr>\n",
       "    <tr>\n",
       "      <th>...</th>\n",
       "      <td>...</td>\n",
       "      <td>...</td>\n",
       "    </tr>\n",
       "    <tr>\n",
       "      <th>1167</th>\n",
       "      <td>Climate change is a really important issue tha...</td>\n",
       "      <td>The issue of climate change has become increas...</td>\n",
       "    </tr>\n",
       "    <tr>\n",
       "      <th>1168</th>\n",
       "      <td>Introduction:\\n\\nDriverless cars, a technology...</td>\n",
       "      <td>In the article “Driverless Cars are Coming,” t...</td>\n",
       "    </tr>\n",
       "    <tr>\n",
       "      <th>1169</th>\n",
       "      <td>Social media has become an integral part of ou...</td>\n",
       "      <td>The impact of social media on society has been...</td>\n",
       "    </tr>\n",
       "    <tr>\n",
       "      <th>1170</th>\n",
       "      <td>Meat, it's something that many of us have grow...</td>\n",
       "      <td>There is a growing movement advocating for the...</td>\n",
       "    </tr>\n",
       "    <tr>\n",
       "      <th>1171</th>\n",
       "      <td>The legalization of marijuana has been a topic...</td>\n",
       "      <td>The legalization of marijuana has been a contr...</td>\n",
       "    </tr>\n",
       "  </tbody>\n",
       "</table>\n",
       "<p>1172 rows × 2 columns</p>\n",
       "</div>"
      ],
      "text/plain": [
       "                                         generated_text  \\\n",
       "0     Dear State Senator,\\n\\nI'm writting to you tod...   \n",
       "1     Uh, hi! So, like, summers are, like, awesome r...   \n",
       "2     When peoples ask for advices, they sometimes t...   \n",
       "3     I think art edukation is super impotent for ki...   \n",
       "4     I think we should totally switch to renewable ...   \n",
       "...                                                 ...   \n",
       "1167  Climate change is a really important issue tha...   \n",
       "1168  Introduction:\\n\\nDriverless cars, a technology...   \n",
       "1169  Social media has become an integral part of ou...   \n",
       "1170  Meat, it's something that many of us have grow...   \n",
       "1171  The legalization of marijuana has been a topic...   \n",
       "\n",
       "                                         writing_prompt  \n",
       "0     Write a letter to your state senator in which ...  \n",
       "1     Some schools require students to complete summ...  \n",
       "2     When people ask for advice, they sometimes tal...  \n",
       "3     Many people believe that arts education is ess...  \n",
       "4     In recent years, there has been a push towards...  \n",
       "...                                                 ...  \n",
       "1167  The issue of climate change has become increas...  \n",
       "1168  In the article “Driverless Cars are Coming,” t...  \n",
       "1169  The impact of social media on society has been...  \n",
       "1170  There is a growing movement advocating for the...  \n",
       "1171  The legalization of marijuana has been a contr...  \n",
       "\n",
       "[1172 rows x 2 columns]"
      ]
     },
     "execution_count": 25,
     "metadata": {},
     "output_type": "execute_result"
    }
   ],
   "source": [
    "# Dataset\n",
    "d2 = pd.read_csv(r\"D:\\Downloads\\LLM-Text-Detection-main\\Extra-Datasets-Used\\llama_70b_v1.csv\")\n",
    "d2"
   ]
  },
  {
   "cell_type": "code",
   "execution_count": 26,
   "id": "360c182c",
   "metadata": {
    "papermill": {
     "duration": 0.039491,
     "end_time": "2023-12-19T22:08:14.919431",
     "exception": false,
     "start_time": "2023-12-19T22:08:14.879940",
     "status": "completed"
    },
    "tags": []
   },
   "outputs": [
    {
     "data": {
      "text/html": [
       "<div>\n",
       "<style scoped>\n",
       "    .dataframe tbody tr th:only-of-type {\n",
       "        vertical-align: middle;\n",
       "    }\n",
       "\n",
       "    .dataframe tbody tr th {\n",
       "        vertical-align: top;\n",
       "    }\n",
       "\n",
       "    .dataframe thead th {\n",
       "        text-align: right;\n",
       "    }\n",
       "</style>\n",
       "<table border=\"1\" class=\"dataframe\">\n",
       "  <thead>\n",
       "    <tr style=\"text-align: right;\">\n",
       "      <th></th>\n",
       "      <th>text</th>\n",
       "      <th>generated</th>\n",
       "    </tr>\n",
       "  </thead>\n",
       "  <tbody>\n",
       "    <tr>\n",
       "      <th>0</th>\n",
       "      <td>Dear Principal,\\n\\nI am writing to express my ...</td>\n",
       "      <td>1</td>\n",
       "    </tr>\n",
       "    <tr>\n",
       "      <th>1</th>\n",
       "      <td>When people are faced with a difficult decisio...</td>\n",
       "      <td>1</td>\n",
       "    </tr>\n",
       "    <tr>\n",
       "      <th>2</th>\n",
       "      <td>As a grade 12 student, I believe that summer p...</td>\n",
       "      <td>1</td>\n",
       "    </tr>\n",
       "    <tr>\n",
       "      <th>3</th>\n",
       "      <td>Dear Principal,\\n\\nI am writing to share my th...</td>\n",
       "      <td>1</td>\n",
       "    </tr>\n",
       "    <tr>\n",
       "      <th>4</th>\n",
       "      <td>\"Making Mona Lisa Smile\" is an interesting art...</td>\n",
       "      <td>1</td>\n",
       "    </tr>\n",
       "    <tr>\n",
       "      <th>...</th>\n",
       "      <td>...</td>\n",
       "      <td>...</td>\n",
       "    </tr>\n",
       "    <tr>\n",
       "      <th>2222</th>\n",
       "      <td>Climate change is a really important issue tha...</td>\n",
       "      <td>1</td>\n",
       "    </tr>\n",
       "    <tr>\n",
       "      <th>2223</th>\n",
       "      <td>Introduction:\\n\\nDriverless cars, a technology...</td>\n",
       "      <td>1</td>\n",
       "    </tr>\n",
       "    <tr>\n",
       "      <th>2224</th>\n",
       "      <td>Social media has become an integral part of ou...</td>\n",
       "      <td>1</td>\n",
       "    </tr>\n",
       "    <tr>\n",
       "      <th>2225</th>\n",
       "      <td>Meat, it's something that many of us have grow...</td>\n",
       "      <td>1</td>\n",
       "    </tr>\n",
       "    <tr>\n",
       "      <th>2226</th>\n",
       "      <td>The legalization of marijuana has been a topic...</td>\n",
       "      <td>1</td>\n",
       "    </tr>\n",
       "  </tbody>\n",
       "</table>\n",
       "<p>2227 rows × 2 columns</p>\n",
       "</div>"
      ],
      "text/plain": [
       "                                                   text  generated\n",
       "0     Dear Principal,\\n\\nI am writing to express my ...          1\n",
       "1     When people are faced with a difficult decisio...          1\n",
       "2     As a grade 12 student, I believe that summer p...          1\n",
       "3     Dear Principal,\\n\\nI am writing to share my th...          1\n",
       "4     \"Making Mona Lisa Smile\" is an interesting art...          1\n",
       "...                                                 ...        ...\n",
       "2222  Climate change is a really important issue tha...          1\n",
       "2223  Introduction:\\n\\nDriverless cars, a technology...          1\n",
       "2224  Social media has become an integral part of ou...          1\n",
       "2225  Meat, it's something that many of us have grow...          1\n",
       "2226  The legalization of marijuana has been a topic...          1\n",
       "\n",
       "[2227 rows x 2 columns]"
      ]
     },
     "execution_count": 26,
     "metadata": {},
     "output_type": "execute_result"
    }
   ],
   "source": [
    "data = pd.concat([d1,d2],axis=0,ignore_index=True)\n",
    "data['generated'] = 1\n",
    "data.columns = ['text','writing_prompt','generated']\n",
    "data = data[['text','generated']]\n",
    "data"
   ]
  },
  {
   "cell_type": "code",
   "execution_count": 27,
   "id": "25fa6d1e",
   "metadata": {
    "papermill": {
     "duration": 0.04053,
     "end_time": "2023-12-19T22:08:14.982659",
     "exception": false,
     "start_time": "2023-12-19T22:08:14.942129",
     "status": "completed"
    },
    "tags": []
   },
   "outputs": [
    {
     "data": {
      "text/html": [
       "<div>\n",
       "<style scoped>\n",
       "    .dataframe tbody tr th:only-of-type {\n",
       "        vertical-align: middle;\n",
       "    }\n",
       "\n",
       "    .dataframe tbody tr th {\n",
       "        vertical-align: top;\n",
       "    }\n",
       "\n",
       "    .dataframe thead th {\n",
       "        text-align: right;\n",
       "    }\n",
       "</style>\n",
       "<table border=\"1\" class=\"dataframe\">\n",
       "  <thead>\n",
       "    <tr style=\"text-align: right;\">\n",
       "      <th></th>\n",
       "      <th>text</th>\n",
       "      <th>generated</th>\n",
       "    </tr>\n",
       "  </thead>\n",
       "  <tbody>\n",
       "    <tr>\n",
       "      <th>0</th>\n",
       "      <td>Cars. Cars have been around since they became ...</td>\n",
       "      <td>0</td>\n",
       "    </tr>\n",
       "    <tr>\n",
       "      <th>1</th>\n",
       "      <td>Transportation is a large necessity in most co...</td>\n",
       "      <td>0</td>\n",
       "    </tr>\n",
       "    <tr>\n",
       "      <th>2</th>\n",
       "      <td>\"America's love affair with it's vehicles seem...</td>\n",
       "      <td>0</td>\n",
       "    </tr>\n",
       "    <tr>\n",
       "      <th>3</th>\n",
       "      <td>How often do you ride in a car? Do you drive a...</td>\n",
       "      <td>0</td>\n",
       "    </tr>\n",
       "    <tr>\n",
       "      <th>4</th>\n",
       "      <td>Cars are a wonderful thing. They are perhaps o...</td>\n",
       "      <td>0</td>\n",
       "    </tr>\n",
       "    <tr>\n",
       "      <th>...</th>\n",
       "      <td>...</td>\n",
       "      <td>...</td>\n",
       "    </tr>\n",
       "    <tr>\n",
       "      <th>67684</th>\n",
       "      <td>Climate change is a really important issue tha...</td>\n",
       "      <td>1</td>\n",
       "    </tr>\n",
       "    <tr>\n",
       "      <th>67685</th>\n",
       "      <td>Introduction:\\n\\nDriverless cars, a technology...</td>\n",
       "      <td>1</td>\n",
       "    </tr>\n",
       "    <tr>\n",
       "      <th>67686</th>\n",
       "      <td>Social media has become an integral part of ou...</td>\n",
       "      <td>1</td>\n",
       "    </tr>\n",
       "    <tr>\n",
       "      <th>67687</th>\n",
       "      <td>Meat, it's something that many of us have grow...</td>\n",
       "      <td>1</td>\n",
       "    </tr>\n",
       "    <tr>\n",
       "      <th>67688</th>\n",
       "      <td>The legalization of marijuana has been a topic...</td>\n",
       "      <td>1</td>\n",
       "    </tr>\n",
       "  </tbody>\n",
       "</table>\n",
       "<p>67689 rows × 2 columns</p>\n",
       "</div>"
      ],
      "text/plain": [
       "                                                    text  generated\n",
       "0      Cars. Cars have been around since they became ...          0\n",
       "1      Transportation is a large necessity in most co...          0\n",
       "2      \"America's love affair with it's vehicles seem...          0\n",
       "3      How often do you ride in a car? Do you drive a...          0\n",
       "4      Cars are a wonderful thing. They are perhaps o...          0\n",
       "...                                                  ...        ...\n",
       "67684  Climate change is a really important issue tha...          1\n",
       "67685  Introduction:\\n\\nDriverless cars, a technology...          1\n",
       "67686  Social media has become an integral part of ou...          1\n",
       "67687  Meat, it's something that many of us have grow...          1\n",
       "67688  The legalization of marijuana has been a topic...          1\n",
       "\n",
       "[67689 rows x 2 columns]"
      ]
     },
     "execution_count": 27,
     "metadata": {},
     "output_type": "execute_result"
    }
   ],
   "source": [
    "Train_Data = pd.concat([train_data,data],axis=0,ignore_index=True)\n",
    "Train_Data"
   ]
  },
  {
   "cell_type": "code",
   "execution_count": 28,
   "id": "84047433",
   "metadata": {
    "papermill": {
     "duration": 0.114245,
     "end_time": "2023-12-19T22:08:15.120316",
     "exception": false,
     "start_time": "2023-12-19T22:08:15.006071",
     "status": "completed"
    },
    "tags": []
   },
   "outputs": [
    {
     "data": {
      "text/html": [
       "<div>\n",
       "<style scoped>\n",
       "    .dataframe tbody tr th:only-of-type {\n",
       "        vertical-align: middle;\n",
       "    }\n",
       "\n",
       "    .dataframe tbody tr th {\n",
       "        vertical-align: top;\n",
       "    }\n",
       "\n",
       "    .dataframe thead th {\n",
       "        text-align: right;\n",
       "    }\n",
       "</style>\n",
       "<table border=\"1\" class=\"dataframe\">\n",
       "  <thead>\n",
       "    <tr style=\"text-align: right;\">\n",
       "      <th></th>\n",
       "      <th>id</th>\n",
       "      <th>prompt_id</th>\n",
       "      <th>text</th>\n",
       "      <th>generated</th>\n",
       "    </tr>\n",
       "  </thead>\n",
       "  <tbody>\n",
       "    <tr>\n",
       "      <th>0</th>\n",
       "      <td>0</td>\n",
       "      <td>0.0</td>\n",
       "      <td>## The Advantages of Limiting Car Usage\\n\\nIn ...</td>\n",
       "      <td>1.0</td>\n",
       "    </tr>\n",
       "    <tr>\n",
       "      <th>1</th>\n",
       "      <td>1</td>\n",
       "      <td>0.0</td>\n",
       "      <td>The United States is a car-dependent nation, w...</td>\n",
       "      <td>1.0</td>\n",
       "    </tr>\n",
       "    <tr>\n",
       "      <th>2</th>\n",
       "      <td>2</td>\n",
       "      <td>0.0</td>\n",
       "      <td>In recent years, there has been a growing move...</td>\n",
       "      <td>1.0</td>\n",
       "    </tr>\n",
       "    <tr>\n",
       "      <th>3</th>\n",
       "      <td>3</td>\n",
       "      <td>0.0</td>\n",
       "      <td>In recent years, there has been a growing move...</td>\n",
       "      <td>1.0</td>\n",
       "    </tr>\n",
       "    <tr>\n",
       "      <th>4</th>\n",
       "      <td>4</td>\n",
       "      <td>0.0</td>\n",
       "      <td>In the past few decades, the United States has...</td>\n",
       "      <td>1.0</td>\n",
       "    </tr>\n",
       "    <tr>\n",
       "      <th>...</th>\n",
       "      <td>...</td>\n",
       "      <td>...</td>\n",
       "      <td>...</td>\n",
       "      <td>...</td>\n",
       "    </tr>\n",
       "    <tr>\n",
       "      <th>1379</th>\n",
       "      <td>1379</td>\n",
       "      <td>1.0</td>\n",
       "      <td>Dear Senator,\\n\\nI am writing to you today to ...</td>\n",
       "      <td>1.0</td>\n",
       "    </tr>\n",
       "    <tr>\n",
       "      <th>1380</th>\n",
       "      <td>1380</td>\n",
       "      <td>1.0</td>\n",
       "      <td>Dear Senator,\\n\\nI am writing to you today to ...</td>\n",
       "      <td>1.0</td>\n",
       "    </tr>\n",
       "    <tr>\n",
       "      <th>1381</th>\n",
       "      <td>1381</td>\n",
       "      <td>1.0</td>\n",
       "      <td>Dear Senator,\\n\\nI am writing to you today to ...</td>\n",
       "      <td>1.0</td>\n",
       "    </tr>\n",
       "    <tr>\n",
       "      <th>1382</th>\n",
       "      <td>1382</td>\n",
       "      <td>1.0</td>\n",
       "      <td>Dear Senator,\\n\\nI am writing to you today to ...</td>\n",
       "      <td>1.0</td>\n",
       "    </tr>\n",
       "    <tr>\n",
       "      <th>1383</th>\n",
       "      <td>1383</td>\n",
       "      <td>1.0</td>\n",
       "      <td>Dear Senator,\\n\\nI am writing to you today to ...</td>\n",
       "      <td>1.0</td>\n",
       "    </tr>\n",
       "  </tbody>\n",
       "</table>\n",
       "<p>1384 rows × 4 columns</p>\n",
       "</div>"
      ],
      "text/plain": [
       "        id  prompt_id                                               text  \\\n",
       "0        0        0.0  ## The Advantages of Limiting Car Usage\\n\\nIn ...   \n",
       "1        1        0.0  The United States is a car-dependent nation, w...   \n",
       "2        2        0.0  In recent years, there has been a growing move...   \n",
       "3        3        0.0  In recent years, there has been a growing move...   \n",
       "4        4        0.0  In the past few decades, the United States has...   \n",
       "...    ...        ...                                                ...   \n",
       "1379  1379        1.0  Dear Senator,\\n\\nI am writing to you today to ...   \n",
       "1380  1380        1.0  Dear Senator,\\n\\nI am writing to you today to ...   \n",
       "1381  1381        1.0  Dear Senator,\\n\\nI am writing to you today to ...   \n",
       "1382  1382        1.0  Dear Senator,\\n\\nI am writing to you today to ...   \n",
       "1383  1383        1.0  Dear Senator,\\n\\nI am writing to you today to ...   \n",
       "\n",
       "      generated  \n",
       "0           1.0  \n",
       "1           1.0  \n",
       "2           1.0  \n",
       "3           1.0  \n",
       "4           1.0  \n",
       "...         ...  \n",
       "1379        1.0  \n",
       "1380        1.0  \n",
       "1381        1.0  \n",
       "1382        1.0  \n",
       "1383        1.0  \n",
       "\n",
       "[1384 rows x 4 columns]"
      ]
     },
     "execution_count": 28,
     "metadata": {},
     "output_type": "execute_result"
    }
   ],
   "source": [
    "d = pd.read_csv(\"D:\\Downloads\\LLM-Text-Detection-main\\Extra-Datasets-Used\\LLM_generated_essay_PaLM.csv\")\n",
    "d"
   ]
  },
  {
   "cell_type": "code",
   "execution_count": 29,
   "id": "1583d361",
   "metadata": {
    "papermill": {
     "duration": 0.030432,
     "end_time": "2023-12-19T22:08:15.173272",
     "exception": false,
     "start_time": "2023-12-19T22:08:15.142840",
     "status": "completed"
    },
    "tags": []
   },
   "outputs": [],
   "source": [
    "d['generated'] = d['generated'].astype(int)"
   ]
  },
  {
   "cell_type": "code",
   "execution_count": 30,
   "id": "3f89584b",
   "metadata": {
    "papermill": {
     "duration": 0.036654,
     "end_time": "2023-12-19T22:08:15.233983",
     "exception": false,
     "start_time": "2023-12-19T22:08:15.197329",
     "status": "completed"
    },
    "tags": []
   },
   "outputs": [
    {
     "data": {
      "text/html": [
       "<div>\n",
       "<style scoped>\n",
       "    .dataframe tbody tr th:only-of-type {\n",
       "        vertical-align: middle;\n",
       "    }\n",
       "\n",
       "    .dataframe tbody tr th {\n",
       "        vertical-align: top;\n",
       "    }\n",
       "\n",
       "    .dataframe thead th {\n",
       "        text-align: right;\n",
       "    }\n",
       "</style>\n",
       "<table border=\"1\" class=\"dataframe\">\n",
       "  <thead>\n",
       "    <tr style=\"text-align: right;\">\n",
       "      <th></th>\n",
       "      <th>text</th>\n",
       "      <th>generated</th>\n",
       "    </tr>\n",
       "  </thead>\n",
       "  <tbody>\n",
       "    <tr>\n",
       "      <th>0</th>\n",
       "      <td>## The Advantages of Limiting Car Usage\\n\\nIn ...</td>\n",
       "      <td>1</td>\n",
       "    </tr>\n",
       "    <tr>\n",
       "      <th>1</th>\n",
       "      <td>The United States is a car-dependent nation, w...</td>\n",
       "      <td>1</td>\n",
       "    </tr>\n",
       "    <tr>\n",
       "      <th>2</th>\n",
       "      <td>In recent years, there has been a growing move...</td>\n",
       "      <td>1</td>\n",
       "    </tr>\n",
       "    <tr>\n",
       "      <th>3</th>\n",
       "      <td>In recent years, there has been a growing move...</td>\n",
       "      <td>1</td>\n",
       "    </tr>\n",
       "    <tr>\n",
       "      <th>4</th>\n",
       "      <td>In the past few decades, the United States has...</td>\n",
       "      <td>1</td>\n",
       "    </tr>\n",
       "    <tr>\n",
       "      <th>...</th>\n",
       "      <td>...</td>\n",
       "      <td>...</td>\n",
       "    </tr>\n",
       "    <tr>\n",
       "      <th>1379</th>\n",
       "      <td>Dear Senator,\\n\\nI am writing to you today to ...</td>\n",
       "      <td>1</td>\n",
       "    </tr>\n",
       "    <tr>\n",
       "      <th>1380</th>\n",
       "      <td>Dear Senator,\\n\\nI am writing to you today to ...</td>\n",
       "      <td>1</td>\n",
       "    </tr>\n",
       "    <tr>\n",
       "      <th>1381</th>\n",
       "      <td>Dear Senator,\\n\\nI am writing to you today to ...</td>\n",
       "      <td>1</td>\n",
       "    </tr>\n",
       "    <tr>\n",
       "      <th>1382</th>\n",
       "      <td>Dear Senator,\\n\\nI am writing to you today to ...</td>\n",
       "      <td>1</td>\n",
       "    </tr>\n",
       "    <tr>\n",
       "      <th>1383</th>\n",
       "      <td>Dear Senator,\\n\\nI am writing to you today to ...</td>\n",
       "      <td>1</td>\n",
       "    </tr>\n",
       "  </tbody>\n",
       "</table>\n",
       "<p>1384 rows × 2 columns</p>\n",
       "</div>"
      ],
      "text/plain": [
       "                                                   text  generated\n",
       "0     ## The Advantages of Limiting Car Usage\\n\\nIn ...          1\n",
       "1     The United States is a car-dependent nation, w...          1\n",
       "2     In recent years, there has been a growing move...          1\n",
       "3     In recent years, there has been a growing move...          1\n",
       "4     In the past few decades, the United States has...          1\n",
       "...                                                 ...        ...\n",
       "1379  Dear Senator,\\n\\nI am writing to you today to ...          1\n",
       "1380  Dear Senator,\\n\\nI am writing to you today to ...          1\n",
       "1381  Dear Senator,\\n\\nI am writing to you today to ...          1\n",
       "1382  Dear Senator,\\n\\nI am writing to you today to ...          1\n",
       "1383  Dear Senator,\\n\\nI am writing to you today to ...          1\n",
       "\n",
       "[1384 rows x 2 columns]"
      ]
     },
     "execution_count": 30,
     "metadata": {},
     "output_type": "execute_result"
    }
   ],
   "source": [
    "dd = d[['text','generated']]\n",
    "dd"
   ]
  },
  {
   "cell_type": "code",
   "execution_count": 31,
   "id": "3d71d5f0",
   "metadata": {
    "papermill": {
     "duration": 0.038952,
     "end_time": "2023-12-19T22:08:15.296872",
     "exception": false,
     "start_time": "2023-12-19T22:08:15.257920",
     "status": "completed"
    },
    "tags": []
   },
   "outputs": [
    {
     "data": {
      "text/html": [
       "<div>\n",
       "<style scoped>\n",
       "    .dataframe tbody tr th:only-of-type {\n",
       "        vertical-align: middle;\n",
       "    }\n",
       "\n",
       "    .dataframe tbody tr th {\n",
       "        vertical-align: top;\n",
       "    }\n",
       "\n",
       "    .dataframe thead th {\n",
       "        text-align: right;\n",
       "    }\n",
       "</style>\n",
       "<table border=\"1\" class=\"dataframe\">\n",
       "  <thead>\n",
       "    <tr style=\"text-align: right;\">\n",
       "      <th></th>\n",
       "      <th>text</th>\n",
       "      <th>generated</th>\n",
       "    </tr>\n",
       "  </thead>\n",
       "  <tbody>\n",
       "    <tr>\n",
       "      <th>0</th>\n",
       "      <td>Cars. Cars have been around since they became ...</td>\n",
       "      <td>0</td>\n",
       "    </tr>\n",
       "    <tr>\n",
       "      <th>1</th>\n",
       "      <td>Transportation is a large necessity in most co...</td>\n",
       "      <td>0</td>\n",
       "    </tr>\n",
       "    <tr>\n",
       "      <th>2</th>\n",
       "      <td>\"America's love affair with it's vehicles seem...</td>\n",
       "      <td>0</td>\n",
       "    </tr>\n",
       "    <tr>\n",
       "      <th>3</th>\n",
       "      <td>How often do you ride in a car? Do you drive a...</td>\n",
       "      <td>0</td>\n",
       "    </tr>\n",
       "    <tr>\n",
       "      <th>4</th>\n",
       "      <td>Cars are a wonderful thing. They are perhaps o...</td>\n",
       "      <td>0</td>\n",
       "    </tr>\n",
       "    <tr>\n",
       "      <th>...</th>\n",
       "      <td>...</td>\n",
       "      <td>...</td>\n",
       "    </tr>\n",
       "    <tr>\n",
       "      <th>69068</th>\n",
       "      <td>Dear Senator,\\n\\nI am writing to you today to ...</td>\n",
       "      <td>1</td>\n",
       "    </tr>\n",
       "    <tr>\n",
       "      <th>69069</th>\n",
       "      <td>Dear Senator,\\n\\nI am writing to you today to ...</td>\n",
       "      <td>1</td>\n",
       "    </tr>\n",
       "    <tr>\n",
       "      <th>69070</th>\n",
       "      <td>Dear Senator,\\n\\nI am writing to you today to ...</td>\n",
       "      <td>1</td>\n",
       "    </tr>\n",
       "    <tr>\n",
       "      <th>69071</th>\n",
       "      <td>Dear Senator,\\n\\nI am writing to you today to ...</td>\n",
       "      <td>1</td>\n",
       "    </tr>\n",
       "    <tr>\n",
       "      <th>69072</th>\n",
       "      <td>Dear Senator,\\n\\nI am writing to you today to ...</td>\n",
       "      <td>1</td>\n",
       "    </tr>\n",
       "  </tbody>\n",
       "</table>\n",
       "<p>69073 rows × 2 columns</p>\n",
       "</div>"
      ],
      "text/plain": [
       "                                                    text  generated\n",
       "0      Cars. Cars have been around since they became ...          0\n",
       "1      Transportation is a large necessity in most co...          0\n",
       "2      \"America's love affair with it's vehicles seem...          0\n",
       "3      How often do you ride in a car? Do you drive a...          0\n",
       "4      Cars are a wonderful thing. They are perhaps o...          0\n",
       "...                                                  ...        ...\n",
       "69068  Dear Senator,\\n\\nI am writing to you today to ...          1\n",
       "69069  Dear Senator,\\n\\nI am writing to you today to ...          1\n",
       "69070  Dear Senator,\\n\\nI am writing to you today to ...          1\n",
       "69071  Dear Senator,\\n\\nI am writing to you today to ...          1\n",
       "69072  Dear Senator,\\n\\nI am writing to you today to ...          1\n",
       "\n",
       "[69073 rows x 2 columns]"
      ]
     },
     "execution_count": 31,
     "metadata": {},
     "output_type": "execute_result"
    }
   ],
   "source": [
    "Train_Data  =pd.concat([Train_Data,dd],axis=0,ignore_index=True)\n",
    "Train_Data"
   ]
  },
  {
   "cell_type": "code",
   "execution_count": 32,
   "id": "0ae23b94",
   "metadata": {
    "papermill": {
     "duration": 0.370895,
     "end_time": "2023-12-19T22:08:15.692634",
     "exception": false,
     "start_time": "2023-12-19T22:08:15.321739",
     "status": "completed"
    },
    "tags": []
   },
   "outputs": [],
   "source": [
    "Train_Data.drop_duplicates(inplace=True,ignore_index=True)"
   ]
  },
  {
   "cell_type": "code",
   "execution_count": 33,
   "id": "e48d6e9b",
   "metadata": {
    "papermill": {
     "duration": 0.041545,
     "end_time": "2023-12-19T22:08:15.761706",
     "exception": false,
     "start_time": "2023-12-19T22:08:15.720161",
     "status": "completed"
    },
    "tags": []
   },
   "outputs": [
    {
     "data": {
      "text/html": [
       "<div>\n",
       "<style scoped>\n",
       "    .dataframe tbody tr th:only-of-type {\n",
       "        vertical-align: middle;\n",
       "    }\n",
       "\n",
       "    .dataframe tbody tr th {\n",
       "        vertical-align: top;\n",
       "    }\n",
       "\n",
       "    .dataframe thead th {\n",
       "        text-align: right;\n",
       "    }\n",
       "</style>\n",
       "<table border=\"1\" class=\"dataframe\">\n",
       "  <thead>\n",
       "    <tr style=\"text-align: right;\">\n",
       "      <th></th>\n",
       "      <th>text</th>\n",
       "      <th>generated</th>\n",
       "    </tr>\n",
       "  </thead>\n",
       "  <tbody>\n",
       "    <tr>\n",
       "      <th>0</th>\n",
       "      <td>Cars. Cars have been around since they became ...</td>\n",
       "      <td>0</td>\n",
       "    </tr>\n",
       "    <tr>\n",
       "      <th>1</th>\n",
       "      <td>Transportation is a large necessity in most co...</td>\n",
       "      <td>0</td>\n",
       "    </tr>\n",
       "    <tr>\n",
       "      <th>2</th>\n",
       "      <td>\"America's love affair with it's vehicles seem...</td>\n",
       "      <td>0</td>\n",
       "    </tr>\n",
       "    <tr>\n",
       "      <th>3</th>\n",
       "      <td>How often do you ride in a car? Do you drive a...</td>\n",
       "      <td>0</td>\n",
       "    </tr>\n",
       "    <tr>\n",
       "      <th>4</th>\n",
       "      <td>Cars are a wonderful thing. They are perhaps o...</td>\n",
       "      <td>0</td>\n",
       "    </tr>\n",
       "    <tr>\n",
       "      <th>...</th>\n",
       "      <td>...</td>\n",
       "      <td>...</td>\n",
       "    </tr>\n",
       "    <tr>\n",
       "      <th>66841</th>\n",
       "      <td>Dear Senator,\\n\\nI am writing to you today to ...</td>\n",
       "      <td>1</td>\n",
       "    </tr>\n",
       "    <tr>\n",
       "      <th>66842</th>\n",
       "      <td>Dear Senator,\\n\\nI am writing to you today to ...</td>\n",
       "      <td>1</td>\n",
       "    </tr>\n",
       "    <tr>\n",
       "      <th>66843</th>\n",
       "      <td>Dear Senator,\\n\\nI am writing to you today to ...</td>\n",
       "      <td>1</td>\n",
       "    </tr>\n",
       "    <tr>\n",
       "      <th>66844</th>\n",
       "      <td>Dear Senator,\\n\\nI am writing to you today to ...</td>\n",
       "      <td>1</td>\n",
       "    </tr>\n",
       "    <tr>\n",
       "      <th>66845</th>\n",
       "      <td>Dear Senator,\\n\\nI am writing to you today to ...</td>\n",
       "      <td>1</td>\n",
       "    </tr>\n",
       "  </tbody>\n",
       "</table>\n",
       "<p>66846 rows × 2 columns</p>\n",
       "</div>"
      ],
      "text/plain": [
       "                                                    text  generated\n",
       "0      Cars. Cars have been around since they became ...          0\n",
       "1      Transportation is a large necessity in most co...          0\n",
       "2      \"America's love affair with it's vehicles seem...          0\n",
       "3      How often do you ride in a car? Do you drive a...          0\n",
       "4      Cars are a wonderful thing. They are perhaps o...          0\n",
       "...                                                  ...        ...\n",
       "66841  Dear Senator,\\n\\nI am writing to you today to ...          1\n",
       "66842  Dear Senator,\\n\\nI am writing to you today to ...          1\n",
       "66843  Dear Senator,\\n\\nI am writing to you today to ...          1\n",
       "66844  Dear Senator,\\n\\nI am writing to you today to ...          1\n",
       "66845  Dear Senator,\\n\\nI am writing to you today to ...          1\n",
       "\n",
       "[66846 rows x 2 columns]"
      ]
     },
     "execution_count": 33,
     "metadata": {},
     "output_type": "execute_result"
    }
   ],
   "source": [
    "Train_Data"
   ]
  },
  {
   "cell_type": "code",
   "execution_count": 34,
   "id": "6602dd10",
   "metadata": {
    "papermill": {
     "duration": 0.03675,
     "end_time": "2023-12-19T22:08:15.823495",
     "exception": false,
     "start_time": "2023-12-19T22:08:15.786745",
     "status": "completed"
    },
    "tags": []
   },
   "outputs": [
    {
     "data": {
      "text/plain": [
       "generated\n",
       "0    41257\n",
       "1    25589\n",
       "Name: count, dtype: int64"
      ]
     },
     "execution_count": 34,
     "metadata": {},
     "output_type": "execute_result"
    }
   ],
   "source": [
    "Train_Data['generated'].value_counts()"
   ]
  },
  {
   "cell_type": "code",
   "execution_count": 35,
   "id": "4bd83acd",
   "metadata": {
    "papermill": {
     "duration": 0.141531,
     "end_time": "2023-12-19T22:08:15.989221",
     "exception": false,
     "start_time": "2023-12-19T22:08:15.847690",
     "status": "completed"
    },
    "tags": []
   },
   "outputs": [
    {
     "data": {
      "image/png": "[encoded data removed]",
      "text/plain": [
       "<Figure size 640x480 with 1 Axes>"
      ]
     },
     "metadata": {},
     "output_type": "display_data"
    }
   ],
   "source": [
    "Train_Data.generated.value_counts().plot(kind='pie',autopct=\"%.1f%%\")\n",
    "plt.title(\"Target Column Distributions\")\n",
    "plt.show()"
   ]
  },
  {
   "cell_type": "code",
   "execution_count": 36,
   "id": "4afc6d00",
   "metadata": {
    "papermill": {
     "duration": 0.210986,
     "end_time": "2023-12-19T22:08:16.225671",
     "exception": false,
     "start_time": "2023-12-19T22:08:16.014685",
     "status": "completed"
    },
    "tags": []
   },
   "outputs": [
    {
     "data": {
      "text/plain": [
       "<function matplotlib.pyplot.show(close=None, block=None)>"
      ]
     },
     "execution_count": 36,
     "metadata": {},
     "output_type": "execute_result"
    },
    {
     "data": {
      "image/png": "[encoded data removed]",
      "text/plain": [
       "<Figure size 640x480 with 1 Axes>"
      ]
     },
     "metadata": {},
     "output_type": "display_data"
    }
   ],
   "source": [
    "sns.countplot(x=Train_Data['generated'])\n",
    "plt.show"
   ]
  },
  {
   "cell_type": "markdown",
   "id": "86eb3d4e",
   "metadata": {
    "papermill": {
     "duration": 0.025018,
     "end_time": "2023-12-19T22:08:16.274992",
     "exception": false,
     "start_time": "2023-12-19T22:08:16.249974",
     "status": "completed"
    },
    "tags": []
   },
   "source": [
    "# Balancing the dataset"
   ]
  },
  {
   "cell_type": "code",
   "execution_count": 37,
   "id": "c84619e9",
   "metadata": {
    "papermill": {
     "duration": 0.037791,
     "end_time": "2023-12-19T22:08:16.339145",
     "exception": false,
     "start_time": "2023-12-19T22:08:16.301354",
     "status": "completed"
    },
    "tags": []
   },
   "outputs": [],
   "source": [
    "# function to balance label_counts\n",
    "\n",
    "def balance_labels(df, label_column='generated'):\n",
    "    label_counts=df[label_column].value_counts()\n",
    "    max_count=label_counts.max()\n",
    "    \n",
    "    balanced_df=pd.DataFrame()\n",
    "    \n",
    "    for label, count in label_counts.items():\n",
    "        label_subset = df[df[label_column]==label]\n",
    "        oversampled_subset= label_subset.sample(n=(max_count-count), replace=True, random_state=42)\n",
    "        balanced_df = pd.concat([balanced_df, label_subset, oversampled_subset], ignore_index=True)\n",
    "        \n",
    "    return balanced_df\n"
   ]
  },
  {
   "cell_type": "code",
   "execution_count": 38,
   "id": "5ef25ea2",
   "metadata": {
    "papermill": {
     "duration": 0.052879,
     "end_time": "2023-12-19T22:08:16.419045",
     "exception": false,
     "start_time": "2023-12-19T22:08:16.366166",
     "status": "completed"
    },
    "tags": []
   },
   "outputs": [],
   "source": [
    "# Balance labels in the dataframe\n",
    "Train_Data=balance_labels(Train_Data)"
   ]
  },
  {
   "cell_type": "code",
   "execution_count": null,
   "id": "50d29357",
   "metadata": {
    "papermill": {
     "duration": 0.026367,
     "end_time": "2023-12-19T22:08:16.473384",
     "exception": false,
     "start_time": "2023-12-19T22:08:16.447017",
     "status": "completed"
    },
    "tags": []
   },
   "outputs": [],
   "source": []
  },
  {
   "cell_type": "code",
   "execution_count": 39,
   "id": "4ddd9413",
   "metadata": {
    "papermill": {
     "duration": 0.164146,
     "end_time": "2023-12-19T22:08:16.664018",
     "exception": false,
     "start_time": "2023-12-19T22:08:16.499872",
     "status": "completed"
    },
    "tags": []
   },
   "outputs": [
    {
     "data": {
      "image/png": "[encoded data removed]",
      "text/plain": [
       "<Figure size 640x480 with 1 Axes>"
      ]
     },
     "metadata": {},
     "output_type": "display_data"
    }
   ],
   "source": [
    "Train_Data.generated.value_counts().plot(kind='pie',autopct=\"%.1f%%\")\n",
    "plt.title(\"Target Column Distributions\")\n",
    "plt.show()"
   ]
  },
  {
   "cell_type": "markdown",
   "id": "bb2a81dc",
   "metadata": {
    "papermill": {
     "duration": 0.032605,
     "end_time": "2023-12-19T22:08:16.757167",
     "exception": false,
     "start_time": "2023-12-19T22:08:16.724562",
     "status": "completed"
    },
    "tags": []
   },
   "source": [
    "# Model Building"
   ]
  },
  {
   "cell_type": "markdown",
   "id": "05d2ec8c",
   "metadata": {
    "papermill": {
     "duration": 0.025049,
     "end_time": "2023-12-19T22:08:16.808225",
     "exception": false,
     "start_time": "2023-12-19T22:08:16.783176",
     "status": "completed"
    },
    "tags": []
   },
   "source": [
    "### first we would be segregating the training dataset we have into train and test datasets"
   ]
  },
  {
   "cell_type": "code",
   "execution_count": 41,
   "id": "295cf741",
   "metadata": {
    "papermill": {
     "duration": 0.044379,
     "end_time": "2023-12-19T22:08:16.876845",
     "exception": false,
     "start_time": "2023-12-19T22:08:16.832466",
     "status": "completed"
    },
    "tags": []
   },
   "outputs": [
    {
     "name": "stdout",
     "output_type": "stream",
     "text": [
      "(66011,)\n",
      "(16503,)\n",
      "(66011,)\n",
      "(16503,)\n"
     ]
    }
   ],
   "source": [
    "x_train,x_test,y_train,y_test=train_test_split(Train_Data.text,Train_Data.generated,test_size=0.2,shuffle=True)\n",
    "print(x_train.shape)\n",
    "print(x_test.shape)\n",
    "print(y_train.shape)\n",
    "print(y_test.shape)"
   ]
  },
  {
   "cell_type": "code",
   "execution_count": 41,
   "id": "8b7f1241",
   "metadata": {
    "papermill": {
     "duration": 0.035769,
     "end_time": "2023-12-19T22:08:16.937546",
     "exception": false,
     "start_time": "2023-12-19T22:08:16.901777",
     "status": "completed"
    },
    "tags": []
   },
   "outputs": [
    {
     "data": {
      "text/plain": [
       "53334     As a teenager, it can be tempting to try to b...\n",
       "27795    Is it crazy that now there is a Facial Action ...\n",
       "31737    Phones and driving\\n\\nDo you think it is worth...\n",
       "9313     \"Twenty five years ago something funny happene...\n",
       "82118    In today's world, the education system is evol...\n",
       "                               ...                        \n",
       "50362    I believe that people should adopt a vegetaria...\n",
       "20578    When you ask multiple people for advice, you a...\n",
       "10937    Cars have essentially become a necessity in th...\n",
       "37076    Smog. Gas. Pollution. Many countries dont allo...\n",
       "75843    The idea that colleges and universities should...\n",
       "Name: text, Length: 81771, dtype: object"
      ]
     },
     "execution_count": 41,
     "metadata": {},
     "output_type": "execute_result"
    }
   ],
   "source": [
    "x_train"
   ]
  },
  {
   "cell_type": "markdown",
   "id": "af9deaf7",
   "metadata": {
    "papermill": {
     "duration": 0.027375,
     "end_time": "2023-12-19T22:08:16.989312",
     "exception": false,
     "start_time": "2023-12-19T22:08:16.961937",
     "status": "completed"
    },
    "tags": []
   },
   "source": [
    "## Using bert model for predictions"
   ]
  },
  {
   "cell_type": "code",
   "execution_count": 46,
   "id": "d4368e20-d9f6-437f-91e7-c9c0419b8186",
   "metadata": {},
   "outputs": [],
   "source": [
    "# Load preprocessor and model directly from TensorFlow Hub\n",
    "preprocessor_url = \"https://tfhub.dev/tensorflow/bert_en_uncased_preprocess/3\"\n",
    "model_url = \"https://tfhub.dev/tensorflow/bert_en_uncased_L-12_H-768_A-12/4\"\n",
    "\n",
    "# Create text input layer\n",
    "text_input = tf.keras.layers.Input(shape=(), dtype=tf.string)\n",
    "\n",
    "# Apply preprocessing using TensorFlow Hub module\n",
    "preprocessor = hub.KerasLayer(preprocessor_url)\n",
    "encoder_inputs = preprocessor(text_input)\n",
    "\n",
    "# Load BERT model from TensorFlow Hub\n",
    "encoder = hub.KerasLayer(model_url, trainable=True)\n",
    "outputs = encoder(encoder_inputs)\n",
    "\n",
    "# Extract pooled and sequence outputsw\n",
    "pooled_output = outputs[\"pooled_output\"]  \n",
    "sequence_output = outputs[\"sequence_output\"]"
   ]
  },
  {
   "cell_type": "code",
   "execution_count": 43,
   "id": "c9bf93da",
   "metadata": {
    "papermill": {
     "duration": 0.034978,
     "end_time": "2023-12-19T22:08:17.049074",
     "exception": false,
     "start_time": "2023-12-19T22:08:17.014096",
     "status": "completed"
    },
    "tags": []
   },
   "outputs": [],
   "source": [
    "# model_path =\"/kaggle/input/bert/tensorflow2/bert-en-uncased-l-12-h-768-a-12/2\"\n",
    "# preprocess_path = \"/kaggle/input/bert/tensorflow2/en-uncased-preprocess/3/\""
   ]
  },
  {
   "cell_type": "code",
   "execution_count": 44,
   "id": "a4ba1ae2",
   "metadata": {
    "papermill": {
     "duration": 8.647977,
     "end_time": "2023-12-19T22:08:25.724288",
     "exception": false,
     "start_time": "2023-12-19T22:08:17.076311",
     "status": "completed"
    },
    "tags": []
   },
   "outputs": [],
   "source": [
    "# text_input = tf.keras.layers.Input(shape=(), dtype=tf.string)\n",
    "# preprocessor = hub.KerasLayer(preprocess_path)\n",
    "# encoder_inputs  = preprocessor(text_input) # this is basically the preprocessed text"
   ]
  },
  {
   "cell_type": "code",
   "execution_count": 45,
   "id": "95a56169",
   "metadata": {
    "papermill": {
     "duration": 14.922876,
     "end_time": "2023-12-19T22:08:40.672791",
     "exception": false,
     "start_time": "2023-12-19T22:08:25.749915",
     "status": "completed"
    },
    "tags": []
   },
   "outputs": [],
   "source": [
    "# ## Use BERT Model\n",
    "# encoder = hub.KerasLayer(model_path,trainable=True)\n",
    "# outputs = encoder(encoder_inputs)\n",
    "# pooled_output = outputs['pooled_output'] # [batch_size, 512].\n",
    "# sequence_output = outputs[\"sequence_output\"] # [batch_size, seq_length, 512]."
   ]
  },
  {
   "cell_type": "code",
   "execution_count": 46,
   "id": "35086ee1",
   "metadata": {
    "papermill": {
     "duration": 0.165424,
     "end_time": "2023-12-19T22:08:40.864992",
     "exception": false,
     "start_time": "2023-12-19T22:08:40.699568",
     "status": "completed"
    },
    "tags": []
   },
   "outputs": [
    {
     "name": "stdout",
     "output_type": "stream",
     "text": [
      "Model: \"model\"\n",
      "__________________________________________________________________________________________________\n",
      " Layer (type)                   Output Shape         Param #     Connected to                     \n",
      "==================================================================================================\n",
      " input_1 (InputLayer)           [(None,)]            0           []                               \n",
      "                                                                                                  \n",
      " keras_layer (KerasLayer)       {'input_word_ids':   0           ['input_1[0][0]']                \n",
      "                                (None, 128),                                                      \n",
      "                                 'input_mask': (Non                                               \n",
      "                                e, 128),                                                          \n",
      "                                 'input_type_ids':                                                \n",
      "                                (None, 128)}                                                      \n",
      "                                                                                                  \n",
      " keras_layer_1 (KerasLayer)     {'pooled_output': (  109482241   ['keras_layer[0][0]',            \n",
      "                                None, 768),                       'keras_layer[0][1]',            \n",
      "                                 'sequence_output':               'keras_layer[0][2]']            \n",
      "                                 (None, 128, 768),                                                \n",
      "                                 'default': (None,                                                \n",
      "                                768),                                                             \n",
      "                                 'encoder_outputs':                                               \n",
      "                                 [(None, 128, 768),                                               \n",
      "                                 (None, 128, 768),                                                \n",
      "                                 (None, 128, 768),                                                \n",
      "                                 (None, 128, 768),                                                \n",
      "                                 (None, 128, 768),                                                \n",
      "                                 (None, 128, 768),                                                \n",
      "                                 (None, 128, 768),                                                \n",
      "                                 (None, 128, 768),                                                \n",
      "                                 (None, 128, 768),                                                \n",
      "                                 (None, 128, 768),                                                \n",
      "                                 (None, 128, 768),                                                \n",
      "                                 (None, 128, 768)]}                                               \n",
      "                                                                                                  \n",
      " dropout1 (Dropout)             (None, 768)          0           ['keras_layer_1[0][13]']         \n",
      "                                                                                                  \n",
      " dense (Dense)                  (None, 64)           49216       ['dropout1[0][0]']               \n",
      "                                                                                                  \n",
      " dropout2 (Dropout)             (None, 64)           0           ['dense[0][0]']                  \n",
      "                                                                                                  \n",
      " output (Dense)                 (None, 1)            65          ['dropout2[0][0]']               \n",
      "                                                                                                  \n",
      "==================================================================================================\n",
      "Total params: 109,531,522\n",
      "Trainable params: 109,531,521\n",
      "Non-trainable params: 1\n",
      "__________________________________________________________________________________________________\n"
     ]
    }
   ],
   "source": [
    "dropout = tf.keras.layers.Dropout(0.51 , name=\"dropout1\")(pooled_output)\n",
    "dense_2 = tf.keras.layers.Dense(64 , activation='relu')(dropout)\n",
    "dropout = tf.keras.layers.Dropout(0.3 , name=\"dropout2\")(dense_2)\n",
    "\n",
    "dense_out = tf.keras.layers.Dense(1 , activation='sigmoid', name='output')(dropout)\n",
    "\n",
    "model = tf.keras.Model(inputs=text_input, outputs=dense_out)\n",
    "model.summary()"
   ]
  },
  {
   "cell_type": "code",
   "execution_count": 47,
   "id": "9a8aaff5",
   "metadata": {
    "papermill": {
     "duration": 0.035811,
     "end_time": "2023-12-19T22:08:40.929494",
     "exception": false,
     "start_time": "2023-12-19T22:08:40.893683",
     "status": "completed"
    },
    "tags": []
   },
   "outputs": [],
   "source": [
    "#model.compile(optimizer='adam', loss='binary_crossentropy',metrics=[\"accuracy\"]) # using adam gave better results as compared to rmse\n",
    "#history = model.fit(x_train, y_train , batch_size=512 , epochs=10 , validation_data=(x_test, y_test)) \n",
    "# using smaller batch size gave better predictions as it improved accuracy but the submission accuracy reduced"
   ]
  },
  {
   "cell_type": "code",
   "execution_count": 48,
   "id": "09494eb8",
   "metadata": {
    "papermill": {
     "duration": 2537.682223,
     "end_time": "2023-12-19T22:50:58.639064",
     "exception": false,
     "start_time": "2023-12-19T22:08:40.956841",
     "status": "completed"
    },
    "scrolled": true,
    "tags": []
   },
   "outputs": [
    {
     "name": "stdout",
     "output_type": "stream",
     "text": [
      "40886/40886 [==============================] - ETA: 0s - loss: 0.0744 - acc: 0.9723WARNING:tensorflow:Can save best model only with val_accuracy available, skipping.\n"
     ]
    },
    {
     "name": "stderr",
     "output_type": "stream",
     "text": [
      "WARNING:tensorflow:Can save best model only with val_accuracy available, skipping.\n"
     ]
    },
    {
     "name": "stdout",
     "output_type": "stream",
     "text": [
      "40886/40886 [==============================] - 6368s 155ms/step - loss: 0.0744 - acc: 0.9723 - val_loss: 0.1815 - val_acc: 0.9529\n"
     ]
    },
    {
     "name": "stderr",
     "output_type": "stream",
     "text": [
      "WARNING:absl:Found untraced functions such as restored_function_body, restored_function_body, restored_function_body, restored_function_body, restored_function_body while saving (showing 5 of 366). These functions will not be directly callable after loading.\n"
     ]
    },
    {
     "name": "stdout",
     "output_type": "stream",
     "text": [
      "INFO:tensorflow:Assets written to: model-bert\\assets\n"
     ]
    },
    {
     "name": "stderr",
     "output_type": "stream",
     "text": [
      "INFO:tensorflow:Assets written to: model-bert\\assets\n"
     ]
    }
   ],
   "source": [
    "model.compile(optimizer=tf.keras.optimizers.Adam(learning_rate=1e-6),\n",
    "              loss='binary_crossentropy',\n",
    "              metrics=[\"acc\"])\n",
    "\n",
    "checkpoint_filepath = 'checkpoint.hdf5'\n",
    "metric = 'val_accuracy'\n",
    "callback_list = tf.keras.callbacks.ModelCheckpoint(filepath=checkpoint_filepath, monitor=metric,\n",
    "                    verbose=2, save_best_only=True, mode='max')\n",
    "history = model.fit(x_train, y_train , batch_size=2, callbacks=[callback_list],epochs=1 , validation_data=(x_test, y_test))\n",
    "# model.load_weights(checkpoint_filepath)\n",
    "model.save(\"model-bert\")"
   ]
  },
  {
   "cell_type": "code",
   "execution_count": null,
   "id": "6624b581-79c6-4ed8-a10c-cdfb2e709901",
   "metadata": {},
   "outputs": [],
   "source": []
  },
  {
   "cell_type": "code",
   "execution_count": 49,
   "id": "0babed20",
   "metadata": {
    "papermill": {
     "duration": 933.303423,
     "end_time": "2023-12-19T23:06:32.822969",
     "exception": false,
     "start_time": "2023-12-19T22:50:59.519546",
     "status": "completed"
    },
    "tags": []
   },
   "outputs": [
    {
     "name": "stdout",
     "output_type": "stream",
     "text": [
      "2556/2556 [==============================] - 1735s 679ms/step - loss: 0.1351 - acc: 0.9589\n",
      "Accuracy on Train data: 0.9588606953620911\n",
      "24/24 [==============================] - 16s 652ms/step - loss: 0.1815 - acc: 0.9529\n",
      "Accuracy on Test data: 0.9528936743736267\n"
     ]
    }
   ],
   "source": [
    "loss , acc = model.evaluate(x_train, y_train)\n",
    "print(\"Accuracy on Train data:\",acc)\n",
    "loss , acc = model.evaluate(x_test, y_test)\n",
    "print(\"Accuracy on Test data:\",acc)"
   ]
  },
  {
   "cell_type": "code",
   "execution_count": 40,
   "id": "922343fa",
   "metadata": {
    "papermill": {
     "duration": 1.101516,
     "end_time": "2023-12-19T23:06:35.032892",
     "exception": false,
     "start_time": "2023-12-19T23:06:33.931376",
     "status": "completed"
    },
    "tags": []
   },
   "outputs": [
    {
     "data": {
      "text/html": [
       "<div>\n",
       "<style scoped>\n",
       "    .dataframe tbody tr th:only-of-type {\n",
       "        vertical-align: middle;\n",
       "    }\n",
       "\n",
       "    .dataframe tbody tr th {\n",
       "        vertical-align: top;\n",
       "    }\n",
       "\n",
       "    .dataframe thead th {\n",
       "        text-align: right;\n",
       "    }\n",
       "</style>\n",
       "<table border=\"1\" class=\"dataframe\">\n",
       "  <thead>\n",
       "    <tr style=\"text-align: right;\">\n",
       "      <th></th>\n",
       "      <th>id</th>\n",
       "      <th>prompt_id</th>\n",
       "      <th>text</th>\n",
       "    </tr>\n",
       "  </thead>\n",
       "  <tbody>\n",
       "    <tr>\n",
       "      <th>0</th>\n",
       "      <td>0000aaaa</td>\n",
       "      <td>2</td>\n",
       "      <td>As the moon peeked through the clouds, casting...</td>\n",
       "    </tr>\n",
       "    <tr>\n",
       "      <th>1</th>\n",
       "      <td>1111bbbb</td>\n",
       "      <td>3</td>\n",
       "      <td>I have a friend who hangs with us everyday he ...</td>\n",
       "    </tr>\n",
       "    <tr>\n",
       "      <th>2</th>\n",
       "      <td>2222cccc</td>\n",
       "      <td>4</td>\n",
       "      <td>The aroma of freshly baked bread wafted from t...</td>\n",
       "    </tr>\n",
       "  </tbody>\n",
       "</table>\n",
       "</div>"
      ],
      "text/plain": [
       "         id  prompt_id                                               text\n",
       "0  0000aaaa          2  As the moon peeked through the clouds, casting...\n",
       "1  1111bbbb          3  I have a friend who hangs with us everyday he ...\n",
       "2  2222cccc          4  The aroma of freshly baked bread wafted from t..."
      ]
     },
     "execution_count": 40,
     "metadata": {},
     "output_type": "execute_result"
    }
   ],
   "source": [
    "test_essay"
   ]
  },
  {
   "cell_type": "markdown",
   "id": "e34fe203",
   "metadata": {
    "papermill": {
     "duration": 1.077241,
     "end_time": "2023-12-19T23:06:37.260787",
     "exception": false,
     "start_time": "2023-12-19T23:06:36.183546",
     "status": "completed"
    },
    "tags": []
   },
   "source": [
    "# Predictions"
   ]
  },
  {
   "cell_type": "code",
   "execution_count": 42,
   "id": "f3b35219-c835-4610-8dff-a6ee7af44491",
   "metadata": {},
   "outputs": [],
   "source": [
    "model_path = \"model-bert\"  # Replace with your model filename if different\n",
    "\n",
    "model = tf.keras.models.load_model(model_path)\n"
   ]
  },
  {
   "cell_type": "code",
   "execution_count": 43,
   "id": "69ede473-7399-47c7-b01b-8720fd7bbd9a",
   "metadata": {},
   "outputs": [
    {
     "name": "stdout",
     "output_type": "stream",
     "text": [
      "516/516 [==============================] - 368s 703ms/step\n",
      "AUC score: 0.9992358444248103\n",
      "Accuracy score: 0.9572198994122281\n",
      "F1 score: 0.9587134502923976\n",
      "Precision score: 0.9221509731128361\n",
      "Recall score: 0.9982949701619779\n"
     ]
    }
   ],
   "source": [
    "from sklearn.metrics import roc_auc_score, f1_score, accuracy_score, precision_score, recall_score\n",
    "\n",
    "# Assuming you have separate X_test and y_test for the testing data\n",
    "\n",
    "y_pred = model.predict(x_test)  # Make predictions on the testing data\n",
    "\n",
    "# Convert predictions to labels (if necessary)\n",
    "if len(y_pred.shape) > 1 and y_pred.shape[1] > 1:  # Check for multi-class predictions\n",
    "    y_pred_label = np.argmax(y_pred, axis=1)  # Convert to predicted class labels\n",
    "else:\n",
    "    y_pred_label = np.array(y_pred >= 0.5, dtype=float)  # Convert to binary labels (using 0.5 threshold)\n",
    "\n",
    "# Calculate metrics\n",
    "auc = roc_auc_score(y_test, y_pred)  # For classification tasks\n",
    "acc = accuracy_score(y_test, y_pred_label)\n",
    "f1 = f1_score(y_test, y_pred_label)\n",
    "precision = precision_score(y_test, y_pred_label)\n",
    "recall = recall_score(y_test, y_pred_label)\n",
    "\n",
    "print(f\"AUC score: {auc}\")\n",
    "print(f\"Accuracy score: {acc}\")\n",
    "print(f\"F1 score: {f1}\")\n",
    "print(f\"Precision score: {precision}\")\n",
    "print(f\"Recall score: {recall}\")\n"
   ]
  },
  {
   "cell_type": "code",
   "execution_count": 45,
   "id": "71628e85-07dd-4704-b03f-f60f70eae254",
   "metadata": {},
   "outputs": [
    {
     "data": {
      "image/png": "[encoded data removed]",
      "text/plain": [
       "<Figure size 800x600 with 2 Axes>"
      ]
     },
     "metadata": {},
     "output_type": "display_data"
    }
   ],
   "source": [
    "from sklearn.metrics import confusion_matrix\n",
    "import matplotlib.pyplot as plt\n",
    "\n",
    "y_true = y_test\n",
    "cm = confusion_matrix(y_true, y_pred_label)\n",
    "# cm = confusion_matrix(all_labels, all_predictions)\n",
    "plt.figure(figsize=(8, 6))\n",
    "plt.imshow(cm, interpolation='nearest', cmap=plt.cm.Blues)\n",
    "plt.title('Confusion Matrix')\n",
    "plt.colorbar()\n",
    "plt.xticks(np.arange(len(np.unique(y_true))), np.unique(y_true))\n",
    "plt.yticks(np.arange(len(np.unique(y_true))), np.unique(y_true))\n",
    "plt.xlabel('Predicted Label')\n",
    "plt.ylabel('True Label')\n",
    "plt.text(0, 0, cm[0, 0], va='center', ha='center', color='black', fontsize=14)\n",
    "# Add text for other entries in the confusion matrix\n",
    "for i in range(cm.shape[0]):\n",
    "    for j in range(cm.shape[1]):\n",
    "        plt.text(j, i, cm[i, j], va='center', ha='center', color='black', fontsize=12)\n",
    "plt.grid(False)\n",
    "plt.show()\n",
    "\n"
   ]
  },
  {
   "cell_type": "code",
   "execution_count": 42,
   "id": "b3e2ec6f",
   "metadata": {
    "papermill": {
     "duration": 2.103352,
     "end_time": "2023-12-19T23:06:40.511147",
     "exception": false,
     "start_time": "2023-12-19T23:06:38.407795",
     "status": "completed"
    },
    "tags": []
   },
   "outputs": [
    {
     "name": "stdout",
     "output_type": "stream",
     "text": [
      "1/1 [==============================] - 7s 7s/step\n"
     ]
    }
   ],
   "source": [
    "y_pred = model.predict(test_essay['text'])"
   ]
  },
  {
   "cell_type": "code",
   "execution_count": 43,
   "id": "954087f2",
   "metadata": {
    "papermill": {
     "duration": 1.130799,
     "end_time": "2023-12-19T23:06:42.721426",
     "exception": false,
     "start_time": "2023-12-19T23:06:41.590627",
     "status": "completed"
    },
    "tags": []
   },
   "outputs": [
    {
     "data": {
      "text/plain": [
       "array([[0.99586844],\n",
       "       [0.04546565],\n",
       "       [0.95756483]], dtype=float32)"
      ]
     },
     "execution_count": 43,
     "metadata": {},
     "output_type": "execute_result"
    }
   ],
   "source": [
    "y_pred"
   ]
  },
  {
   "cell_type": "code",
   "execution_count": 44,
   "id": "fb6dd4c0",
   "metadata": {
    "papermill": {
     "duration": 1.104668,
     "end_time": "2023-12-19T23:06:45.024407",
     "exception": false,
     "start_time": "2023-12-19T23:06:43.919739",
     "status": "completed"
    },
    "tags": []
   },
   "outputs": [
    {
     "data": {
      "text/plain": [
       "array([0.99586844, 0.04546565, 0.95756483], dtype=float32)"
      ]
     },
     "execution_count": 44,
     "metadata": {},
     "output_type": "execute_result"
    }
   ],
   "source": [
    "y_pred[:,0]\n"
   ]
  }
 ],
 "metadata": {
  "kaggle": {
   "accelerator": "nvidiaTeslaT4",
   "dataSources": [
    {
     "databundleVersionId": 6888007,
     "sourceId": 61542,
     "sourceType": "competition"
    },
    {
     "datasetId": 3937441,
     "sourceId": 6868189,
     "sourceType": "datasetVersion"
    },
    {
     "datasetId": 3973543,
     "sourceId": 6920046,
     "sourceType": "datasetVersion"
    },
    {
     "datasetId": 4166484,
     "sourceId": 7202521,
     "sourceType": "datasetVersion"
    },
    {
     "datasetId": 4166523,
     "sourceId": 7202572,
     "sourceType": "datasetVersion"
    },
    {
     "datasetId": 4166560,
     "sourceId": 7202633,
     "sourceType": "datasetVersion"
    },
    {
     "datasetId": 4184739,
     "sourceId": 7228308,
     "sourceType": "datasetVersion"
    },
    {
     "modelInstanceId": 1910,
     "sourceId": 2644,
     "sourceType": "modelInstanceVersion"
    },
    {
     "modelInstanceId": 2180,
     "sourceId": 2938,
     "sourceType": "modelInstanceVersion"
    }
   ],
   "dockerImageVersionId": 30627,
   "isGpuEnabled": true,
   "isInternetEnabled": false,
   "language": "python",
   "sourceType": "notebook"
  },
  "kernelspec": {
   "display_name": "Python 3 (ipykernel)",
   "language": "python",
   "name": "python3"
  },
  "language_info": {
   "codemirror_mode": {
    "name": "ipython",
    "version": 3
   },
   "file_extension": ".py",
   "mimetype": "text/x-python",
   "name": "python",
   "nbconvert_exporter": "python",
   "pygments_lexer": "ipython3",
   "version": "3.11.7"
  },
  "papermill": {
   "default_parameters": {},
   "duration": 3556.448044,
   "end_time": "2023-12-19T23:06:56.856636",
   "environment_variables": {},
   "exception": null,
   "input_path": "__notebook__.ipynb",
   "output_path": "__notebook__.ipynb",
   "parameters": {},
   "start_time": "2023-12-19T22:07:40.408592",
   "version": "2.4.0"
  }
 },
 "nbformat": 4,
 "nbformat_minor": 5
}
