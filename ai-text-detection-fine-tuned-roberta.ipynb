{
 "cells": [
  {
   "cell_type": "code",
   "execution_count": 1,
   "metadata": {
    "execution": {
     "iopub.execute_input": "2024-04-08T17:57:40.834564Z",
     "iopub.status.busy": "2024-04-08T17:57:40.834261Z",
     "iopub.status.idle": "2024-04-08T17:58:03.031059Z",
     "shell.execute_reply": "2024-04-08T17:58:03.030160Z",
     "shell.execute_reply.started": "2024-04-08T17:57:40.834539Z"
    }
   },
   "outputs": [
    {
     "name": "stderr",
     "output_type": "stream",
     "text": [
      "2024-04-08 17:57:51.706966: E external/local_xla/xla/stream_executor/cuda/cuda_dnn.cc:9261] Unable to register cuDNN factory: Attempting to register factory for plugin cuDNN when one has already been registered\n",
      "2024-04-08 17:57:51.707061: E external/local_xla/xla/stream_executor/cuda/cuda_fft.cc:607] Unable to register cuFFT factory: Attempting to register factory for plugin cuFFT when one has already been registered\n",
      "2024-04-08 17:57:51.875156: E external/local_xla/xla/stream_executor/cuda/cuda_blas.cc:1515] Unable to register cuBLAS factory: Attempting to register factory for plugin cuBLAS when one has already been registered\n"
     ]
    }
   ],
   "source": [
    "import random\n",
    "\n",
    "from tqdm.auto import tqdm\n",
    "from transformers import RobertaTokenizer\n",
    "import pandas as pd\n",
    "import torch\n",
    "from torch.utils.data import Dataset, DataLoader\n",
    "from torch import nn, optim\n",
    "from transformers import RobertaTokenizer, RobertaModel\n",
    "import tensorflow_text as text\n",
    "from sklearn.model_selection import train_test_split\n",
    "import matplotlib.pyplot as plt\n",
    "\n",
    "tqdm.pandas()"
   ]
  },
  {
   "cell_type": "code",
   "execution_count": null,
   "metadata": {},
   "outputs": [],
   "source": []
  },
  {
   "cell_type": "code",
   "execution_count": 2,
   "metadata": {
    "_cell_guid": "b1076dfc-b9ad-4769-8c92-a6c4dae69d19",
    "_uuid": "8f2839f25d086af736a60e9eeb907d3b93b6e0e5",
    "execution": {
     "iopub.execute_input": "2024-04-08T17:58:18.855781Z",
     "iopub.status.busy": "2024-04-08T17:58:18.855097Z",
     "iopub.status.idle": "2024-04-08T17:58:18.884508Z",
     "shell.execute_reply": "2024-04-08T17:58:18.883599Z",
     "shell.execute_reply.started": "2024-04-08T17:58:18.855750Z"
    }
   },
   "outputs": [
    {
     "name": "stdout",
     "output_type": "stream",
     "text": [
      "/kaggle/input/daigt-v2-train-dataset/train_v2_drcat_02.csv\n",
      "/kaggle/input/llm-detect-ai-generated-text/sample_submission.csv\n",
      "/kaggle/input/llm-detect-ai-generated-text/train_prompts.csv\n",
      "/kaggle/input/llm-detect-ai-generated-text/test_essays.csv\n",
      "/kaggle/input/llm-detect-ai-generated-text/train_essays.csv\n",
      "/kaggle/input/roberta-base/rust_model.ot\n",
      "/kaggle/input/roberta-base/config.json\n",
      "/kaggle/input/roberta-base/merges.txt\n",
      "/kaggle/input/roberta-base/README.md\n",
      "/kaggle/input/roberta-base/tokenizer.json\n",
      "/kaggle/input/roberta-base/vocab.json\n",
      "/kaggle/input/roberta-base/tf_model.h5\n",
      "/kaggle/input/roberta-base/dict.txt\n",
      "/kaggle/input/roberta-base/pytorch_model.bin\n",
      "/kaggle/input/roberta-base/flax_model.msgpack\n",
      "/kaggle/input/my-dataset/Extra-Datasets-Used/sample_submission.csv\n",
      "/kaggle/input/my-dataset/Extra-Datasets-Used/saved_model.pb\n",
      "/kaggle/input/my-dataset/Extra-Datasets-Used/llama_70b_v1.csv\n",
      "/kaggle/input/my-dataset/Extra-Datasets-Used/test_essays.csv\n",
      "/kaggle/input/my-dataset/Extra-Datasets-Used/train_essays.csv\n",
      "/kaggle/input/my-dataset/Extra-Datasets-Used/train_v2_drcat_02.csv\n",
      "/kaggle/input/my-dataset/Extra-Datasets-Used/Training_Essay_Data.csv\n",
      "/kaggle/input/my-dataset/Extra-Datasets-Used/LLM_generated_essay_PaLM.csv\n",
      "/kaggle/input/my-dataset/Extra-Datasets-Used/train_drcat_04.csv\n",
      "/kaggle/input/my-dataset/Extra-Datasets-Used/train_drcat_01.csv\n",
      "/kaggle/input/my-dataset/Extra-Datasets-Used/train_essays_RDizzl3_seven_v1.csv\n",
      "/kaggle/input/my-dataset/Extra-Datasets-Used/falcon_180b_v1.csv\n"
     ]
    }
   ],
   "source": [
    "# This Python 3 environment comes with many helpful analytics libraries installed\n",
    "# It is defined by the kaggle/python Docker image: https://github.com/kaggle/docker-python\n",
    "# For example, here's several helpful packages to load\n",
    "\n",
    "import numpy as np # linear algebra\n",
    "import pandas as pd # data processing, CSV file I/O (e.g. pd.read_csv)\n",
    "\n",
    "# Input data files are available in the read-only \"../input/\" directory\n",
    "# For example, running this (by clicking run or pressing Shift+Enter) will list all files under the input directory\n",
    "\n",
    "import os\n",
    "for dirname, _, filenames in os.walk('/kaggle/input'):\n",
    "    for filename in filenames:\n",
    "        print(os.path.join(dirname, filename))\n",
    "\n",
    "# You can write up to 20GB to the current directory (/kaggle/working/) that gets preserved as output when you create a version using \"Save & Run All\" \n",
    "# You can also write temporary files to /kaggle/temp/, but they won't be saved outside of the current session"
   ]
  },
  {
   "cell_type": "code",
   "execution_count": 3,
   "metadata": {
    "execution": {
     "iopub.execute_input": "2024-04-08T17:58:22.695098Z",
     "iopub.status.busy": "2024-04-08T17:58:22.694264Z",
     "iopub.status.idle": "2024-04-08T17:58:22.704147Z",
     "shell.execute_reply": "2024-04-08T17:58:22.703169Z",
     "shell.execute_reply.started": "2024-04-08T17:58:22.695067Z"
    }
   },
   "outputs": [],
   "source": [
    "SEED = 42\n",
    "# Setting seed for reproducibility\n",
    "random.seed(SEED)\n",
    "np.random.seed(SEED)\n",
    "torch.manual_seed(SEED)\n",
    "\n",
    "# Additional settings for PyTorch\n",
    "torch.cuda.manual_seed(SEED)\n",
    "torch.cuda.manual_seed_all(SEED)  # for multi-GPU.\n",
    "torch.backends.cudnn.deterministic = True\n",
    "torch.backends.cudnn.benchmark = False"
   ]
  },
  {
   "cell_type": "code",
   "execution_count": 4,
   "metadata": {
    "execution": {
     "iopub.execute_input": "2024-04-08T17:58:25.054427Z",
     "iopub.status.busy": "2024-04-08T17:58:25.054098Z",
     "iopub.status.idle": "2024-04-08T17:58:27.167252Z",
     "shell.execute_reply": "2024-04-08T17:58:27.166169Z",
     "shell.execute_reply.started": "2024-04-08T17:58:25.054402Z"
    }
   },
   "outputs": [],
   "source": [
    "train_data = pd.read_csv(\"/kaggle/input/daigt-v2-train-dataset/train_v2_drcat_02.csv\")\n",
    "test_data = pd.read_csv(\"/kaggle/input/llm-detect-ai-generated-text/test_essays.csv\")\n",
    "\n",
    "# train_data = train_data.sample(frac=0.01, random_state=42)"
   ]
  },
  {
   "cell_type": "code",
   "execution_count": 5,
   "metadata": {
    "execution": {
     "iopub.execute_input": "2024-04-08T17:58:28.675035Z",
     "iopub.status.busy": "2024-04-08T17:58:28.674205Z",
     "iopub.status.idle": "2024-04-08T17:58:30.179096Z",
     "shell.execute_reply": "2024-04-08T17:58:30.178185Z",
     "shell.execute_reply.started": "2024-04-08T17:58:28.675002Z"
    }
   },
   "outputs": [],
   "source": [
    "train_essay = pd.read_csv(\"/kaggle/input/my-dataset/Extra-Datasets-Used/train_essays.csv\")\n",
    "test_essay = pd.read_csv(\"/kaggle/input/my-dataset/Extra-Datasets-Used/test_essays.csv\")\n",
    "ai_df = train_essay[train_essay['generated']==1]\n",
    "df = pd.read_csv(\"/kaggle/input/my-dataset/Extra-Datasets-Used/Training_Essay_Data.csv\")"
   ]
  },
  {
   "cell_type": "code",
   "execution_count": 6,
   "metadata": {
    "execution": {
     "iopub.execute_input": "2024-04-08T17:58:30.181356Z",
     "iopub.status.busy": "2024-04-08T17:58:30.180781Z",
     "iopub.status.idle": "2024-04-08T17:58:32.590668Z",
     "shell.execute_reply": "2024-04-08T17:58:32.589910Z",
     "shell.execute_reply.started": "2024-04-08T17:58:30.181321Z"
    }
   },
   "outputs": [],
   "source": [
    "df2 = pd.read_csv(\"/kaggle/input/my-dataset/Extra-Datasets-Used/train_drcat_04.csv\")\n",
    "df2 = df2[['text','label']]\n",
    "df2.columns = ['text','generated']"
   ]
  },
  {
   "cell_type": "code",
   "execution_count": 9,
   "metadata": {
    "execution": {
     "iopub.execute_input": "2024-04-08T17:58:46.705137Z",
     "iopub.status.busy": "2024-04-08T17:58:46.704753Z",
     "iopub.status.idle": "2024-04-08T17:58:47.431874Z",
     "shell.execute_reply": "2024-04-08T17:58:47.431068Z",
     "shell.execute_reply.started": "2024-04-08T17:58:46.705096Z"
    }
   },
   "outputs": [],
   "source": [
    "df3 = pd.read_csv(\"/kaggle/input/my-dataset/Extra-Datasets-Used/train_essays_RDizzl3_seven_v1.csv\")\n",
    "df3.columns = ['text','generated']"
   ]
  },
  {
   "cell_type": "code",
   "execution_count": 10,
   "metadata": {
    "execution": {
     "iopub.execute_input": "2024-04-08T17:58:48.045335Z",
     "iopub.status.busy": "2024-04-08T17:58:48.044591Z",
     "iopub.status.idle": "2024-04-08T17:58:48.497535Z",
     "shell.execute_reply": "2024-04-08T17:58:48.496636Z",
     "shell.execute_reply.started": "2024-04-08T17:58:48.045303Z"
    }
   },
   "outputs": [],
   "source": [
    "train_data = pd.concat([df3,df2,df],axis=0,ignore_index=True)\n",
    "train_data.drop_duplicates(inplace=True,ignore_index=True)"
   ]
  },
  {
   "cell_type": "code",
   "execution_count": 11,
   "metadata": {
    "execution": {
     "iopub.execute_input": "2024-04-08T17:58:49.745551Z",
     "iopub.status.busy": "2024-04-08T17:58:49.744604Z",
     "iopub.status.idle": "2024-04-08T17:58:49.807977Z",
     "shell.execute_reply": "2024-04-08T17:58:49.807068Z",
     "shell.execute_reply.started": "2024-04-08T17:58:49.745518Z"
    }
   },
   "outputs": [],
   "source": [
    "d1 = pd.read_csv(\"/kaggle/input/my-dataset/Extra-Datasets-Used/falcon_180b_v1.csv\")\n",
    "d2 = pd.read_csv(\"/kaggle/input/my-dataset/Extra-Datasets-Used/llama_70b_v1.csv\")\n",
    "data = pd.concat([d1,d2],axis=0,ignore_index=True)\n",
    "data['generated'] = 1\n",
    "data.columns = ['text','writing_prompt','generated']\n",
    "data = data[['text','generated']]"
   ]
  },
  {
   "cell_type": "code",
   "execution_count": 12,
   "metadata": {
    "execution": {
     "iopub.execute_input": "2024-04-08T17:58:51.884965Z",
     "iopub.status.busy": "2024-04-08T17:58:51.884235Z",
     "iopub.status.idle": "2024-04-08T17:58:51.891754Z",
     "shell.execute_reply": "2024-04-08T17:58:51.890625Z",
     "shell.execute_reply.started": "2024-04-08T17:58:51.884935Z"
    }
   },
   "outputs": [],
   "source": [
    "Train_Data = pd.concat([train_data,data],axis=0,ignore_index=True)\n"
   ]
  },
  {
   "cell_type": "code",
   "execution_count": 13,
   "metadata": {
    "execution": {
     "iopub.execute_input": "2024-04-08T17:58:52.724740Z",
     "iopub.status.busy": "2024-04-08T17:58:52.724363Z",
     "iopub.status.idle": "2024-04-08T17:58:52.907143Z",
     "shell.execute_reply": "2024-04-08T17:58:52.906343Z",
     "shell.execute_reply.started": "2024-04-08T17:58:52.724711Z"
    }
   },
   "outputs": [],
   "source": [
    "d = pd.read_csv(\"/kaggle/input/my-dataset/Extra-Datasets-Used/LLM_generated_essay_PaLM.csv\")\n",
    "d['generated'] = d['generated'].astype(int)\n",
    "dd = d[['text','generated']]"
   ]
  },
  {
   "cell_type": "code",
   "execution_count": 14,
   "metadata": {
    "execution": {
     "iopub.execute_input": "2024-04-08T17:58:58.290363Z",
     "iopub.status.busy": "2024-04-08T17:58:58.289642Z",
     "iopub.status.idle": "2024-04-08T17:58:58.622778Z",
     "shell.execute_reply": "2024-04-08T17:58:58.621681Z",
     "shell.execute_reply.started": "2024-04-08T17:58:58.290330Z"
    }
   },
   "outputs": [],
   "source": [
    "Train_Data  =pd.concat([Train_Data,dd],axis=0,ignore_index=True)\n",
    "Train_Data.drop_duplicates(inplace=True,ignore_index=True)"
   ]
  },
  {
   "cell_type": "code",
   "execution_count": 15,
   "metadata": {
    "execution": {
     "iopub.execute_input": "2024-04-08T17:58:59.775064Z",
     "iopub.status.busy": "2024-04-08T17:58:59.774252Z",
     "iopub.status.idle": "2024-04-08T17:58:59.780797Z",
     "shell.execute_reply": "2024-04-08T17:58:59.779879Z",
     "shell.execute_reply.started": "2024-04-08T17:58:59.775031Z"
    }
   },
   "outputs": [],
   "source": [
    "def balance_labels(df, label_column='generated'):\n",
    "    label_counts=df[label_column].value_counts()\n",
    "    max_count=label_counts.max()\n",
    "    \n",
    "    balanced_df=pd.DataFrame()\n",
    "    \n",
    "    for label, count in label_counts.items():\n",
    "        label_subset = df[df[label_column]==label]\n",
    "        oversampled_subset= label_subset.sample(n=(max_count-count), replace=True, random_state=42)\n",
    "        balanced_df = pd.concat([balanced_df, label_subset, oversampled_subset], ignore_index=True)\n",
    "        \n",
    "    return balanced_df"
   ]
  },
  {
   "cell_type": "code",
   "execution_count": 16,
   "metadata": {
    "execution": {
     "iopub.execute_input": "2024-04-08T17:59:01.509768Z",
     "iopub.status.busy": "2024-04-08T17:59:01.509326Z",
     "iopub.status.idle": "2024-04-08T17:59:01.715334Z",
     "shell.execute_reply": "2024-04-08T17:59:01.713940Z",
     "shell.execute_reply.started": "2024-04-08T17:59:01.509733Z"
    }
   },
   "outputs": [
    {
     "data": {
      "image/png": "[encoded data removed]",
      "text/plain": [
       "<Figure size 640x480 with 1 Axes>"
      ]
     },
     "metadata": {},
     "output_type": "display_data"
    }
   ],
   "source": [
    "Train_Data=balance_labels(Train_Data)\n",
    "Train_Data.generated.value_counts().plot(kind='pie',autopct=\"%.1f%%\")\n",
    "plt.title(\"Target Column Distributions\")\n",
    "plt.show()"
   ]
  },
  {
   "cell_type": "code",
   "execution_count": 17,
   "metadata": {
    "execution": {
     "iopub.execute_input": "2024-04-08T17:59:05.320331Z",
     "iopub.status.busy": "2024-04-08T17:59:05.319494Z",
     "iopub.status.idle": "2024-04-08T17:59:05.344623Z",
     "shell.execute_reply": "2024-04-08T17:59:05.343231Z",
     "shell.execute_reply.started": "2024-04-08T17:59:05.320285Z"
    }
   },
   "outputs": [
    {
     "name": "stdout",
     "output_type": "stream",
     "text": [
      "CPU times: user 17.9 ms, sys: 983 µs, total: 18.8 ms\n",
      "Wall time: 17.9 ms\n"
     ]
    }
   ],
   "source": [
    "%%time\n",
    "train_data, test_data = train_test_split(Train_Data, test_size=0.2, random_state=42)"
   ]
  },
  {
   "cell_type": "code",
   "execution_count": null,
   "metadata": {},
   "outputs": [],
   "source": []
  },
  {
   "cell_type": "code",
   "execution_count": 18,
   "metadata": {
    "execution": {
     "iopub.execute_input": "2024-04-08T17:59:10.569752Z",
     "iopub.status.busy": "2024-04-08T17:59:10.569048Z",
     "iopub.status.idle": "2024-04-08T17:59:10.577928Z",
     "shell.execute_reply": "2024-04-08T17:59:10.576812Z",
     "shell.execute_reply.started": "2024-04-08T17:59:10.569722Z"
    }
   },
   "outputs": [
    {
     "data": {
      "text/plain": [
       "generated\n",
       "0    33029\n",
       "1    32982\n",
       "Name: count, dtype: int64"
      ]
     },
     "execution_count": 18,
     "metadata": {},
     "output_type": "execute_result"
    }
   ],
   "source": [
    "train_data.generated.value_counts()"
   ]
  },
  {
   "cell_type": "code",
   "execution_count": 19,
   "metadata": {
    "execution": {
     "iopub.execute_input": "2024-04-08T17:59:11.814575Z",
     "iopub.status.busy": "2024-04-08T17:59:11.814204Z",
     "iopub.status.idle": "2024-04-08T17:59:12.008799Z",
     "shell.execute_reply": "2024-04-08T17:59:12.007911Z",
     "shell.execute_reply.started": "2024-04-08T17:59:11.814545Z"
    }
   },
   "outputs": [],
   "source": [
    "tokenizer = RobertaTokenizer.from_pretrained(\"/kaggle/input/roberta-base\")"
   ]
  },
  {
   "cell_type": "code",
   "execution_count": 20,
   "metadata": {
    "execution": {
     "iopub.execute_input": "2024-04-08T17:59:14.940387Z",
     "iopub.status.busy": "2024-04-08T17:59:14.939521Z",
     "iopub.status.idle": "2024-04-08T17:59:14.945036Z",
     "shell.execute_reply": "2024-04-08T17:59:14.944058Z",
     "shell.execute_reply.started": "2024-04-08T17:59:14.940353Z"
    }
   },
   "outputs": [],
   "source": [
    "def tokenize_and_truncate(text, max_length=512):\n",
    "    # Tokenize and truncate\n",
    "    tokens = tokenizer.tokenize(text)[:max_length]  # leaving space for special tokens\n",
    "    # Add the special tokens\n",
    "    \n",
    "    token_ids = tokenizer.convert_tokens_to_ids(tokens)\n",
    "    return token_ids"
   ]
  },
  {
   "cell_type": "code",
   "execution_count": 21,
   "metadata": {
    "execution": {
     "iopub.execute_input": "2024-04-08T17:59:15.894459Z",
     "iopub.status.busy": "2024-04-08T17:59:15.894089Z",
     "iopub.status.idle": "2024-04-08T18:03:32.382129Z",
     "shell.execute_reply": "2024-04-08T18:03:32.381353Z",
     "shell.execute_reply.started": "2024-04-08T17:59:15.894431Z"
    }
   },
   "outputs": [
    {
     "data": {
      "application/vnd.jupyter.widget-view+json": {
       "model_id": "62818b499a104925a207ad8aa8b4e74d",
       "version_major": 2,
       "version_minor": 0
      },
      "text/plain": [
       "  0%|          | 0/66011 [00:00<?, ?it/s]"
      ]
     },
     "metadata": {},
     "output_type": "display_data"
    }
   ],
   "source": [
    "train_data[\"tokens\"] = train_data.text.progress_apply(lambda x: tokenize_and_truncate(x))"
   ]
  },
  {
   "cell_type": "code",
   "execution_count": 22,
   "metadata": {
    "execution": {
     "iopub.execute_input": "2024-04-08T18:09:50.085646Z",
     "iopub.status.busy": "2024-04-08T18:09:50.085282Z",
     "iopub.status.idle": "2024-04-08T18:09:50.143445Z",
     "shell.execute_reply": "2024-04-08T18:09:50.142428Z",
     "shell.execute_reply.started": "2024-04-08T18:09:50.085615Z"
    }
   },
   "outputs": [
    {
     "data": {
      "text/plain": [
       "device(type='cuda')"
      ]
     },
     "execution_count": 22,
     "metadata": {},
     "output_type": "execute_result"
    }
   ],
   "source": [
    "device = torch.device(\"cuda\" if torch.cuda.is_available() else \"cpu\")\n",
    "device"
   ]
  },
  {
   "cell_type": "code",
   "execution_count": 23,
   "metadata": {
    "execution": {
     "iopub.execute_input": "2024-04-08T18:09:53.970619Z",
     "iopub.status.busy": "2024-04-08T18:09:53.969896Z",
     "iopub.status.idle": "2024-04-08T18:09:53.982633Z",
     "shell.execute_reply": "2024-04-08T18:09:53.981636Z",
     "shell.execute_reply.started": "2024-04-08T18:09:53.970589Z"
    }
   },
   "outputs": [],
   "source": [
    "# Define your custom RoBERTa-based model\n",
    "class RobertaForBinaryClassification(nn.Module):\n",
    "    def __init__(self):\n",
    "        super(RobertaForBinaryClassification, self).__init__()\n",
    "\n",
    "        self.roberta = RobertaModel.from_pretrained(\"/kaggle/input/roberta-base\")\n",
    "        hidden_size = self.roberta.config.hidden_size\n",
    "\n",
    "        self.fc1 = nn.Linear(hidden_size, hidden_size)\n",
    "        self.relu = nn.ReLU()\n",
    "        self.dropout = nn.Dropout(0.1)\n",
    "        self.fc2 = nn.Linear(hidden_size, 1)\n",
    "        self.sigmoid = nn.Sigmoid()\n",
    "\n",
    "    def forward(self, input_ids, attention_mask=None):\n",
    "        outputs = self.roberta(input_ids, attention_mask=attention_mask)\n",
    "        cls_output = outputs.last_hidden_state[:, 0, :]\n",
    "\n",
    "        x = self.fc1(cls_output)\n",
    "        x = self.relu(x)\n",
    "        x = self.dropout(x)\n",
    "        logits = self.fc2(x)\n",
    "        probs = self.sigmoid(logits)\n",
    "        return probs\n",
    "    \n",
    "class TextDataset(Dataset):\n",
    "    def __init__(self, token_lists, labels, max_token_len=512):\n",
    "        self.token_lists = token_lists\n",
    "        self.labels = labels\n",
    "        self.max_token_len = max_token_len\n",
    "\n",
    "    def __len__(self):\n",
    "        return len(self.token_lists)\n",
    "\n",
    "    def __getitem__(self, idx):\n",
    "        # Pad the token lists to the max length\n",
    "        token_list = self.token_lists[idx][:self.max_token_len]  # truncate if longer than max length\n",
    "        padded_tokens = token_list + [0] * (self.max_token_len - len(token_list))  # pad with zeros\n",
    "        attention_mask = [1 if i < len(token_list) else 0 for i in range(self.max_token_len)]\n",
    "        return torch.tensor(padded_tokens), torch.tensor(attention_mask), torch.tensor(self.labels[idx])"
   ]
  },
  {
   "cell_type": "code",
   "execution_count": 24,
   "metadata": {
    "execution": {
     "iopub.execute_input": "2024-04-08T18:09:56.694937Z",
     "iopub.status.busy": "2024-04-08T18:09:56.694567Z",
     "iopub.status.idle": "2024-04-08T18:09:57.212190Z",
     "shell.execute_reply": "2024-04-08T18:09:57.210899Z",
     "shell.execute_reply.started": "2024-04-08T18:09:56.694909Z"
    }
   },
   "outputs": [
    {
     "data": {
      "text/plain": [
       "18"
      ]
     },
     "execution_count": 24,
     "metadata": {},
     "output_type": "execute_result"
    }
   ],
   "source": [
    "import gc\n",
    "torch.cuda.empty_cache()\n",
    "gc.collect()"
   ]
  },
  {
   "cell_type": "code",
   "execution_count": 25,
   "metadata": {
    "execution": {
     "iopub.execute_input": "2024-04-08T18:09:58.706016Z",
     "iopub.status.busy": "2024-04-08T18:09:58.705599Z",
     "iopub.status.idle": "2024-04-08T18:10:04.200255Z",
     "shell.execute_reply": "2024-04-08T18:10:04.199392Z",
     "shell.execute_reply.started": "2024-04-08T18:09:58.705985Z"
    }
   },
   "outputs": [
    {
     "name": "stderr",
     "output_type": "stream",
     "text": [
      "/opt/conda/lib/python3.10/site-packages/torch/_utils.py:831: UserWarning: TypedStorage is deprecated. It will be removed in the future and UntypedStorage will be the only storage class. This should only matter to you if you are using storages directly.  To access UntypedStorage directly, use tensor.untyped_storage() instead of tensor.storage()\n",
      "  return self.fget.__get__(instance, owner)()\n"
     ]
    }
   ],
   "source": [
    "# Create Dataset and DataLoader\n",
    "dataset = TextDataset(train_data[\"tokens\"].tolist(), train_data[\"generated\"].tolist())\n",
    "batch_size = 32\n",
    "train_loader = DataLoader(dataset, batch_size=batch_size, shuffle=True)\n",
    "\n",
    "# Instantiate the model\n",
    "model = RobertaForBinaryClassification()\n",
    "model = nn.DataParallel(model)\n",
    "model.to(device)\n",
    "\n",
    "# Define loss function and optimizer\n",
    "loss_function = nn.BCELoss()\n",
    "optimizer = optim.Adam(model.parameters(), lr=1e-5)"
   ]
  },
  {
   "cell_type": "code",
   "execution_count": 26,
   "metadata": {
    "execution": {
     "iopub.execute_input": "2024-04-08T18:10:14.525234Z",
     "iopub.status.busy": "2024-04-08T18:10:14.524553Z",
     "iopub.status.idle": "2024-04-08T19:04:58.373870Z",
     "shell.execute_reply": "2024-04-08T19:04:58.372970Z",
     "shell.execute_reply.started": "2024-04-08T18:10:14.525200Z"
    }
   },
   "outputs": [
    {
     "data": {
      "application/vnd.jupyter.widget-view+json": {
       "model_id": "447c5ef7efe24240b4d33b1798cab87a",
       "version_major": 2,
       "version_minor": 0
      },
      "text/plain": [
       "  0%|          | 0/2063 [00:00<?, ?it/s]"
      ]
     },
     "metadata": {},
     "output_type": "display_data"
    },
    {
     "name": "stdout",
     "output_type": "stream",
     "text": [
      "Epoch 1/1, Loss: 0.029284893808425035\n"
     ]
    }
   ],
   "source": [
    "# Training loop\n",
    "num_epochs = 1\n",
    "for epoch in range(num_epochs):\n",
    "    model.train()\n",
    "    total_loss = 0\n",
    "\n",
    "    for tokens, attention_masks, labels in tqdm(train_loader):\n",
    "        tokens, attention_masks, labels = tokens.to(device), attention_masks.to(device), labels.to(device)  # Move to GPU if available\n",
    "        optimizer.zero_grad()\n",
    "        labels = labels.float().unsqueeze(1)  # Adjust labels' shape if necessary\n",
    "\n",
    "        outputs = model(tokens, attention_mask=attention_masks)\n",
    "        loss = loss_function(outputs, labels)\n",
    "        loss.backward()\n",
    "        optimizer.step()\n",
    "\n",
    "        total_loss += loss.item()\n",
    "\n",
    "    print(f\"Epoch {epoch+1}/{num_epochs}, Loss: {total_loss/len(train_loader)}\")"
   ]
  },
  {
   "cell_type": "code",
   "execution_count": 27,
   "metadata": {
    "execution": {
     "iopub.execute_input": "2024-04-08T19:07:53.037644Z",
     "iopub.status.busy": "2024-04-08T19:07:53.036781Z",
     "iopub.status.idle": "2024-04-08T19:27:44.678952Z",
     "shell.execute_reply": "2024-04-08T19:27:44.677955Z",
     "shell.execute_reply.started": "2024-04-08T19:07:53.037609Z"
    }
   },
   "outputs": [
    {
     "data": {
      "application/vnd.jupyter.widget-view+json": {
       "model_id": "18a66fd3ff844ece99ad56a16a94631c",
       "version_major": 2,
       "version_minor": 0
      },
      "text/plain": [
       "  0%|          | 0/2063 [00:00<?, ?it/s]"
      ]
     },
     "metadata": {},
     "output_type": "display_data"
    },
    {
     "name": "stdout",
     "output_type": "stream",
     "text": [
      "Training Accuracy: 99.79%\n",
      "Precision: 1.00\n",
      "Recall: 1.00\n",
      "F1 Score: 1.00\n"
     ]
    }
   ],
   "source": [
    "from sklearn.metrics import accuracy_score, precision_score, recall_score, f1_score\n",
    "\n",
    "# Put model in evaluation mode\n",
    "model.eval()\n",
    "\n",
    "# Initialize lists to store true labels and predictions\n",
    "all_predictions = []\n",
    "all_labels = []\n",
    "\n",
    "with torch.no_grad():\n",
    "    for tokens, attention_masks, labels in tqdm(train_loader):\n",
    "        tokens, attention_masks, labels = tokens.to(device), attention_masks.to(device), labels.to(device)\n",
    "\n",
    "        # Run inference\n",
    "        outputs = model(tokens, attention_mask=attention_masks)\n",
    "\n",
    "        # Convert outputs to predictions (binary classification)\n",
    "        predictions = (outputs > 0.5).int()\n",
    "        all_predictions.extend(predictions.cpu().numpy())\n",
    "        all_labels.extend(labels.cpu().numpy())\n",
    "\n",
    "# Flatten the lists and convert to numpy arrays\n",
    "all_predictions = np.array(all_predictions).flatten()\n",
    "all_labels = np.array(all_labels).flatten()\n",
    "\n",
    "# Calculate metrics\n",
    "accuracy = accuracy_score(all_labels, all_predictions)\n",
    "precision = precision_score(all_labels, all_predictions)\n",
    "recall = recall_score(all_labels, all_predictions)\n",
    "f1 = f1_score(all_labels, all_predictions)\n",
    "\n",
    "print(f\"Training Accuracy: {accuracy * 100:.2f}%\")\n",
    "print(f\"Precision: {precision:.2f}\")\n",
    "print(f\"Recall: {recall:.2f}\")\n",
    "print(f\"F1 Score: {f1:.2f}\")"
   ]
  },
  {
   "cell_type": "code",
   "execution_count": 28,
   "metadata": {
    "execution": {
     "iopub.execute_input": "2024-04-08T19:29:28.767978Z",
     "iopub.status.busy": "2024-04-08T19:29:28.767029Z",
     "iopub.status.idle": "2024-04-08T19:30:31.207847Z",
     "shell.execute_reply": "2024-04-08T19:30:31.206940Z",
     "shell.execute_reply.started": "2024-04-08T19:29:28.767933Z"
    }
   },
   "outputs": [
    {
     "data": {
      "application/vnd.jupyter.widget-view+json": {
       "model_id": "8d1072ca6f204a978dc2dfdf74fb0a99",
       "version_major": 2,
       "version_minor": 0
      },
      "text/plain": [
       "  0%|          | 0/16503 [00:00<?, ?it/s]"
      ]
     },
     "metadata": {},
     "output_type": "display_data"
    }
   ],
   "source": [
    "test_data[\"tokens\"] = test_data.text.progress_apply(lambda x: tokenize_and_truncate(x))"
   ]
  },
  {
   "cell_type": "code",
   "execution_count": 29,
   "metadata": {
    "execution": {
     "iopub.execute_input": "2024-04-08T19:31:50.769740Z",
     "iopub.status.busy": "2024-04-08T19:31:50.768797Z",
     "iopub.status.idle": "2024-04-08T19:31:50.777100Z",
     "shell.execute_reply": "2024-04-08T19:31:50.776080Z",
     "shell.execute_reply.started": "2024-04-08T19:31:50.769703Z"
    }
   },
   "outputs": [],
   "source": [
    "class TextDatasetTest(Dataset):\n",
    "    def __init__(self, token_lists, max_token_len=512):\n",
    "        self.token_lists = token_lists\n",
    "        self.max_token_len = max_token_len\n",
    "\n",
    "    def __len__(self):\n",
    "        return len(self.token_lists)\n",
    "\n",
    "    def __getitem__(self, idx):\n",
    "        # Pad the token lists to the max length\n",
    "        token_list = self.token_lists[idx][:self.max_token_len]  # truncate if longer than max length\n",
    "        padded_tokens = token_list + [0] * (self.max_token_len - len(token_list))  # pad with zeros\n",
    "        attention_mask = [1 if i < len(token_list) else 0 for i in range(self.max_token_len)]\n",
    "        return torch.tensor(padded_tokens), torch.tensor(attention_mask)"
   ]
  },
  {
   "cell_type": "code",
   "execution_count": 30,
   "metadata": {
    "execution": {
     "iopub.execute_input": "2024-04-08T19:31:53.621140Z",
     "iopub.status.busy": "2024-04-08T19:31:53.620302Z",
     "iopub.status.idle": "2024-04-08T19:31:53.626878Z",
     "shell.execute_reply": "2024-04-08T19:31:53.625812Z",
     "shell.execute_reply.started": "2024-04-08T19:31:53.621107Z"
    }
   },
   "outputs": [],
   "source": [
    "test_dataset = TextDatasetTest(test_data[\"tokens\"].tolist())\n",
    "batch_size = 32\n",
    "test_loader = DataLoader(test_dataset, batch_size=batch_size, shuffle=False)"
   ]
  },
  {
   "cell_type": "code",
   "execution_count": 31,
   "metadata": {
    "execution": {
     "iopub.execute_input": "2024-04-08T19:31:59.349334Z",
     "iopub.status.busy": "2024-04-08T19:31:59.348870Z",
     "iopub.status.idle": "2024-04-08T19:36:57.822438Z",
     "shell.execute_reply": "2024-04-08T19:36:57.821420Z",
     "shell.execute_reply.started": "2024-04-08T19:31:59.349305Z"
    }
   },
   "outputs": [
    {
     "data": {
      "application/vnd.jupyter.widget-view+json": {
       "model_id": "276daafab526433bb61ce7f38cb4d1df",
       "version_major": 2,
       "version_minor": 0
      },
      "text/plain": [
       "  0%|          | 0/516 [00:00<?, ?it/s]"
      ]
     },
     "metadata": {},
     "output_type": "display_data"
    }
   ],
   "source": [
    "# Put model in evaluation mode\n",
    "model.eval()\n",
    "\n",
    "# Initialize lists to store true labels and predictions\n",
    "all_outputs = []\n",
    "with torch.no_grad():\n",
    "    for tokens, attention_masks in tqdm(test_loader):\n",
    "        tokens, attention_masks = tokens.to(device), attention_masks.to(device)\n",
    "\n",
    "        # Run inference\n",
    "        outputs = model(tokens, attention_mask=attention_masks)\n",
    "        all_outputs.extend(outputs.cpu().numpy())\n",
    "        # Convert outputs to predictions (binary classification)\n",
    "\n",
    "# Flatten the lists and convert to numpy arrays\n",
    "all_outputs = np.array(all_outputs).flatten()"
   ]
  },
  {
   "cell_type": "code",
   "execution_count": 33,
   "metadata": {
    "execution": {
     "iopub.execute_input": "2024-04-08T19:50:20.339809Z",
     "iopub.status.busy": "2024-04-08T19:50:20.338660Z",
     "iopub.status.idle": "2024-04-08T19:55:16.499022Z",
     "shell.execute_reply": "2024-04-08T19:55:16.498042Z",
     "shell.execute_reply.started": "2024-04-08T19:50:20.339774Z"
    }
   },
   "outputs": [
    {
     "data": {
      "application/vnd.jupyter.widget-view+json": {
       "model_id": "9ec96ea0e61340d5a282562225967d9d",
       "version_major": 2,
       "version_minor": 0
      },
      "text/plain": [
       "  0%|          | 0/516 [00:00<?, ?it/s]"
      ]
     },
     "metadata": {},
     "output_type": "display_data"
    },
    {
     "name": "stdout",
     "output_type": "stream",
     "text": [
      "Testing Accuracy: 99.75%\n",
      "Precision: 1.00\n",
      "Recall: 1.00\n",
      "F1 Score: 1.00\n"
     ]
    }
   ],
   "source": [
    "from sklearn.metrics import accuracy_score, precision_score, recall_score, f1_score\n",
    "\n",
    "# Put model in evaluation mode\n",
    "model.eval()\n",
    "\n",
    "# Initialize lists to store true labels and predictions\n",
    "all_predictions = []\n",
    "all_labels = test_data[\"generated\"].tolist()  # Assuming \"label\" is the column containing ground truth labels\n",
    "\n",
    "with torch.no_grad():\n",
    "    for tokens, attention_masks in tqdm(test_loader):\n",
    "        tokens, attention_masks = tokens.to(device), attention_masks.to(device)\n",
    "\n",
    "        # Run inference\n",
    "        outputs = model(tokens, attention_mask=attention_masks)\n",
    "\n",
    "        # Convert outputs to predictions (binary classification)\n",
    "        predictions = (outputs > 0.5).int()  # Apply threshold and convert to integers\n",
    "        all_predictions.extend(predictions.cpu().numpy())\n",
    "\n",
    "# Flatten the lists and convert to NumPy arrays\n",
    "all_predictions = np.array(all_predictions).flatten()\n",
    "\n",
    "# Calculate metrics\n",
    "accuracy = accuracy_score(all_labels, all_predictions)\n",
    "precision = precision_score(all_labels, all_predictions)\n",
    "recall = recall_score(all_labels, all_predictions)\n",
    "f1 = f1_score(all_labels, all_predictions)\n",
    "\n",
    "print(f\"Testing Accuracy: {accuracy * 100:.2f}%\")\n",
    "print(f\"Precision: {precision:.2f}\")\n",
    "print(f\"Recall: {recall:.2f}\")\n",
    "print(f\"F1 Score: {f1:.2f}\")\n"
   ]
  },
  {
   "cell_type": "code",
   "execution_count": 35,
   "metadata": {
    "execution": {
     "iopub.execute_input": "2024-04-08T19:56:31.893628Z",
     "iopub.status.busy": "2024-04-08T19:56:31.892652Z",
     "iopub.status.idle": "2024-04-08T19:56:33.332063Z",
     "shell.execute_reply": "2024-04-08T19:56:33.330967Z",
     "shell.execute_reply.started": "2024-04-08T19:56:31.893594Z"
    }
   },
   "outputs": [],
   "source": [
    "import pickle\n",
    "with open('RoBERTa_model.pkl', 'wb') as f:\n",
    "    pickle.dump(model, f)"
   ]
  },
  {
   "cell_type": "code",
   "execution_count": 37,
   "metadata": {
    "execution": {
     "iopub.execute_input": "2024-04-08T20:06:09.023391Z",
     "iopub.status.busy": "2024-04-08T20:06:09.022767Z",
     "iopub.status.idle": "2024-04-08T20:06:09.343574Z",
     "shell.execute_reply": "2024-04-08T20:06:09.342652Z",
     "shell.execute_reply.started": "2024-04-08T20:06:09.023359Z"
    }
   },
   "outputs": [
    {
     "data": {
      "image/png": "[encoded data removed]",
      "text/plain": [
       "<Figure size 800x600 with 2 Axes>"
      ]
     },
     "metadata": {},
     "output_type": "display_data"
    }
   ],
   "source": [
    "from sklearn.metrics import confusion_matrix\n",
    "cm = confusion_matrix(all_labels, all_predictions)\n",
    "plt.figure(figsize=(8, 6))\n",
    "plt.imshow(cm, interpolation='nearest', cmap=plt.cm.Blues)\n",
    "plt.title('Confusion Matrix')\n",
    "plt.colorbar()\n",
    "plt.xticks(np.arange(len(np.unique(all_labels))), np.unique(all_labels))\n",
    "plt.yticks(np.arange(len(np.unique(all_labels))), np.unique(all_labels))\n",
    "plt.xlabel('Predicted Label')\n",
    "plt.ylabel('True Label')\n",
    "plt.text(0, 0, cm[0, 0], va='center', ha='center', color='black', fontsize=14)\n",
    "# Add text for other entries in the confusion matrix\n",
    "for i in range(cm.shape[0]):\n",
    "    for j in range(cm.shape[1]):\n",
    "        plt.text(j, i, cm[i, j], va='center', ha='center', color='black', fontsize=12)\n",
    "plt.grid(False)\n",
    "plt.show()"
   ]
  },
  {
   "cell_type": "code",
   "execution_count": null,
   "metadata": {
    "execution": {
     "iopub.execute_input": "2023-11-24T16:27:45.528623Z",
     "iopub.status.busy": "2023-11-24T16:27:45.528251Z",
     "iopub.status.idle": "2023-11-24T16:27:45.538581Z",
     "shell.execute_reply": "2023-11-24T16:27:45.537613Z",
     "shell.execute_reply.started": "2023-11-24T16:27:45.528598Z"
    }
   },
   "outputs": [],
   "source": [
    "submission = pd.DataFrame({\n",
    "    'id': test_data[\"id\"],\n",
    "    'generated': all_outputs\n",
    "})\n",
    "submission"
   ]
  },
  {
   "cell_type": "code",
   "execution_count": null,
   "metadata": {
    "execution": {
     "iopub.execute_input": "2023-11-24T16:27:46.61615Z",
     "iopub.status.busy": "2023-11-24T16:27:46.615251Z",
     "iopub.status.idle": "2023-11-24T16:27:46.622536Z",
     "shell.execute_reply": "2023-11-24T16:27:46.621537Z",
     "shell.execute_reply.started": "2023-11-24T16:27:46.61611Z"
    }
   },
   "outputs": [],
   "source": [
    "submission.to_csv(\"submission.csv\", index=False)"
   ]
  }
 ],
 "metadata": {
  "kaggle": {
   "accelerator": "nvidiaTeslaT4",
   "dataSources": [
    {
     "databundleVersionId": 7516023,
     "sourceId": 61542,
     "sourceType": "competition"
    },
    {
     "datasetId": 575905,
     "sourceId": 2795202,
     "sourceType": "datasetVersion"
    },
    {
     "datasetId": 4005256,
     "sourceId": 6977472,
     "sourceType": "datasetVersion"
    },
    {
     "datasetId": 4053164,
     "sourceId": 7044093,
     "sourceType": "datasetVersion"
    },
    {
     "datasetId": 4757295,
     "sourceId": 8064073,
     "sourceType": "datasetVersion"
    }
   ],
   "isGpuEnabled": true,
   "isInternetEnabled": false,
   "language": "python",
   "sourceType": "notebook"
  },
  "kernelspec": {
   "display_name": "Python 3 (ipykernel)",
   "language": "python",
   "name": "python3"
  },
  "language_info": {
   "codemirror_mode": {
    "name": "ipython",
    "version": 3
   },
   "file_extension": ".py",
   "mimetype": "text/x-python",
   "name": "python",
   "nbconvert_exporter": "python",
   "pygments_lexer": "ipython3",
   "version": "3.11.7"
  }
 },
 "nbformat": 4,
 "nbformat_minor": 4
}
